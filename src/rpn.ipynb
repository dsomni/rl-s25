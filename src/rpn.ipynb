{
 "cells": [
  {
   "cell_type": "markdown",
   "metadata": {},
   "source": [
    "# Reverse Polish Notation"
   ]
  },
  {
   "cell_type": "code",
   "execution_count": 5,
   "metadata": {},
   "outputs": [],
   "source": [
    "from typing import Callable"
   ]
  },
  {
   "cell_type": "markdown",
   "metadata": {},
   "source": [
    "## Numbers"
   ]
  },
  {
   "cell_type": "code",
   "execution_count": 3,
   "metadata": {},
   "outputs": [
    {
     "name": "stdout",
     "output_type": "stream",
     "text": [
      "Infix Expression: (((3 + 4) * 2) / (--7))\n"
     ]
    }
   ],
   "source": [
    "unary: set = {\"--\"}\n",
    "binary: set = {\"+\", \"-\", \"*\", \"/\"}\n",
    "\n",
    "\n",
    "def simple_rpn_to_infix(expression: list):\n",
    "    global unary, binary\n",
    "    stack = []\n",
    "\n",
    "    for token in expression:\n",
    "        if token.isdigit():\n",
    "            # Push number onto the stack\n",
    "            stack.append(token)\n",
    "            continue\n",
    "        if token in binary:\n",
    "            operand2 = stack.pop()\n",
    "            operand1 = stack.pop()\n",
    "            stack.append(f\"({operand1} {token} {operand2})\")\n",
    "            continue\n",
    "        if token in unary:\n",
    "            operand = stack.pop()\n",
    "            stack.append(f\"({token}{operand})\")\n",
    "\n",
    "    return stack[0]\n",
    "\n",
    "\n",
    "rpn_expression = \"3 4 + 2 * 7 -- /\"\n",
    "infix_expression = simple_rpn_to_infix(rpn_expression.split())\n",
    "print(\"Infix Expression:\", infix_expression)"
   ]
  },
  {
   "cell_type": "markdown",
   "metadata": {},
   "source": [
    "## RegEx"
   ]
  },
  {
   "cell_type": "code",
   "execution_count": 22,
   "metadata": {},
   "outputs": [
    {
     "name": "stdout",
     "output_type": "stream",
     "text": [
      "Infix Expression: [(bc)(a)]\n"
     ]
    }
   ],
   "source": [
    "def unary_lambda(symbol: str) -> Callable[[str], str]:\n",
    "    return lambda a: f\"({a}){symbol}\"\n",
    "\n",
    "\n",
    "letters = \"abcdefghijklmnopqrstuvwxyz\"\n",
    "digits = \"0123456789\"\n",
    "\n",
    "quantifiers: set[str] = {\"*\", \"+\", \"?\"}\n",
    "\n",
    "unary_regex: dict[str, Callable[[str], str]] = {\n",
    "    **{symbol: unary_lambda(symbol) for symbol in quantifiers},\n",
    "    **{symbol: unary_lambda(f\"{symbol}?\") for symbol in quantifiers},  # greedy versions\n",
    "}\n",
    "binary_regex: dict[str, Callable[[str, str], str]] = {\n",
    "    \"concat\": lambda a, b: a + b,  # concatenation\n",
    "    \"|\": lambda a, b: f\"{a}|{b}\",\n",
    "}\n",
    "many_to_one_regex: dict[str, Callable[[list[str]], str]] = {\n",
    "    \"[]\": lambda a: \"[\" + \"\".join([f\"({x})\" for x in a]) + \"]\"  # set\n",
    "}\n",
    "\n",
    "operands_regex: set[str] = {\n",
    "    \".\",\n",
    "    \"^\",\n",
    "    \"$\",\n",
    "    *letters,\n",
    "    *letters.upper(),\n",
    "    *digits,\n",
    "    *[f\"\\\\{s}\" for s in quantifiers],\n",
    "}\n",
    "\n",
    "\n",
    "def rpn_to_infix_regex(expression: list):\n",
    "    global unary_regex, binary_regex, operands_regex\n",
    "    stack = []\n",
    "\n",
    "    for token in expression:\n",
    "        if token in many_to_one_regex:\n",
    "            stack = [many_to_one_regex[token](list(reversed(stack)))]\n",
    "            continue\n",
    "\n",
    "        if token in binary_regex:\n",
    "            operand2 = stack.pop()\n",
    "            operand1 = stack.pop()\n",
    "            stack.append(binary_regex[token](operand1, operand2))\n",
    "            continue\n",
    "        if token in unary_regex:\n",
    "            operand = stack.pop()\n",
    "            stack.append(f\"({token}{operand})\")\n",
    "            continue\n",
    "        if token in operands_regex:\n",
    "            stack.append(token)\n",
    "            continue\n",
    "        raise RuntimeError(f\"Operand '{token}' is unknown\")\n",
    "\n",
    "    return stack[0]\n",
    "\n",
    "\n",
    "rpn_expression_regex = [\"a\", \"b\", \"c\", \"concat\", \"[]\"]\n",
    "infix_expression_regex = rpn_to_infix_regex(rpn_expression_regex)\n",
    "print(\"Infix Expression:\", infix_expression_regex)"
   ]
  }
 ],
 "metadata": {
  "kernelspec": {
   "display_name": ".venv",
   "language": "python",
   "name": "python3"
  },
  "language_info": {
   "codemirror_mode": {
    "name": "ipython",
    "version": 3
   },
   "file_extension": ".py",
   "mimetype": "text/x-python",
   "name": "python",
   "nbconvert_exporter": "python",
   "pygments_lexer": "ipython3",
   "version": "3.12.4"
  }
 },
 "nbformat": 4,
 "nbformat_minor": 2
}
