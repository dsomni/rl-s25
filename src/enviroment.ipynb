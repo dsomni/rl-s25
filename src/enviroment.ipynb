{
 "cells": [
  {
   "cell_type": "code",
   "execution_count": 1,
   "id": "703802b3",
   "metadata": {},
   "outputs": [],
   "source": [
    "from typing import Callable"
   ]
  },
  {
   "cell_type": "code",
   "execution_count": 4,
   "id": "4192a18e",
   "metadata": {},
   "outputs": [],
   "source": [
    "unary: set = {\"--\"}\n",
    "binary: set = {\"+\", \"-\", \"*\", \"/\"}\n",
    "\n",
    "\n",
    "def simple_rpn_to_infix(expression: list):\n",
    "    global unary, binary\n",
    "    stack = []\n",
    "\n",
    "    for token in expression:\n",
    "        if token.isdigit():\n",
    "            # Push number onto the stack\n",
    "            stack.append(token)\n",
    "            continue\n",
    "        if token in binary:\n",
    "            operand2 = stack.pop()\n",
    "            operand1 = stack.pop()\n",
    "            stack.append(f\"({operand1} {token} {operand2})\")\n",
    "            continue\n",
    "        if token in unary:\n",
    "            operand = stack.pop()\n",
    "            stack.append(f\"({token}{operand})\")\n",
    "\n",
    "    return stack[0]\n",
    "\n"
   ]
  },
  {
   "cell_type": "code",
   "execution_count": 5,
   "id": "99ac21ba",
   "metadata": {},
   "outputs": [],
   "source": [
    "def unary_lambda(symbol: str) -> Callable[[str], str]:\n",
    "    return lambda a: f\"({a}){symbol}\"\n",
    "\n",
    "\n",
    "letters = \"abcdefghijklmnopqrstuvwxyz\"\n",
    "digits = \"0123456789\"\n",
    "\n",
    "quantifiers: set[str] = {\"*\", \"+\", \"?\"}\n",
    "\n",
    "unary_regex: dict[str, Callable[[str], str]] = {\n",
    "    **{symbol: unary_lambda(symbol) for symbol in quantifiers},\n",
    "    **{symbol: unary_lambda(f\"{symbol}?\") for symbol in quantifiers},  # greedy versions\n",
    "}\n",
    "binary_regex: dict[str, Callable[[str, str], str]] = {\n",
    "    \"concat\": lambda a, b: a + b,  # concatenation\n",
    "    \"|\": lambda a, b: f\"{a}|{b}\",\n",
    "}\n",
    "many_to_one_regex: dict[str, Callable[[list[str]], str]] = {\n",
    "    \"[]\": lambda a: \"[\" + \"\".join([f\"({x})\" for x in a]) + \"]\"  # set\n",
    "}\n",
    "\n",
    "specials_regex: set[str] = {    \".\",\n",
    "    \"^\",\n",
    "    \"$\",}\n",
    "\n",
    "operands_regex: set[str] = {\n",
    "*specials_regex,\n",
    "*[f\"\\\\{s}\" for s in specials_regex],\n",
    "    *letters,\n",
    "    *letters.upper(),\n",
    "    *digits,\n",
    "    *[f\"\\\\{s}\" for s in quantifiers],\n",
    "}\n",
    "\n",
    "\n",
    "def rpn_to_infix_regex(expression: list):\n",
    "    global unary_regex, binary_regex, operands_regex, many_to_one_regex\n",
    "    stack = []\n",
    "\n",
    "    for token in expression:\n",
    "        if token in many_to_one_regex:\n",
    "            stack = [many_to_one_regex[token](list(reversed(stack)))]\n",
    "            continue\n",
    "\n",
    "        if token in binary_regex:\n",
    "            operand2 = stack.pop()\n",
    "            operand1 = stack.pop()\n",
    "            stack.append(binary_regex[token](operand1, operand2))\n",
    "            continue\n",
    "        if token in unary_regex:\n",
    "            operand = stack.pop()\n",
    "            stack.append(f\"({token}{operand})\")\n",
    "            continue\n",
    "        if token in operands_regex:\n",
    "            stack.append(token)\n",
    "            continue\n",
    "        raise RuntimeError(f\"Operand '{token}' is unknown\")\n",
    "\n",
    "    return stack[0]\n",
    "\n",
    "\n",
    "rpn_expression_regex = [\"a\", \"b\", \"c\", \"concat\", \"[]\"]\n",
    "infix_expression_regex = rpn_to_infix_regex(rpn_expression_regex)"
   ]
  },
  {
   "cell_type": "code",
   "execution_count": 6,
   "id": "96e991d5",
   "metadata": {},
   "outputs": [],
   "source": [
    "actions = operands_regex\n",
    "actions =actions.union(set(binary_regex.keys()))\n",
    "actions =actions.union(set(unary_regex.keys()))\n",
    "actions =actions.union(set(many_to_one_regex.keys()))"
   ]
  },
  {
   "cell_type": "code",
   "execution_count": 7,
   "id": "6a60bc2c",
   "metadata": {},
   "outputs": [],
   "source": [
    "import re"
   ]
  },
  {
   "cell_type": "code",
   "execution_count": null,
   "id": "c0bb8f9c",
   "metadata": {},
   "outputs": [],
   "source": [
    "class Environment:\n",
    "    def __init__(self, text, target, action_space):\n",
    "        self.text = text\n",
    "        self.target = target\n",
    "        self.action_space = action_space\n",
    "\n",
    "    def get_reward(self, regexp):\n",
    "        array =  [x.span() for x in re.finditer(regexp, self.text)]\n",
    "        bit_mask = [0 for _ in range(len(self.text))]\n",
    "\n",
    "        for it in  array:\n",
    "            for i in range(it[0], it[1]):\n",
    "                bit_mask[i] = 1\n",
    "\n",
    "\n",
    "        \n",
    "\n"
   ]
  },
  {
   "cell_type": "code",
   "execution_count": 26,
   "id": "e064ebe9",
   "metadata": {},
   "outputs": [
    {
     "data": {
      "text/plain": [
       "[1, 1, 1, 0, 0, 0, 1, 1, 0]"
      ]
     },
     "execution_count": 26,
     "metadata": {},
     "output_type": "execute_result"
    }
   ],
   "source": [
    "env = Environment(\"123   78 \", \"123\", 10)\n",
    "\n",
    "env.get_reward(\"[1-9]\")"
   ]
  },
  {
   "cell_type": "code",
   "execution_count": null,
   "id": "77a58bed",
   "metadata": {},
   "outputs": [],
   "source": []
  }
 ],
 "metadata": {
  "kernelspec": {
   "display_name": ".venv",
   "language": "python",
   "name": "python3"
  },
  "language_info": {
   "codemirror_mode": {
    "name": "ipython",
    "version": 3
   },
   "file_extension": ".py",
   "mimetype": "text/x-python",
   "name": "python",
   "nbconvert_exporter": "python",
   "pygments_lexer": "ipython3",
   "version": "3.12.8"
  }
 },
 "nbformat": 4,
 "nbformat_minor": 5
}
