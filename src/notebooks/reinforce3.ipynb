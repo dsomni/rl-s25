{
 "cells": [
  {
   "cell_type": "markdown",
   "id": "acebe6ac",
   "metadata": {},
   "source": [
    "# REINFORCE Algorithm test"
   ]
  },
  {
   "cell_type": "code",
   "execution_count": 23,
   "id": "36a63ffd",
   "metadata": {},
   "outputs": [
    {
     "name": "stdout",
     "output_type": "stream",
     "text": [
      "The autoreload extension is already loaded. To reload it, use:\n",
      "  %reload_ext autoreload\n"
     ]
    }
   ],
   "source": [
    "%load_ext autoreload\n",
    "%autoreload 2"
   ]
  },
  {
   "cell_type": "code",
   "execution_count": 24,
   "id": "c6452252",
   "metadata": {},
   "outputs": [
    {
     "data": {
      "text/plain": [
       "device(type='cpu')"
      ]
     },
     "execution_count": 24,
     "metadata": {},
     "output_type": "execute_result"
    }
   ],
   "source": [
    "import logging\n",
    "import os\n",
    "import random\n",
    "import sys\n",
    "import warnings\n",
    "from itertools import accumulate\n",
    "\n",
    "import numpy as np\n",
    "import torch\n",
    "import torch.nn as nn\n",
    "import torch.nn.functional as F\n",
    "import torch.optim as optim\n",
    "from tqdm import tqdm\n",
    "\n",
    "ROOT_FOLDER = os.path.join(\".\", \"..\")\n",
    "if ROOT_FOLDER not in sys.path:\n",
    "    sys.path.insert(0, ROOT_FOLDER)\n",
    "\n",
    "\n",
    "from dataset import RegexDataset\n",
    "from environment_metrics import Environment, EnvSettings\n",
    "\n",
    "warnings.filterwarnings(\"ignore\")\n",
    "logging.disable(logging.WARNING)\n",
    "torch.backends.cudnn.deterministic = True\n",
    "DEVICE = torch.device(\"cuda\" if torch.cuda.is_available() else \"cpu\")\n",
    "DEVICE"
   ]
  },
  {
   "cell_type": "markdown",
   "id": "90716482",
   "metadata": {},
   "source": [
    "## Utils"
   ]
  },
  {
   "cell_type": "code",
   "execution_count": 25,
   "id": "df813811",
   "metadata": {},
   "outputs": [],
   "source": [
    "def set_seed(seed: int = 420):\n",
    "    random.seed(seed)\n",
    "    np.random.seed(seed)\n",
    "    torch.manual_seed(seed)\n",
    "    if torch.cuda.is_available():\n",
    "        torch.cuda.manual_seed(seed)"
   ]
  },
  {
   "cell_type": "markdown",
   "id": "3a8a90f2",
   "metadata": {},
   "source": [
    "## Dataset"
   ]
  },
  {
   "cell_type": "code",
   "execution_count": 26,
   "id": "922307e8",
   "metadata": {},
   "outputs": [
    {
     "name": "stdout",
     "output_type": "stream",
     "text": [
      "('a2d', [0, 1, 0], 1)\n",
      "('2bb', [1, 0, 0], 1)\n",
      "('a2d', [0, 1, 0], 1)\n",
      "('2bb', [1, 0, 0], 1)\n",
      "('2bb', [1, 0, 0], 1)\n",
      "('a2d', [0, 1, 0], 1)\n",
      "('2bb', [1, 0, 0], 1)\n",
      "('a2d', [0, 1, 0], 1)\n",
      "('a2d', [0, 1, 0], 1)\n",
      "('2bb', [1, 0, 0], 1)\n"
     ]
    }
   ],
   "source": [
    "dataset = RegexDataset([\"a2d\", \"2bb\"], r\"\\d+\")\n",
    "data_iter = dataset.create_iterator()\n",
    "\n",
    "for i in range(10):\n",
    "    print(next(data_iter))"
   ]
  },
  {
   "cell_type": "markdown",
   "id": "bb28738e",
   "metadata": {},
   "source": [
    "## Environment"
   ]
  },
  {
   "cell_type": "code",
   "execution_count": 27,
   "id": "83bb3ce4",
   "metadata": {},
   "outputs": [
    {
     "data": {
      "text/plain": [
       "101"
      ]
     },
     "execution_count": 27,
     "metadata": {},
     "output_type": "execute_result"
    }
   ],
   "source": [
    "env = Environment(dataset, settings=EnvSettings(max_steps=10))\n",
    "\n",
    "env.action_space"
   ]
  },
  {
   "cell_type": "code",
   "execution_count": 28,
   "id": "3967b5d2",
   "metadata": {},
   "outputs": [
    {
     "data": {
      "text/plain": [
       "10"
      ]
     },
     "execution_count": 28,
     "metadata": {},
     "output_type": "execute_result"
    }
   ],
   "source": [
    "env.state_space"
   ]
  },
  {
   "cell_type": "code",
   "execution_count": 29,
   "id": "a7dd245d",
   "metadata": {},
   "outputs": [
    {
     "name": "stdout",
     "output_type": "stream",
     "text": [
      "action=72\n",
      "(array([0.71287129, 1.        , 1.        , 1.        , 1.        ,\n",
      "       1.        , 1.        , 1.        , 1.        , 1.        ]), 0, False)\n",
      "action=6\n",
      "(array([0.71287129, 0.05940594, 1.        , 1.        , 1.        ,\n",
      "       1.        , 1.        , 1.        , 1.        , 1.        ]), 0, False)\n",
      "action=63\n",
      "(array([0.71287129, 0.05940594, 0.62376238, 1.        , 1.        ,\n",
      "       1.        , 1.        , 1.        , 1.        , 1.        ]), 0, False)\n",
      "action=31\n",
      "(array([0.71287129, 0.05940594, 0.62376238, 0.30693069, 1.        ,\n",
      "       1.        , 1.        , 1.        , 1.        , 1.        ]), 0, False)\n",
      "action=46\n",
      "(array([0.71287129, 0.05940594, 0.62376238, 0.30693069, 0.45544554,\n",
      "       1.        , 1.        , 1.        , 1.        , 1.        ]), 0, False)\n",
      "action=57\n",
      "(array([0.71287129, 0.05940594, 0.62376238, 0.30693069, 0.45544554,\n",
      "       0.56435644, 1.        , 1.        , 1.        , 1.        ]), 0, False)\n"
     ]
    }
   ],
   "source": [
    "state = env.reset()\n",
    "for _ in range(6):\n",
    "    action = np.random.randint(env.action_space)\n",
    "    print(f\"{action=}\")\n",
    "    print(env.step(action))"
   ]
  },
  {
   "cell_type": "markdown",
   "id": "91b87793",
   "metadata": {},
   "source": [
    "## REINFORCE"
   ]
  },
  {
   "cell_type": "code",
   "execution_count": 30,
   "id": "053f7cb9",
   "metadata": {},
   "outputs": [],
   "source": [
    "def calculate_qvals(\n",
    "    rewards: list[float] | np.ndarray, gamma: float = 1, reward_steps: int = 0\n",
    ") -> np.ndarray:\n",
    "    rw_steps = reward_steps if reward_steps != 0 else len(rewards)\n",
    "\n",
    "    return np.array(\n",
    "        [\n",
    "            list(\n",
    "                accumulate(\n",
    "                    reversed(rewards[i : i + rw_steps]), lambda x, y: gamma * x + y\n",
    "                )\n",
    "            )[-1]\n",
    "            for i in range(len(rewards))\n",
    "        ]\n",
    "    )"
   ]
  },
  {
   "cell_type": "code",
   "execution_count": 31,
   "id": "b5d652a9",
   "metadata": {},
   "outputs": [],
   "source": [
    "class PGN(nn.Module):\n",
    "    def __init__(\n",
    "        self,\n",
    "        input_dim: int = env.state_space,\n",
    "        output_dim: int = env.action_space,\n",
    "        hidden_dim: int = 64,\n",
    "    ) -> None:\n",
    "        super(PGN, self).__init__()\n",
    "\n",
    "        self.net = nn.Sequential(\n",
    "            nn.Linear(input_dim, hidden_dim),\n",
    "            nn.Tanh(),\n",
    "            nn.Linear(64, 128),\n",
    "            nn.Tanh(),\n",
    "            nn.Linear(128, 64),\n",
    "            nn.Tanh(),\n",
    "            nn.Linear(64,128),\n",
    "            nn.Tanh(),\n",
    "            nn.Linear(128, output_dim),\n",
    "        )\n",
    "\n",
    "    def forward(self, x):\n",
    "        return self.net(x)"
   ]
  },
  {
   "cell_type": "markdown",
   "id": "7341ee6f",
   "metadata": {},
   "source": [
    "## Agent"
   ]
  },
  {
   "cell_type": "code",
   "execution_count": 32,
   "id": "dfd5051c",
   "metadata": {},
   "outputs": [],
   "source": [
    "class Agent:\n",
    "    def choose_action(self, action_logits: torch.Tensor):\n",
    "        return np.random.choice(\n",
    "            range(len(action_logits)), size=1, p=F.softmax(action_logits, dim=0).numpy()\n",
    "        )[0]\n",
    "    def choose_random(self, action_logits):\n",
    "        return np.random.choice(range(len(action_logits)))\n",
    "\n",
    "    def choose_optimal_action(self, action_logits: torch.Tensor) -> int:\n",
    "        return int(np.argmax(F.softmax(action_logits, dim=0).cpu()).item())"
   ]
  },
  {
   "cell_type": "markdown",
   "id": "51bcb88c",
   "metadata": {},
   "source": [
    "## Trajectory Buffer"
   ]
  },
  {
   "cell_type": "code",
   "execution_count": 33,
   "id": "40a580c1",
   "metadata": {},
   "outputs": [],
   "source": [
    "class TrajectoryBuffer:\n",
    "    \"\"\"\n",
    "    Buffer class to store the experience from a unique policy\n",
    "    \"\"\"\n",
    "\n",
    "    def _batch(self, iterable):\n",
    "        ln = len(iterable)\n",
    "        for ndx in range(0, ln, self.batch_size):\n",
    "            yield iterable[ndx : min(ndx + self.batch_size, ln)]\n",
    "\n",
    "    def __init__(self, batch_size: int = 64):\n",
    "        self.batch_size = batch_size\n",
    "        self.clean()\n",
    "\n",
    "    def clean(self):\n",
    "        self.states = []\n",
    "        self.actions = []\n",
    "        self.rewards = []\n",
    "        self.discounted_rewards = []\n",
    "\n",
    "    def store(\n",
    "        self,\n",
    "        states_trajectory: np.ndarray,\n",
    "        trajectory: np.ndarray,\n",
    "    ):\n",
    "        \"\"\"\n",
    "        Add trajectory values to the buffers and compute the advantage and reward to go\n",
    "\n",
    "        Parameters:\n",
    "        -----------\n",
    "        states_trajectory:  list that contains states\n",
    "        trajectory: list where each element is a list that contains: reward, action\n",
    "        \"\"\"\n",
    "        assert len(states_trajectory) == len(trajectory)\n",
    "\n",
    "        if len(states_trajectory) > 0:\n",
    "            self.states.extend(states_trajectory)\n",
    "            self.rewards.extend(trajectory[:, 0])\n",
    "            self.actions.extend(trajectory[:, 1])\n",
    "\n",
    "            self.discounted_rewards.extend(calculate_qvals(trajectory[:, 0]))\n",
    "\n",
    "    def get_batches(self, mean_baseline: bool):\n",
    "        if mean_baseline:\n",
    "            mean_rewards = np.mean(self.discounted_rewards)\n",
    "        else:\n",
    "            mean_rewards = 0\n",
    "\n",
    "        for states_batch, actions_batch, discounted_rewards_batch in zip(\n",
    "            self._batch(self.states),\n",
    "            self._batch(self.actions),\n",
    "            self._batch(self.discounted_rewards),\n",
    "        ):\n",
    "            mean_reward = (discounted_rewards_batch - np.mean(discounted_rewards_batch))  / (np.std(discounted_rewards_batch) + 1e-8)\n",
    "            yield (\n",
    "                torch.tensor(states_batch, dtype=torch.float32, device=DEVICE),\n",
    "                torch.tensor(actions_batch, dtype=torch.long, device=DEVICE),\n",
    "                torch.tensor(\n",
    "                    np.array(discounted_rewards_batch) - mean_rewards,\n",
    "                    dtype=torch.float,\n",
    "                    device=DEVICE,\n",
    "                ),\n",
    "            )\n",
    "\n",
    "    def __len__(self):\n",
    "        return len(self.states)"
   ]
  },
  {
   "cell_type": "markdown",
   "id": "47d81125",
   "metadata": {},
   "source": [
    "## Evaluation"
   ]
  },
  {
   "cell_type": "markdown",
   "id": "c9c3411e",
   "metadata": {},
   "source": [
    "TBD: generate one Regex and test it on dataset"
   ]
  },
  {
   "cell_type": "code",
   "execution_count": 34,
   "id": "0f5e32be",
   "metadata": {},
   "outputs": [],
   "source": [
    "def evaluate(\n",
    "    pgn_net: nn.Module,\n",
    "    env: Environment,\n",
    "    agent: Agent,\n",
    "    verbose: bool = True,\n",
    ") -> tuple[str, float]:\n",
    "\n",
    "    pgn_net.eval()\n",
    "    max_steps =  env.settings.max_steps\n",
    "    state = env.reset()\n",
    "    regex_actions = []\n",
    "    total_reward = 0.0\n",
    "    done = False\n",
    "    \n",
    "    with torch.no_grad():\n",
    "        for _ in range(max_steps):\n",
    "            state_tensor = torch.tensor(state, dtype=torch.float32, device=DEVICE)\n",
    "            action_logits = pgn_net(state_tensor)\n",
    "            \n",
    "           \n",
    "            action = agent.choose_optimal_action(action_logits)\n",
    "            regex_actions.append(env.idx_to_action(action))\n",
    "            \n",
    "           \n",
    "            next_state, reward, done = env.step(action)\n",
    "            total_reward += reward\n",
    "            \n",
    "            if done:\n",
    "                break\n",
    "            state = next_state\n",
    "\n",
    "    if regex_actions and regex_actions[-1] == env._finish_action:\n",
    "        regex_actions = regex_actions[:-1]\n",
    "    \n",
    "    try:\n",
    "        regex = env.rpn.to_infix(regex_actions)\n",
    "    except Exception as e:\n",
    "        regex = f\"Invalid: {regex_actions}\"\n",
    "    \n",
    "    if verbose:\n",
    "        print(f\"Generated regex: {regex}\")\n",
    "        print(f\"Total reward: {total_reward:.2f}\")\n",
    "    \n",
    "    return regex, total_reward"
   ]
  },
  {
   "cell_type": "markdown",
   "id": "f15ed7e2",
   "metadata": {},
   "source": [
    "## Training"
   ]
  },
  {
   "cell_type": "code",
   "execution_count": 35,
   "id": "d33e88c1",
   "metadata": {},
   "outputs": [],
   "source": [
    "def train_loop(\n",
    "    pgn_net: nn.Module,\n",
    "    pgn_optimizer: optim.Optimizer,\n",
    "    agent: Agent,\n",
    "    buffer: TrajectoryBuffer,\n",
    "    epochs: int,\n",
    "    episodes: int,\n",
    "    mean_baseline: bool = True,\n",
    "    entropy_beta: float = 1,\n",
    "):\n",
    "    arr_rewards = []\n",
    "    pgn_net.train()\n",
    "    for i in range(1, epochs + 1):\n",
    "        buffer.clean()\n",
    "        state = env.reset()\n",
    "        done_episodes = 0\n",
    "        ep_states_buf, ep_rew_act_buf = [], []\n",
    "        reg_exp = []\n",
    "        train_rewards = []\n",
    "\n",
    "        epoch_loop = tqdm(total=episodes, desc=f\"Epoch #{i}\", position=0, disable=True)\n",
    "\n",
    "        while done_episodes < episodes:\n",
    "            state_tensor = torch.tensor(state, dtype=torch.float32, device=DEVICE)\n",
    "\n",
    "            with torch.no_grad():\n",
    "                action_logits = pgn_net(state_tensor)\n",
    "\n",
    "            # if i < epochs // 5:\n",
    "            #     action = agent.choose_random(action_logits)\n",
    "            # else:\n",
    "            \n",
    "            # mx = torch.max(torch.abs(action_logits))\n",
    "            t = 1/np.sqrt(i)\n",
    "            \n",
    "            action = agent.choose_action(action_logits/t)\n",
    "                \n",
    "            \n",
    "            next_state, reward, done = env.step(action)\n",
    "            \n",
    "            reg_exp.append(env.idx_to_action(action))\n",
    "\n",
    "            ep_states_buf.append(state)\n",
    "            ep_rew_act_buf.append([reward, int(action)])\n",
    "\n",
    "            state = next_state\n",
    "            if done:\n",
    "                buffer.store(\n",
    "                    np.array(ep_states_buf),\n",
    "                    np.array(ep_rew_act_buf),\n",
    "                )\n",
    "\n",
    "                ep_states_buf, ep_rew_act_buf = [], []\n",
    "\n",
    "                train_rewards.append(reward)\n",
    "                arr_rewards.append(train_rewards)\n",
    "                done_episodes += 1\n",
    "                epoch_loop.update(1)\n",
    "\n",
    "        losses = []\n",
    "        for batch in buffer.get_batches(mean_baseline):\n",
    "            pgn_optimizer.zero_grad()\n",
    "            (\n",
    "                state_batch,\n",
    "                action_batch,\n",
    "                reward_batch,\n",
    "            ) = batch\n",
    "           \n",
    "\n",
    "            logits_v = pgn_net(state_batch)\n",
    "\n",
    "            log_prob_v = F.log_softmax(logits_v , dim=1)\n",
    "\n",
    "            log_prob_actions_v = (\n",
    "                reward_batch * log_prob_v[range(len(state_batch)), action_batch]\n",
    "            )\n",
    "            loss_policy_v = -log_prob_actions_v.mean()\n",
    "\n",
    "            prob_v = F.softmax(logits_v, dim=1)\n",
    "            entropy_v = -(prob_v * log_prob_v).sum(dim=1).mean()\n",
    "            entropy_loss_v = entropy_beta * entropy_v\n",
    "            loss_v = loss_policy_v - entropy_loss_v\n",
    "\n",
    "            loss_v.backward()\n",
    "\n",
    "            pgn_optimizer.step()\n",
    "\n",
    "            losses.append(loss_v.item())\n",
    "            # return\n",
    "\n",
    "        print(\n",
    "            f\"Epoch {i: >3}/{epochs}:\\tMean reward: {np.mean(train_rewards):.3f}\\tMean Loss: {np.mean(losses):.3f}\"\n",
    "        )\n",
    "    return arr_rewards"
   ]
  },
  {
   "cell_type": "code",
   "execution_count": 36,
   "id": "af9b2ad3",
   "metadata": {},
   "outputs": [],
   "source": [
    "set_seed()\n",
    "env = Environment(\n",
    "    RegexDataset([\"a23c\", \"23cc\", \"aa23\"], r\"\\d+\"), settings=EnvSettings(max_steps=10)\n",
    ")\n",
    "#, \"b6J\", \"G1S\", \"pp3\", \"km9\", \"mb4\", \"o70\", \"pi5\"\n",
    "agent = Agent()\n",
    "buffer = TrajectoryBuffer(batch_size=32)\n",
    "\n",
    "pgn_net = PGN(input_dim=env.state_space).to(DEVICE)\n",
    "# pgn_optimizer = optim.SGD(pgn_net.parameters(), lr=1e-3, nesterov=True, momentum=0.99)\n",
    "pgn_optimizer = optim.Adam(pgn_net.parameters(), lr=1e-4)"
   ]
  },
  {
   "cell_type": "code",
   "execution_count": 37,
   "id": "5f287c34",
   "metadata": {},
   "outputs": [
    {
     "name": "stdout",
     "output_type": "stream",
     "text": [
      "Epoch   1/30:\tMean reward: -7.814\tMean Loss: -4.627\n",
      "Epoch   2/30:\tMean reward: -6.919\tMean Loss: -4.627\n",
      "Epoch   3/30:\tMean reward: -5.874\tMean Loss: -4.771\n",
      "Epoch   4/30:\tMean reward: -3.932\tMean Loss: -4.730\n",
      "Epoch   5/30:\tMean reward: -4.705\tMean Loss: -4.658\n",
      "Epoch   6/30:\tMean reward: -3.668\tMean Loss: -4.576\n",
      "Epoch   7/30:\tMean reward: -3.882\tMean Loss: -4.702\n",
      "Epoch   8/30:\tMean reward: -3.127\tMean Loss: -4.670\n",
      "Epoch   9/30:\tMean reward: -3.695\tMean Loss: -4.582\n",
      "Epoch  10/30:\tMean reward: -3.613\tMean Loss: -4.878\n",
      "Epoch  11/30:\tMean reward: -3.879\tMean Loss: -4.579\n",
      "Epoch  12/30:\tMean reward: -4.647\tMean Loss: -5.034\n",
      "Epoch  13/30:\tMean reward: -5.018\tMean Loss: -4.567\n",
      "Epoch  14/30:\tMean reward: -1.116\tMean Loss: -4.987\n",
      "Epoch  15/30:\tMean reward: -8.023\tMean Loss: -4.625\n",
      "Epoch  16/30:\tMean reward: -4.773\tMean Loss: -4.625\n",
      "Epoch  17/30:\tMean reward: -4.139\tMean Loss: -4.740\n",
      "Epoch  18/30:\tMean reward: 9.160\tMean Loss: -13.297\n",
      "Epoch  19/30:\tMean reward: -5.000\tMean Loss: -2.863\n",
      "Epoch  20/30:\tMean reward: -4.919\tMean Loss: -4.013\n",
      "Epoch  21/30:\tMean reward: -2.831\tMean Loss: -3.709\n",
      "Epoch  22/30:\tMean reward: 44.330\tMean Loss: -12.017\n",
      "Epoch  23/30:\tMean reward: -5.000\tMean Loss: -4.060\n",
      "Epoch  24/30:\tMean reward: 0.319\tMean Loss: -9.345\n",
      "Epoch  25/30:\tMean reward: 6.159\tMean Loss: -17.551\n",
      "Epoch  26/30:\tMean reward: 21.561\tMean Loss: -22.527\n",
      "Epoch  27/30:\tMean reward: 134.463\tMean Loss: -3.419\n",
      "Epoch  28/30:\tMean reward: 134.573\tMean Loss: -3.538\n",
      "Epoch  29/30:\tMean reward: 134.442\tMean Loss: -3.780\n",
      "Epoch  30/30:\tMean reward: 134.463\tMean Loss: -3.713\n"
     ]
    }
   ],
   "source": [
    "train_rewars = train_loop(\n",
    "    pgn_net, pgn_optimizer, agent, buffer, mean_baseline=True, epochs=30, episodes=1000\n",
    ")"
   ]
  },
  {
   "cell_type": "code",
   "execution_count": 38,
   "id": "bf87e38f",
   "metadata": {},
   "outputs": [
    {
     "name": "stdout",
     "output_type": "stream",
     "text": [
      "Generated regex: [^(a)(a)(a)(a)(a)(a)(a)(a)(a)]\n",
      "Total reward: 97.83\n",
      "Final regex: [^(a)(a)(a)(a)(a)(a)(a)(a)(a)]\n"
     ]
    }
   ],
   "source": [
    "env_eval = Environment(\n",
    "    RegexDataset([\"a23c\"], r\"\\d+\"),  \n",
    "    settings=EnvSettings( max_steps  = env.state_space, full_match_bonus=100)\n",
    ")\n",
    "\n",
    "best_regex, reward = evaluate(pgn_net, env_eval, agent)\n",
    "print(f\"Final regex: {best_regex}\")"
   ]
  },
  {
   "cell_type": "code",
   "execution_count": 39,
   "id": "698f905c",
   "metadata": {},
   "outputs": [],
   "source": [
    "import matplotlib.pyplot as plt"
   ]
  },
  {
   "cell_type": "code",
   "execution_count": 40,
   "id": "9d2524d8",
   "metadata": {},
   "outputs": [
    {
     "data": {
      "image/png": "[encoded data removed]",
      "text/plain": [
       "<Figure size 1600x900 with 1 Axes>"
      ]
     },
     "metadata": {},
     "output_type": "display_data"
    }
   ],
   "source": [
    "best_scores = [max(x) for x in train_rewars]\n",
    "worst_scores = [min(x) for x in train_rewars]\n",
    "mean_scores = [np.mean(x) for x in train_rewars]\n",
    "qwerty_scores = [x[0] for x in train_rewars]\n",
    "\n",
    "plt.subplots(1, 1, figsize=(16,9))\n",
    "plt.plot(best_scores, label=\"Best score\")\n",
    "plt.plot(worst_scores, label=\"Worst score\")\n",
    "plt.plot(mean_scores, label=\"Mean score\")\n",
    "plt.plot(qwerty_scores, label=\"QWERTY score\")\n",
    "\n",
    "plt.legend()\n",
    "plt.grid()\n",
    "# plt.xlim([0, 500])\n",
    "# plt.ylim([best_score, 14000])\n",
    "plt.ylabel(\"Score\")\n",
    "plt.xlabel(\"Episode\")\n",
    "plt.title(\"Scores for each episode\")\n",
    "plt.show()\n",
    "\n"
   ]
  },
  {
   "cell_type": "code",
   "execution_count": null,
   "id": "439d1553",
   "metadata": {},
   "outputs": [],
   "source": []
  }
 ],
 "metadata": {
  "kernelspec": {
   "display_name": ".venv",
   "language": "python",
   "name": "python3"
  },
  "language_info": {
   "codemirror_mode": {
    "name": "ipython",
    "version": 3
   },
   "file_extension": ".py",
   "mimetype": "text/x-python",
   "name": "python",
   "nbconvert_exporter": "python",
   "pygments_lexer": "ipython3",
   "version": "3.12.8"
  }
 },
 "nbformat": 4,
 "nbformat_minor": 5
}
