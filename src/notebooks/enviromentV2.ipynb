{
 "cells": [
  {
   "cell_type": "code",
   "execution_count": 26,
   "id": "703802b3",
   "metadata": {
    "jupyter": {
     "is_executing": true
    }
   },
   "outputs": [],
   "source": [
    "import re\n",
    "from typing import Callable\n",
    "\n",
    "import numpy as np\n",
    "import torch\n",
    "import torch.nn as nn"
   ]
  },
  {
   "cell_type": "code",
   "execution_count": 27,
   "id": "99ac21ba",
   "metadata": {
    "ExecuteTime": {
     "end_time": "2025-04-16T21:27:55.999150300Z",
     "start_time": "2025-04-16T20:10:40.442306Z"
    }
   },
   "outputs": [],
   "source": [
    "def unary_lambda(symbol: str) -> Callable[[str], str]:\n",
    "    return lambda a: f\"({a}){symbol}\"\n",
    "\n",
    "\n",
    "letters = \"abcdefghijklmnopqrstuvwxyz\"\n",
    "digits = \"0123456789\"\n",
    "\n",
    "quantifiers: set[str] = {\"*\", \"+\", \"?\"}\n",
    "\n",
    "unary_regex: dict[str, Callable[[str], str]] = {\n",
    "    **{symbol: unary_lambda(symbol) for symbol in quantifiers},\n",
    "    **{symbol: unary_lambda(f\"{symbol}?\") for symbol in quantifiers},  # greedy versions\n",
    "}\n",
    "binary_regex: dict[str, Callable[[str, str], str]] = {\n",
    "    \"concat\": lambda a, b: a + b,  # concatenation\n",
    "    \"|\": lambda a, b: f\"{a}|{b}\",\n",
    "}\n",
    "many_to_one_regex: dict[str, Callable[[list[str]], str]] = {\n",
    "    \"[]\": lambda a: \"[\" + \"\".join([f\"({x})\" for x in a]) + \"]\"  # set\n",
    "}\n",
    "\n",
    "specials_regex: set[str] = {\n",
    "    \".\",\n",
    "    \"^\",\n",
    "    \"$\",\n",
    "}\n",
    "\n",
    "operands_regex: set[str] = {\n",
    "    *specials_regex,\n",
    "    *[f\"\\\\{s}\" for s in specials_regex],\n",
    "    *letters,\n",
    "    *letters.upper(),\n",
    "    *digits,\n",
    "    *[f\"\\\\{s}\" for s in quantifiers],\n",
    "}\n",
    "\n",
    "\n",
    "def rpn_to_infix_regex(expression: list):\n",
    "    global unary_regex, binary_regex, operands_regex, many_to_one_regex\n",
    "    stack = []\n",
    "\n",
    "    for token in expression:\n",
    "        if token in many_to_one_regex:\n",
    "            stack = [many_to_one_regex[token](list(reversed(stack)))]\n",
    "            continue\n",
    "\n",
    "        if token in binary_regex:\n",
    "            operand2 = stack.pop()\n",
    "            operand1 = stack.pop()\n",
    "            stack.append(binary_regex[token](operand1, operand2))\n",
    "            continue\n",
    "        if token in unary_regex:\n",
    "            operand = stack.pop()\n",
    "            stack.append(f\"({token}{operand})\")\n",
    "            continue\n",
    "        if token in operands_regex:\n",
    "            stack.append(token)\n",
    "            continue\n",
    "        raise RuntimeError(f\"Operand '{token}' is unknown\")\n",
    "\n",
    "    return stack[0]"
   ]
  },
  {
   "cell_type": "code",
   "execution_count": 28,
   "id": "91456c03",
   "metadata": {},
   "outputs": [],
   "source": [
    "numbers: set[str] = {\n",
    "    \"1\",\n",
    "    \"2\",\n",
    "    \"3\",\n",
    "    \"4\",\n",
    "    \"5\",\n",
    "    \"6\",\n",
    "    \"7\",\n",
    "    \"8\",\n",
    "    \"9\",\n",
    "    \"0\",\n",
    "}"
   ]
  },
  {
   "cell_type": "code",
   "execution_count": 29,
   "id": "6a60bc2c",
   "metadata": {
    "ExecuteTime": {
     "end_time": "2025-04-16T21:27:56.002150100Z",
     "start_time": "2025-04-16T21:14:52.496199Z"
    }
   },
   "outputs": [],
   "source": [
    "IDX_TO_ACTIONS = {\n",
    "    (i): action\n",
    "    for i, action in enumerate(\n",
    "        set().union(\n",
    "            # numbers,\n",
    "            operands_regex,\n",
    "            set(binary_regex.keys()),\n",
    "            set(unary_regex.keys()),\n",
    "            set(many_to_one_regex.keys()),\n",
    "        )\n",
    "    )\n",
    "}\n",
    "IDX_TO_ACTIONS[len(IDX_TO_ACTIONS)] = \"FINISH\"\n",
    "ACTIONS_TO_IDX = {v: k for k, v in IDX_TO_ACTIONS.items()}\n",
    "\n",
    "ACTIONS = set(ACTIONS_TO_IDX.keys())"
   ]
  },
  {
   "cell_type": "code",
   "execution_count": 30,
   "id": "718e4442",
   "metadata": {},
   "outputs": [
    {
     "data": {
      "text/plain": [
       "{0: 'W',\n",
       " 1: '\\\\$',\n",
       " 2: 'P',\n",
       " 3: 'e',\n",
       " 4: '\\\\*',\n",
       " 5: '8',\n",
       " 6: '4',\n",
       " 7: 'x',\n",
       " 8: 'f',\n",
       " 9: 'y',\n",
       " 10: 'R',\n",
       " 11: 'a',\n",
       " 12: '\\\\+',\n",
       " 13: 'F',\n",
       " 14: 'L',\n",
       " 15: '.',\n",
       " 16: '^',\n",
       " 17: 'h',\n",
       " 18: 'u',\n",
       " 19: '\\\\?',\n",
       " 20: 'A',\n",
       " 21: 'U',\n",
       " 22: 'X',\n",
       " 23: 'c',\n",
       " 24: 'Z',\n",
       " 25: 'concat',\n",
       " 26: 'T',\n",
       " 27: 'J',\n",
       " 28: '3',\n",
       " 29: 'l',\n",
       " 30: '[]',\n",
       " 31: 'D',\n",
       " 32: '0',\n",
       " 33: 'k',\n",
       " 34: '|',\n",
       " 35: 'n',\n",
       " 36: '2',\n",
       " 37: 'm',\n",
       " 38: 'w',\n",
       " 39: 't',\n",
       " 40: 'b',\n",
       " 41: 'Q',\n",
       " 42: 'p',\n",
       " 43: '1',\n",
       " 44: 'V',\n",
       " 45: '$',\n",
       " 46: 'j',\n",
       " 47: 'g',\n",
       " 48: 'N',\n",
       " 49: '?',\n",
       " 50: '+',\n",
       " 51: 'G',\n",
       " 52: '7',\n",
       " 53: 'E',\n",
       " 54: '6',\n",
       " 55: 'i',\n",
       " 56: 'M',\n",
       " 57: 'o',\n",
       " 58: '\\\\^',\n",
       " 59: 'I',\n",
       " 60: '*',\n",
       " 61: '\\\\.',\n",
       " 62: 's',\n",
       " 63: 'K',\n",
       " 64: 'B',\n",
       " 65: 'r',\n",
       " 66: 'O',\n",
       " 67: 'S',\n",
       " 68: 'Y',\n",
       " 69: 'C',\n",
       " 70: 'H',\n",
       " 71: '5',\n",
       " 72: 'z',\n",
       " 73: 'q',\n",
       " 74: '9',\n",
       " 75: 'd',\n",
       " 76: 'v',\n",
       " 77: 'FINISH'}"
      ]
     },
     "execution_count": 30,
     "metadata": {},
     "output_type": "execute_result"
    }
   ],
   "source": [
    "IDX_TO_ACTIONS"
   ]
  },
  {
   "cell_type": "code",
   "execution_count": 31,
   "id": "3a016775",
   "metadata": {},
   "outputs": [],
   "source": [
    "HIGHEST = 100"
   ]
  },
  {
   "cell_type": "code",
   "execution_count": null,
   "id": "c0bb8f9c",
   "metadata": {
    "ExecuteTime": {
     "end_time": "2025-04-16T21:27:56.003150200Z",
     "start_time": "2025-04-16T21:14:53.449219Z"
    }
   },
   "outputs": [],
   "source": [
    "class Environment:\n",
    "    penalty = -100\n",
    "    # penalty = 1\n",
    "    word_penalty = -10000\n",
    "    len_penalty = -1\n",
    "\n",
    "    max_steps = 5\n",
    "\n",
    "    def __init__(\n",
    "        self, texts: list[str], targets: list[list[int]], words_counts: list[int]\n",
    "    ):\n",
    "        self.texts = texts\n",
    "        self.targets = targets\n",
    "        self.words_counts = words_counts\n",
    "        self.current_index = 0\n",
    "        self.regexp = None\n",
    "\n",
    "        self.empty_state_idx = len(ACTIONS_TO_IDX)\n",
    "        self.finish_action_idx = ACTIONS_TO_IDX[\"FINISH\"]\n",
    "\n",
    "        self.reset()\n",
    "\n",
    "    def reset(self):\n",
    "        self.step_idx = 0\n",
    "        self.current_index += 1\n",
    "        if self.current_index >= len(self.words_counts):\n",
    "            self.current_index = 0\n",
    "        self.state = [self.empty_state_idx] * self.max_steps\n",
    "        return self.state\n",
    "\n",
    "    def get_state(self):\n",
    "        return self.state\n",
    "\n",
    "    def get_state_tensor(self):\n",
    "        return torch.FloatTensor(self.state).unsqueeze(0)\n",
    "\n",
    "    def reward(self, regexp_actions: list[int]):\n",
    "        try:\n",
    "            regex_symbols = [IDX_TO_ACTIONS[x] for x in regexp_actions]\n",
    "            if regex_symbols[-1] == \"FINISH\":\n",
    "                regex_symbols = regex_symbols[: len(regex_symbols) - 1]\n",
    "            regexp = rpn_to_infix_regex(regex_symbols)\n",
    "            self.regexp = regexp\n",
    "            array = [\n",
    "                x.span() for x in re.finditer(regexp, self.texts[self.current_index])\n",
    "            ]\n",
    "        except BaseException:\n",
    "            return -HIGHEST\n",
    "            # return 0\n",
    "        bit_mask = [0 for _ in range(len(self.texts[self.current_index]))]\n",
    "\n",
    "        for it in array:\n",
    "            for i in range(it[0], it[1]):\n",
    "                bit_mask[i] = 1\n",
    "\n",
    "        return (\n",
    "            sum(np.bitwise_xor(bit_mask, self.targets[self.current_index])) * self.penalty\n",
    "        )  # + abs(len(array)-self.words_counts[self.current_index]) * self.word_penalty\n",
    "\n",
    "    def step(self, action: int) -> tuple[list, float, bool]:\n",
    "        self.step_idx += 1\n",
    "        if action == self.finish_action_idx:\n",
    "            reward = self.reward(self.state[: self.step_idx - 1])\n",
    "            # self.reset()\n",
    "            return self.state, reward, True\n",
    "        if self.step_idx > self.max_steps:  # finish action\n",
    "            reward = self.reward(self.state[: self.step_idx])\n",
    "            # self.reset()\n",
    "            return self.state, reward, True\n",
    "\n",
    "        self.state[self.step_idx - 1] = action\n",
    "        return self.state, self.reward(self.state[: self.step_idx]), False"
   ]
  },
  {
   "cell_type": "code",
   "execution_count": 33,
   "id": "bb60e4a5d73d4efe",
   "metadata": {
    "ExecuteTime": {
     "end_time": "2025-04-16T21:27:56.004150200Z",
     "start_time": "2025-04-16T21:18:47.247657Z"
    }
   },
   "outputs": [
    {
     "data": {
      "text/plain": [
       "device(type='cpu')"
      ]
     },
     "execution_count": 33,
     "metadata": {},
     "output_type": "execute_result"
    }
   ],
   "source": [
    "device = torch.device(\"cpu\")  # \"cuda\" if torch.cuda.is_available() else\n",
    "len(ACTIONS)\n",
    "device"
   ]
  },
  {
   "cell_type": "code",
   "execution_count": 34,
   "id": "64c1be9a",
   "metadata": {},
   "outputs": [
    {
     "data": {
      "text/plain": [
       "{'$',\n",
       " '*',\n",
       " '+',\n",
       " '.',\n",
       " '0',\n",
       " '1',\n",
       " '2',\n",
       " '3',\n",
       " '4',\n",
       " '5',\n",
       " '6',\n",
       " '7',\n",
       " '8',\n",
       " '9',\n",
       " '?',\n",
       " 'A',\n",
       " 'B',\n",
       " 'C',\n",
       " 'D',\n",
       " 'E',\n",
       " 'F',\n",
       " 'FINISH',\n",
       " 'G',\n",
       " 'H',\n",
       " 'I',\n",
       " 'J',\n",
       " 'K',\n",
       " 'L',\n",
       " 'M',\n",
       " 'N',\n",
       " 'O',\n",
       " 'P',\n",
       " 'Q',\n",
       " 'R',\n",
       " 'S',\n",
       " 'T',\n",
       " 'U',\n",
       " 'V',\n",
       " 'W',\n",
       " 'X',\n",
       " 'Y',\n",
       " 'Z',\n",
       " '[]',\n",
       " '\\\\$',\n",
       " '\\\\*',\n",
       " '\\\\+',\n",
       " '\\\\.',\n",
       " '\\\\?',\n",
       " '\\\\^',\n",
       " '^',\n",
       " 'a',\n",
       " 'b',\n",
       " 'c',\n",
       " 'concat',\n",
       " 'd',\n",
       " 'e',\n",
       " 'f',\n",
       " 'g',\n",
       " 'h',\n",
       " 'i',\n",
       " 'j',\n",
       " 'k',\n",
       " 'l',\n",
       " 'm',\n",
       " 'n',\n",
       " 'o',\n",
       " 'p',\n",
       " 'q',\n",
       " 'r',\n",
       " 's',\n",
       " 't',\n",
       " 'u',\n",
       " 'v',\n",
       " 'w',\n",
       " 'x',\n",
       " 'y',\n",
       " 'z',\n",
       " '|'}"
      ]
     },
     "execution_count": 34,
     "metadata": {},
     "output_type": "execute_result"
    }
   ],
   "source": [
    "ACTIONS"
   ]
  },
  {
   "cell_type": "code",
   "execution_count": 35,
   "id": "0f36d8f6",
   "metadata": {},
   "outputs": [
    {
     "data": {
      "text/plain": [
       "78"
      ]
     },
     "execution_count": 35,
     "metadata": {},
     "output_type": "execute_result"
    }
   ],
   "source": [
    "len(ACTIONS)"
   ]
  },
  {
   "cell_type": "code",
   "execution_count": 36,
   "id": "bc5d34c6",
   "metadata": {},
   "outputs": [],
   "source": [
    "import matplotlib.pyplot as plt\n",
    "import torch\n",
    "import torch.nn.functional as F\n",
    "from tqdm import tqdm"
   ]
  },
  {
   "cell_type": "code",
   "execution_count": 37,
   "id": "2df3a616",
   "metadata": {},
   "outputs": [],
   "source": [
    "class PolicyNetwork(nn.Module):\n",
    "    def __init__(self, observation_space: int, action_space: int, hidden_dim: int = 128):\n",
    "        super(PolicyNetwork, self).__init__()\n",
    "        self.input_layer = nn.Linear(observation_space, hidden_dim)\n",
    "        self.layer1 = nn.Linear(hidden_dim, hidden_dim * 2)\n",
    "        self.layer2 = nn.Linear(hidden_dim * 2, hidden_dim)\n",
    "        self.output_layer = nn.Linear(hidden_dim, action_space)\n",
    "\n",
    "    def forward(self, x):\n",
    "        x = F.leaky_relu(self.input_layer(x))\n",
    "        x = F.leaky_relu(self.layer1(x))\n",
    "        x = F.leaky_relu(self.layer2(x))\n",
    "        actions = self.output_layer(x)\n",
    "        return F.softmax(actions)"
   ]
  },
  {
   "cell_type": "code",
   "execution_count": 38,
   "id": "3d8308c4",
   "metadata": {},
   "outputs": [],
   "source": [
    "def select_action(policy_network: nn.Module, env: Environment, on_policy=bool):\n",
    "    state = env.get_state_tensor().to(device)\n",
    "    action_probs = policy_network(state).squeeze()\n",
    "    log_probs = torch.log(action_probs)\n",
    "    cpu_action_probs = action_probs.detach().cpu().numpy()\n",
    "    if on_policy:\n",
    "        action = np.argmax(cpu_action_probs)\n",
    "    else:\n",
    "        action = np.random.choice(np.arange(len(ACTIONS)), p=cpu_action_probs)\n",
    "\n",
    "    return action, log_probs, action_probs"
   ]
  },
  {
   "cell_type": "code",
   "execution_count": 39,
   "id": "d7f2726c",
   "metadata": {},
   "outputs": [],
   "source": [
    "policy_network = PolicyNetwork(Environment.max_steps, len(ACTIONS)).to(device)\n",
    "\n",
    "gamma = 0.99\n",
    "lr_policy_net = 2**-13\n",
    "optimizer = torch.optim.Adam(policy_network.parameters(), lr=lr_policy_net)"
   ]
  },
  {
   "cell_type": "code",
   "execution_count": null,
   "id": "430a24fdd97a0c",
   "metadata": {
    "jupyter": {
     "is_executing": true
    }
   },
   "outputs": [],
   "source": [
    "train_data = \"\"\"a2b \"\"\"\n",
    "array = [x.span() for x in re.finditer(\"[1-9]\", train_data)]\n",
    "\n",
    "target = [0 for _ in range(len(train_data))]\n",
    "for it in array:\n",
    "    for i in range(it[0], it[1]):\n",
    "        target[i] = 1"
   ]
  },
  {
   "cell_type": "code",
   "execution_count": 41,
   "id": "c29f18d7",
   "metadata": {},
   "outputs": [
    {
     "data": {
      "text/plain": [
       "[0, 1, 0, 0]"
      ]
     },
     "execution_count": 41,
     "metadata": {},
     "output_type": "execute_result"
    }
   ],
   "source": [
    "target"
   ]
  },
  {
   "cell_type": "code",
   "execution_count": 42,
   "id": "3b4820fe",
   "metadata": {},
   "outputs": [
    {
     "data": {
      "text/plain": [
       "np.int64(2)"
      ]
     },
     "execution_count": 42,
     "metadata": {},
     "output_type": "execute_result"
    }
   ],
   "source": [
    "sum(np.bitwise_xor([0, 0, 1, 0], target))"
   ]
  },
  {
   "cell_type": "code",
   "execution_count": 43,
   "id": "bda3146170d268e6",
   "metadata": {},
   "outputs": [],
   "source": [
    "env = Environment([train_data], [target], [1])"
   ]
  },
  {
   "cell_type": "code",
   "execution_count": 44,
   "id": "14ce0361",
   "metadata": {},
   "outputs": [],
   "source": [
    "best_score = -HIGHEST\n",
    "best_env = env.reset()\n",
    "NUM_EPISODES = 500\n",
    "scores = []"
   ]
  },
  {
   "cell_type": "code",
   "execution_count": null,
   "id": "03d406bd",
   "metadata": {},
   "outputs": [
    {
     "name": "stderr",
     "output_type": "stream",
     "text": [
      "  0%|          | 0/500 [00:00<?, ?it/s]C:\\Users\\Kiaver\\AppData\\Local\\Temp\\ipykernel_22696\\4078418271.py:14: UserWarning: Implicit dimension choice for softmax has been deprecated. Change the call to include dim=X as an argument.\n",
      "  return F.softmax(actions)\n",
      "100%|██████████| 500/500 [00:02<00:00, 197.14it/s, best=-100]\n"
     ]
    }
   ],
   "source": [
    "from copy import copy\n",
    "\n",
    "EVAL_INTERVAL = 500\n",
    "cache_hits = 0\n",
    "\n",
    "loop = tqdm(range(NUM_EPISODES))\n",
    "for episode in loop:\n",
    "    state = env.reset()\n",
    "    done = False\n",
    "    scores.append([-HIGHEST])\n",
    "    prev_reward = 0\n",
    "    cumulative_discount = 1.0\n",
    "    prev_states = [env.get_state()]\n",
    "\n",
    "    on_policy = (episode + 1) % EVAL_INTERVAL == 0\n",
    "\n",
    "    loss = 0\n",
    "\n",
    "    episode_reward = 0\n",
    "    episode_log_probs = []\n",
    "\n",
    "    # run episode\n",
    "    while not done:\n",
    "        action, actions_log_probabilities, _ = select_action(\n",
    "            policy_network, env, on_policy\n",
    "        )\n",
    "        # print(\"Action\", action, IDX_TO_ACTIONS[action])\n",
    "        episode_log_probs.append(actions_log_probabilities[action])\n",
    "\n",
    "        next_state, new_score, done = env.step(action)\n",
    "\n",
    "        if new_score > best_score:\n",
    "            best_score = new_score\n",
    "            best_env = copy(next_state)\n",
    "            print(\n",
    "                \"Best Action\",\n",
    "                action,\n",
    "                IDX_TO_ACTIONS[action],\n",
    "                best_env,\n",
    "                best_score,\n",
    "                env.regexp,\n",
    "            )\n",
    "\n",
    "        prev_score = scores[episode][-1]\n",
    "\n",
    "        # reward = round((new_score - prev_score), 2)\n",
    "        reward = new_score\n",
    "        episode_reward += reward\n",
    "\n",
    "        scores[episode].append(new_score)\n",
    "\n",
    "        if done:\n",
    "            env.reset()\n",
    "\n",
    "    if not on_policy:\n",
    "        num_steps = len(episode_log_probs)\n",
    "        per_timestep_losses = [\n",
    "            -log_prob * episode_reward for log_prob in episode_log_probs\n",
    "        ]\n",
    "        total_loss = torch.stack(per_timestep_losses).sum()\n",
    "\n",
    "        optimizer.zero_grad()\n",
    "        total_loss.backward()\n",
    "        optimizer.step()\n",
    "\n",
    "    loop.set_postfix({\"best\": best_score})"
   ]
  },
  {
   "cell_type": "code",
   "execution_count": 46,
   "id": "8fb72ef7",
   "metadata": {},
   "outputs": [
    {
     "data": {
      "text/plain": [
       "'f'"
      ]
     },
     "execution_count": 46,
     "metadata": {},
     "output_type": "execute_result"
    }
   ],
   "source": [
    "IDX_TO_ACTIONS[8]"
   ]
  },
  {
   "cell_type": "code",
   "execution_count": 47,
   "id": "38831535",
   "metadata": {},
   "outputs": [
    {
     "data": {
      "text/plain": [
       "[78, 78, 78, 78, 78]"
      ]
     },
     "execution_count": 47,
     "metadata": {},
     "output_type": "execute_result"
    }
   ],
   "source": [
    "best_env"
   ]
  },
  {
   "cell_type": "code",
   "execution_count": 48,
   "id": "2263b458",
   "metadata": {},
   "outputs": [
    {
     "data": {
      "text/plain": [
       "-100"
      ]
     },
     "execution_count": 48,
     "metadata": {},
     "output_type": "execute_result"
    }
   ],
   "source": [
    "best_score"
   ]
  },
  {
   "cell_type": "code",
   "execution_count": null,
   "id": "5e59262c",
   "metadata": {},
   "outputs": [
    {
     "data": {
      "image/png": "[encoded data removed]",
      "text/plain": [
       "<Figure size 1600x900 with 1 Axes>"
      ]
     },
     "metadata": {},
     "output_type": "display_data"
    }
   ],
   "source": [
    "import matplotlib as mpl\n",
    "\n",
    "\n",
    "def plot_run(scores: list[float], figsize: tuple[int, int] = (20, 9)):\n",
    "    fig, ax1 = plt.subplots(1, 1, figsize=figsize)\n",
    "    cmap = plt.get_cmap(\"jet\", len(scores))\n",
    "    for i in range(len(scores)):\n",
    "        ax1.plot(scores[i], c=cmap(i))\n",
    "    norm = mpl.colors.Normalize(vmin=0, vmax=len(scores))\n",
    "    sm = plt.cm.ScalarMappable(cmap=cmap, norm=norm)\n",
    "    sm.set_array([])\n",
    "    plt.colorbar(sm, ticks=np.arange(len(scores)), ax=ax1)\n",
    "    plt.grid()\n",
    "    plt.show()\n",
    "\n",
    "\n",
    "def split_scores(scores):\n",
    "    odd = []\n",
    "    even = []\n",
    "    for i in range(len(scores)):\n",
    "        if (i + 1) % EVAL_INTERVAL == 0:\n",
    "            odd.append(scores[i])\n",
    "        else:\n",
    "            even.append(scores[i])\n",
    "    return odd, even\n",
    "\n",
    "\n",
    "def plot_scores(scores: list[float], figsize: tuple[int, int] = (16, 9)):\n",
    "    best_scores = [max(x) for x in scores]\n",
    "    worst_scores = [min(x) for x in scores]\n",
    "    mean_scores = [np.mean(x) for x in scores]\n",
    "    qwerty_scores = [x[0] for x in scores]\n",
    "\n",
    "    plt.subplots(1, 1, figsize=figsize)\n",
    "    plt.plot(best_scores, label=\"Best score\")\n",
    "    plt.plot(worst_scores, label=\"Worst score\")\n",
    "    plt.plot(mean_scores, label=\"Mean score\")\n",
    "    plt.plot(qwerty_scores, label=\"QWERTY score\")\n",
    "\n",
    "    plt.legend()\n",
    "    plt.grid()\n",
    "    # plt.xlim([0, 500])\n",
    "    # plt.ylim([best_score, 14000])\n",
    "    plt.ylabel(\"Score\")\n",
    "    plt.xlabel(\"Episode\")\n",
    "    plt.title(\"Scores for each episode\")\n",
    "    plt.show()\n",
    "\n",
    "\n",
    "plot_scores(scores)"
   ]
  },
  {
   "cell_type": "code",
   "execution_count": null,
   "id": "f741f8e0",
   "metadata": {},
   "outputs": [],
   "source": []
  }
 ],
 "metadata": {
  "kernelspec": {
   "display_name": ".venv",
   "language": "python",
   "name": "python3"
  },
  "language_info": {
   "codemirror_mode": {
    "name": "ipython",
    "version": 3
   },
   "file_extension": ".py",
   "mimetype": "text/x-python",
   "name": "python",
   "nbconvert_exporter": "python",
   "pygments_lexer": "ipython3",
   "version": "3.12.10"
  }
 },
 "nbformat": 4,
 "nbformat_minor": 5
}
