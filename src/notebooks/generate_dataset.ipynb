{
 "cells": [
  {
   "cell_type": "markdown",
   "id": "4b338d11",
   "metadata": {},
   "source": [
    "# Dataset Generation"
   ]
  },
  {
   "cell_type": "code",
   "execution_count": 1,
   "id": "e1a4c270",
   "metadata": {},
   "outputs": [],
   "source": [
    "%load_ext autoreload\n",
    "%autoreload 2"
   ]
  },
  {
   "cell_type": "code",
   "execution_count": 2,
   "id": "c5759231",
   "metadata": {},
   "outputs": [
    {
     "data": {
      "text/plain": [
       "device(type='cpu')"
      ]
     },
     "execution_count": 2,
     "metadata": {},
     "output_type": "execute_result"
    }
   ],
   "source": [
    "import logging\n",
    "import os\n",
    "import random\n",
    "import sys\n",
    "import warnings\n",
    "\n",
    "import numpy as np\n",
    "import orjson\n",
    "import torch\n",
    "from tqdm import tqdm\n",
    "\n",
    "ROOT_FOLDER = os.path.join(\".\", \"..\")\n",
    "if ROOT_FOLDER not in sys.path:\n",
    "    sys.path.insert(0, ROOT_FOLDER)\n",
    "\n",
    "\n",
    "# from environment import Environment, EnvSettings\n",
    "\n",
    "warnings.filterwarnings(\"ignore\")\n",
    "logging.disable(logging.WARNING)\n",
    "torch.backends.cudnn.deterministic = True\n",
    "DEVICE = torch.device(\"cuda\" if torch.cuda.is_available() else \"cpu\")\n",
    "DEVICE"
   ]
  },
  {
   "cell_type": "markdown",
   "id": "5eb54313",
   "metadata": {},
   "source": [
    "## Utils"
   ]
  },
  {
   "cell_type": "code",
   "execution_count": 3,
   "id": "d6fc80b4",
   "metadata": {},
   "outputs": [],
   "source": [
    "def set_seed(seed: int = 420):\n",
    "    random.seed(seed)\n",
    "    np.random.seed(seed)\n",
    "    torch.manual_seed(seed)\n",
    "    if torch.cuda.is_available():\n",
    "        torch.cuda.manual_seed(seed)\n",
    "\n",
    "\n",
    "def save_json(path: str, data: dict):\n",
    "    with open(path, \"wb\") as f:\n",
    "        f.write(\n",
    "            orjson.dumps(\n",
    "                data,\n",
    "                option=orjson.OPT_SORT_KEYS\n",
    "                + orjson.OPT_SERIALIZE_NUMPY\n",
    "                + orjson.OPT_INDENT_2,\n",
    "            )\n",
    "        )"
   ]
  },
  {
   "cell_type": "markdown",
   "id": "6eac5ef3",
   "metadata": {},
   "source": [
    "## 1. Single number"
   ]
  },
  {
   "cell_type": "code",
   "execution_count": 4,
   "id": "a4ed4ebc",
   "metadata": {},
   "outputs": [
    {
     "name": "stderr",
     "output_type": "stream",
     "text": [
      "100%|██████████| 500/500 [00:00<00:00, 515777.67it/s]\n"
     ]
    }
   ],
   "source": [
    "def generate_number_digit(\n",
    "    n: int = 500,\n",
    "    min_length: int = 3,\n",
    "    max_length: int = 10,\n",
    "    max_number_length: int = 3,\n",
    "    seed: int = 420,\n",
    ") -> list[str]:\n",
    "    letters = \"abcdefghijklmnopqrstuvwxyz\"\n",
    "    symbols = \"!@$%^&*()_+№;:?*()-=|\\\\/`~/., \"\n",
    "    chars = symbols + letters + letters.upper()\n",
    "    digits = \"0123456789\"\n",
    "\n",
    "    results = []\n",
    "    set_seed(seed)\n",
    "    for _ in tqdm(range(n)):\n",
    "        lst = random.choices(chars, k=random.randint(min_length, max_length))\n",
    "        number_length = random.randint(1, max_number_length)\n",
    "\n",
    "        insert_idx = random.randint(0, len(lst) - number_length)\n",
    "\n",
    "        lst[insert_idx : insert_idx + number_length] = random.choices(\n",
    "            digits, k=number_length\n",
    "        )\n",
    "\n",
    "        results.append(\"\".join(lst))\n",
    "\n",
    "    return results\n",
    "\n",
    "\n",
    "single_number_data = generate_number_digit()"
   ]
  },
  {
   "cell_type": "code",
   "execution_count": 5,
   "id": "0e2657b5",
   "metadata": {},
   "outputs": [
    {
     "data": {
      "text/plain": [
       "['039',\n",
       " 'G19',\n",
       " 'MAYk79l',\n",
       " '525',\n",
       " 'Ef@654*',\n",
       " 'Wvh28',\n",
       " 'klTMK9',\n",
       " 'e(|LT075№%',\n",
       " 'H(-F=u148T',\n",
       " '.~v№oB41']"
      ]
     },
     "execution_count": 5,
     "metadata": {},
     "output_type": "execute_result"
    }
   ],
   "source": [
    "single_number_data[:10]"
   ]
  },
  {
   "cell_type": "code",
   "execution_count": 6,
   "id": "b2cc5d2e",
   "metadata": {},
   "outputs": [],
   "source": [
    "save_json(\n",
    "    \"../../data/single_number.json\", {\"regex\": r\"\\d+\", \"examples\": single_number_data}\n",
    ")"
   ]
  },
  {
   "cell_type": "markdown",
   "id": "10554865",
   "metadata": {},
   "source": [
    "## 2. Word from subset of symbols"
   ]
  },
  {
   "cell_type": "code",
   "execution_count": 7,
   "id": "2e460eaf",
   "metadata": {},
   "outputs": [
    {
     "name": "stderr",
     "output_type": "stream",
     "text": [
      "100%|██████████| 500/500 [00:00<00:00, 270356.07it/s]\n"
     ]
    }
   ],
   "source": [
    "def generate_word(\n",
    "    n: int = 500,\n",
    "    min_length: int = 6,\n",
    "    max_length: int = 20,\n",
    "    min_word_length: int = 3,\n",
    "    max_word_length: int = 6,\n",
    "    seed: int = 420,\n",
    ") -> list[str]:\n",
    "    word_letters = \"cat\"\n",
    "\n",
    "    letters = \"bdefghijklmnopqrsuvwxyz\"\n",
    "    symbols = \"!@$%^&*()_+№;:?*()-=|\\\\/`~/.,\"\n",
    "    digits = \"0123456789\"\n",
    "    non_letters = symbols + digits\n",
    "    chars = non_letters + letters + letters.upper()\n",
    "    chars += \" \" * (len(chars) // 4)  # make space more frequent\n",
    "\n",
    "    results = []\n",
    "    set_seed(seed)\n",
    "    for _ in tqdm(range(n)):\n",
    "        lst = random.choices(chars, k=random.randint(min_length, max_length))\n",
    "        word_length = random.randint(min_word_length, max_word_length)\n",
    "\n",
    "        insert_idx = random.randint(0, len(lst) - word_length)\n",
    "\n",
    "        word = random.choices(word_letters, k=word_length)\n",
    "        if insert_idx != 0:\n",
    "            word.insert(0, \" \")\n",
    "            insert_idx -= 1\n",
    "\n",
    "        if insert_idx + word_length < len(lst):\n",
    "            word.append(\" \")\n",
    "\n",
    "        lst[insert_idx : insert_idx + word_length] = word\n",
    "\n",
    "        results.append(\"\".join(lst))\n",
    "\n",
    "    return results\n",
    "\n",
    "\n",
    "word_data = generate_word()"
   ]
  },
  {
   "cell_type": "code",
   "execution_count": 8,
   "id": "e428a67f",
   "metadata": {},
   "outputs": [
    {
     "data": {
      "text/plain": [
       "[' tctcc №',\n",
       " '0 7 M p cca fF',\n",
       " 'r ttacaa $M|Y=KLxo:^w',\n",
       " 'u tccta K h\\\\.  7',\n",
       " ' ccca \\\\~U',\n",
       " ' =m 8SYL:gr ttctc ;o',\n",
       " ' aacta O) Q8',\n",
       " ' k i  EU7Y.O aaac vvr',\n",
       " '  5% ttaaat %',\n",
       " 'ctcaat 8 O0knF']"
      ]
     },
     "execution_count": 8,
     "metadata": {},
     "output_type": "execute_result"
    }
   ],
   "source": [
    "word_data[:10]"
   ]
  },
  {
   "cell_type": "code",
   "execution_count": 9,
   "id": "abbf7710",
   "metadata": {},
   "outputs": [],
   "source": [
    "save_json(\"../../data/word.json\", {\"regex\": r\"[cat]+\", \"examples\": word_data})"
   ]
  },
  {
   "cell_type": "markdown",
   "id": "4de9ca81",
   "metadata": {},
   "source": [
    "## 3. Simple email"
   ]
  },
  {
   "cell_type": "code",
   "execution_count": 10,
   "id": "131851d1",
   "metadata": {},
   "outputs": [
    {
     "name": "stderr",
     "output_type": "stream",
     "text": [
      "100%|██████████| 500/500 [00:00<00:00, 135195.46it/s]\n"
     ]
    }
   ],
   "source": [
    "def generate_email(\n",
    "    n: int = 500,\n",
    "    min_body_length: int = 4,\n",
    "    max_body_length: int = 8,\n",
    "    min_domain_main_length: int = 3,\n",
    "    max_domain_main_length: int = 4,\n",
    "    min_domain_sub_length: int = 2,\n",
    "    max_domain_sub_length: int = 5,\n",
    "    max_length: int = 35,\n",
    "    seed: int = 420,\n",
    ") -> list[str]:\n",
    "    letters = \"abcdefghijklmnopqrstuvwxyz\"\n",
    "    letters += letters.upper()\n",
    "    symbols = \"!@$%^&*()_+№;:?*()-=|\\\\/`~/.,\"\n",
    "    digits = \"0123456789\"\n",
    "    non_letters = symbols + digits\n",
    "    chars = non_letters + letters\n",
    "    chars += \" \" * (len(chars) // 4)  # make space more frequent\n",
    "\n",
    "    results = []\n",
    "    set_seed(seed)\n",
    "    for _ in tqdm(range(n)):\n",
    "        body_length = random.randint(min_body_length, max_body_length)\n",
    "        domain_main_length = random.randint(\n",
    "            min_domain_main_length, max_domain_main_length\n",
    "        )\n",
    "        domain_sub_length = random.randint(min_domain_sub_length, max_domain_sub_length)\n",
    "\n",
    "        email_length = body_length + domain_main_length + domain_sub_length + 2\n",
    "        lst = random.choices(chars, k=random.randint(email_length, max_length))\n",
    "\n",
    "        insert_idx = random.randint(0, len(lst) - email_length)\n",
    "\n",
    "        body = random.choices(letters, k=body_length)\n",
    "        domain_main = random.choices(letters, k=domain_main_length)\n",
    "        domain_sub = random.choices(letters, k=domain_sub_length)\n",
    "        email = body + [\"@\"] + domain_main + [\".\"] + domain_sub\n",
    "        if insert_idx != 0:\n",
    "            email.insert(0, \" \")\n",
    "            insert_idx -= 1\n",
    "\n",
    "        if insert_idx + len(email) < len(lst):\n",
    "            email.append(\" \")\n",
    "\n",
    "        lst[insert_idx : insert_idx + len(email)] = email\n",
    "\n",
    "        results.append(\"\".join(lst))\n",
    "\n",
    "    return results\n",
    "\n",
    "\n",
    "email_data = generate_email()"
   ]
  },
  {
   "cell_type": "code",
   "execution_count": 11,
   "id": "6eaa692c",
   "metadata": {},
   "outputs": [
    {
     "data": {
      "text/plain": [
       "['+KJ%8 $W?9 CXSk@hhao.gKaY ',\n",
       " 'Kxp?&xm Po!Kq HfODwcmd@CHK.oeluP',\n",
       " ' bSYK?h hfQhgnC@YiW.fcNZS',\n",
       " 'z*   TAnhR@buVO.rIr v!8 C  ',\n",
       " '*Sa N MSxsucV@IOf.SSBmi vB.wek-x,q',\n",
       " 'ZZSf@UJUT.sU   iHjD E(~h',\n",
       " '8~  HXG; eAhi@bEqn.Gd  9',\n",
       " 'ireEQMm@JBEt.BiHi  ',\n",
       " '% oyKV@UWr.VxCM 0   ys-` :Ya P ,7+',\n",
       " 'I1 LeRwjIu@iIO.djw KL;']"
      ]
     },
     "execution_count": 11,
     "metadata": {},
     "output_type": "execute_result"
    }
   ],
   "source": [
    "email_data[:10]"
   ]
  },
  {
   "cell_type": "code",
   "execution_count": 12,
   "id": "65a68b54",
   "metadata": {},
   "outputs": [],
   "source": [
    "save_json(\"../../data/email.json\", {\"regex\": r\"\\w+@\\w+\\.\\w+\", \"examples\": email_data})"
   ]
  }
 ],
 "metadata": {
  "kernelspec": {
   "display_name": ".venv",
   "language": "python",
   "name": "python3"
  },
  "language_info": {
   "codemirror_mode": {
    "name": "ipython",
    "version": 3
   },
   "file_extension": ".py",
   "mimetype": "text/x-python",
   "name": "python",
   "nbconvert_exporter": "python",
   "pygments_lexer": "ipython3",
   "version": "3.12.10"
  }
 },
 "nbformat": 4,
 "nbformat_minor": 5
}
