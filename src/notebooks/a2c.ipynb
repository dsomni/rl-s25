{
 "cells": [
  {
   "cell_type": "code",
   "execution_count": 1,
   "id": "25dde08f",
   "metadata": {},
   "outputs": [],
   "source": [
    "import contextlib\n",
    "import json\n",
    "import math\n",
    "import os\n",
    "import random\n",
    "import shutil\n",
    "import time\n",
    "from collections import Counter\n",
    "from itertools import accumulate\n",
    "from typing import Literal\n",
    "\n",
    "import matplotlib.pyplot as plt\n",
    "import numpy as np\n",
    "import scipy\n",
    "import torch\n",
    "import torch.nn as nn\n",
    "import torch.nn.functional as F\n",
    "import torch.optim as optim\n",
    "from cycler import cycler\n",
    "from torch.utils.data import Dataset\n",
    "from tqdm import tqdm"
   ]
  },
  {
   "cell_type": "code",
   "execution_count": 2,
   "id": "0409c400",
   "metadata": {},
   "outputs": [
    {
     "data": {
      "text/plain": [
       "device(type='cpu')"
      ]
     },
     "execution_count": 2,
     "metadata": {},
     "output_type": "execute_result"
    }
   ],
   "source": [
    "# DEVICE = torch.device(\"cuda\") if torch.cuda.is_available() else torch.device(\"cpu\")\n",
    "DEVICE = torch.device(\"cpu\")\n",
    "DEVICE"
   ]
  },
  {
   "cell_type": "code",
   "execution_count": 3,
   "id": "9b5ecddf",
   "metadata": {},
   "outputs": [],
   "source": [
    "RL_GAMMA = 1.0\n",
    "REWARD_STEPS = 0\n",
    "\n",
    "GLOVE_DIM = 300\n",
    "TRAIN_SIZE = \"md\"\n",
    "TEST_SIZE = \"sm\"\n",
    "\n",
    "EMBED_DIM = GLOVE_DIM\n",
    "LSTM_LAYERS = 1\n",
    "LSTM_H_DIM = EMBED_DIM\n",
    "RNET_DROPOUT = 0.5\n",
    "\n",
    "ENV_GAMMA = 0.1\n",
    "\n",
    "PGN_LR = 0.005\n",
    "RNET_LR = 0.001\n",
    "SRM_LR = 0.001\n",
    "\n",
    "PGN_CLIP_GRAD = 0.0\n",
    "ENTROPY_BETA = 0.001\n",
    "\n",
    "PRETRAIN_SRM_RNET_EPOCHS = 200\n",
    "PRETRAIN_PGN_EPOCHS = 100\n",
    "\n",
    "EPISODES_BATCH = 10\n",
    "PRETRAIN_SRM_RNET_BATCH = EPISODES_BATCH\n",
    "\n",
    "FEATURES = \"\"\n",
    "COMMENTS = \"\"\n",
    "\n",
    "EXPERIMENT_NAME = \"15_04_2\"\n",
    "\n",
    "EPOCHS = 500\n",
    "EVAL_PERIOD = 10\n",
    "LOG_PERIOD = EVAL_PERIOD"
   ]
  },
  {
   "cell_type": "code",
   "execution_count": 4,
   "id": "b362ef1b",
   "metadata": {},
   "outputs": [],
   "source": [
    "def pack_hyperparameters() -> dict:\n",
    "    return {\n",
    "        \"RL_GAMMA\": RL_GAMMA,\n",
    "        \"REWARD_STEPS\": REWARD_STEPS,\n",
    "        \"GLOVE_DIM\": GLOVE_DIM,\n",
    "        \"TRAIN_SIZE\": TRAIN_SIZE,\n",
    "        \"TEST_SIZE\": TEST_SIZE,\n",
    "        \"EMBED_DIM\": EMBED_DIM,\n",
    "        \"LSTM_LAYERS\": LSTM_LAYERS,\n",
    "        \"LSTM_H_DIM\": LSTM_H_DIM,\n",
    "        \"RNET_DROPOUT\": RNET_DROPOUT,\n",
    "        \"ENV_GAMMA\": ENV_GAMMA,\n",
    "        \"PGN_LR\": PGN_LR,\n",
    "        \"RNET_LR\": RNET_LR,\n",
    "        \"SRM_LR\": SRM_LR,\n",
    "        \"PGN_CLIP_GRAD\": PGN_CLIP_GRAD,\n",
    "        \"ENTROPY_BETA\": ENTROPY_BETA,\n",
    "        \"PRETRAIN_SRM_RNET_EPOCHS\": PRETRAIN_SRM_RNET_EPOCHS,\n",
    "        \"PRETRAIN_PGN_EPOCHS\": PRETRAIN_PGN_EPOCHS,\n",
    "        \"EPISODES_BATCH\": EPISODES_BATCH,\n",
    "        \"PRETRAIN_SRM_RNET_BATCH\": PRETRAIN_SRM_RNET_BATCH,\n",
    "        \"FEATURES\": FEATURES,\n",
    "        \"COMMENTS\": COMMENTS,\n",
    "    }\n",
    "\n",
    "\n",
    "def load_from_experiments(experiment: str) -> None:\n",
    "    global \\\n",
    "        RL_GAMMA, \\\n",
    "        REWARD_STEPS, \\\n",
    "        GLOVE_DIM, \\\n",
    "        TRAIN_SIZE, \\\n",
    "        TEST_SIZE, \\\n",
    "        EMBED_DIM, \\\n",
    "        LSTM_LAYERS, \\\n",
    "        LSTM_H_DIM, \\\n",
    "        RNET_DROPOUT, \\\n",
    "        ENV_GAMMA, \\\n",
    "        PGN_LR, \\\n",
    "        RNET_LR, \\\n",
    "        SRM_LR, \\\n",
    "        PGN_CLIP_GRAD, \\\n",
    "        ENTROPY_BETA, \\\n",
    "        PRETRAIN_SRM_RNET_EPOCHS, \\\n",
    "        PRETRAIN_PGN_EPOCHS, \\\n",
    "        EPISODES_BATCH, \\\n",
    "        PRETRAIN_SRM_RNET_BATCH, \\\n",
    "        FEATURES, \\\n",
    "        COMMENTS\n",
    "    with open(os.path.join(\".\", LOG_PATH_PREFIX, experiment, \"configs.json\"), \"r\") as f:\n",
    "        hyper_dict = json.load(f)\n",
    "    RL_GAMMA = hyper_dict[\"RL_GAMMA\"]\n",
    "    REWARD_STEPS = hyper_dict[\"REWARD_STEPS\"]\n",
    "    GLOVE_DIM = hyper_dict[\"GLOVE_DIM\"]\n",
    "    TRAIN_SIZE = hyper_dict[\"TRAIN_SIZE\"]\n",
    "    TEST_SIZE = hyper_dict[\"TEST_SIZE\"]\n",
    "    EMBED_DIM = hyper_dict[\"EMBED_DIM\"]\n",
    "    LSTM_LAYERS = hyper_dict[\"LSTM_LAYERS\"]\n",
    "    LSTM_H_DIM = hyper_dict[\"LSTM_H_DIM\"]\n",
    "    RNET_DROPOUT = hyper_dict[\"RNET_DROPOUT\"]\n",
    "    ENV_GAMMA = hyper_dict[\"ENV_GAMMA\"]\n",
    "    PGN_LR = hyper_dict[\"PGN_LR\"]\n",
    "    RNET_LR = hyper_dict[\"RNET_LR\"]\n",
    "    SRM_LR = hyper_dict[\"SRM_LR\"]\n",
    "    PGN_CLIP_GRAD = hyper_dict[\"PGN_CLIP_GRAD\"]\n",
    "    ENTROPY_BETA = hyper_dict[\"ENTROPY_BETA\"]\n",
    "    PRETRAIN_SRM_RNET_EPOCHS = hyper_dict[\"PRETRAIN_SRM_RNET_EPOCHS\"]\n",
    "    PRETRAIN_PGN_EPOCHS = hyper_dict[\"PRETRAIN_PGN_EPOCHS\"]\n",
    "    EPISODES_BATCH = hyper_dict[\"EPISODES_BATCH\"]\n",
    "    PRETRAIN_SRM_RNET_BATCH = hyper_dict[\"PRETRAIN_SRM_RNET_BATCH\"]\n",
    "    FEATURES = hyper_dict[\"FEATURES\"]\n",
    "    COMMENTS = hyper_dict[\"COMMENTS\"]\n",
    "    print(hyper_dict)"
   ]
  },
  {
   "cell_type": "code",
   "execution_count": 5,
   "id": "5d47aa45",
   "metadata": {},
   "outputs": [],
   "source": [
    "PREDEFINED_COLORS = [\n",
    "    \"#ffa500\",\n",
    "    \"#c83cbc\",\n",
    "    \"#1c1c84\",\n",
    "    \"#ff0000\",\n",
    "    \"#08a4a7\",\n",
    "    \"#008000\",\n",
    "]\n",
    "\n",
    "\n",
    "def get_plots(\n",
    "    data_dict: dict,\n",
    "    plots: list[tuple[dict, dict]],\n",
    "    title: str = \"\",\n",
    "    ylim=None,\n",
    "    row_plots: int = 1,\n",
    "    plot_width: float = 8,\n",
    "    plot_height: float = 4,\n",
    "    use_rainbow: bool = False,\n",
    "    use_common_legend: bool = False,\n",
    "    adjust: bool = False,\n",
    "):\n",
    "    num_plots = len(plots)\n",
    "    num_entities = max([len(x[1]) for x in plots]) + 1\n",
    "    if use_rainbow:\n",
    "        num_colors = num_entities\n",
    "        cm = plt.get_cmap(\"gist_rainbow\")\n",
    "        colors = [cm(1.0 * i / num_colors) for i in range(num_colors)]\n",
    "    else:\n",
    "        colors = PREDEFINED_COLORS\n",
    "\n",
    "    style_cycler = cycler(linestyle=[\"-\", \"--\", \":\", \"-.\"]) * cycler(color=colors)\n",
    "    column_plots = math.ceil(num_plots / row_plots)\n",
    "\n",
    "    fig, axs = plt.subplots(\n",
    "        column_plots,\n",
    "        row_plots,\n",
    "        figsize=(plot_width * row_plots, plot_height * column_plots),\n",
    "    )\n",
    "\n",
    "    if len(title) > 0:\n",
    "        fig.suptitle(title, fontsize=14, y=1)\n",
    "    axs_list = [axs] if column_plots * row_plots == 1 else list(axs.flat)\n",
    "\n",
    "    for ax in axs_list:\n",
    "        ax.grid()\n",
    "        ax.set_prop_cycle(style_cycler)\n",
    "        if ylim is not None:\n",
    "            ax.set_ylim(top=ylim)\n",
    "        ax.set_visible(False)\n",
    "\n",
    "    for ax, (p1, p2) in zip(axs_list, plots):\n",
    "        ax.set_visible(True)\n",
    "\n",
    "        ax.set_title(f\"{p2['axis_name']} over {p1['axis_name']}\")\n",
    "        ax.set(xlabel=p1[\"axis_label\"], ylabel=p2[\"axis_label\"])\n",
    "\n",
    "        if p1.get(\"log\", False):\n",
    "            ax.set_xscale(\"log\")\n",
    "        if p2.get(\"log\", False):\n",
    "            ax.set_yscale(\"log\")\n",
    "\n",
    "        x_values = data_dict[p1.get(\"ref\", None) or p1[\"axis_name\"]]\n",
    "\n",
    "        p2vs = p2.get(\"values\", [])\n",
    "        if len(p2vs) == 0:\n",
    "            y_values = data_dict[p2.get(\"ref\", None) or p2[\"axis_name\"]]\n",
    "            ax.plot(x_values, y_values, label=p2[\"axis_name\"])\n",
    "            ax.scatter(x_values[-1], y_values[-1], s=15)\n",
    "            continue\n",
    "\n",
    "        for p2v in p2vs:\n",
    "            y_values = data_dict[p2v.get(\"ref\", None) or p2v[\"name\"]]\n",
    "\n",
    "            try:\n",
    "                iter(y_values)\n",
    "                ax.plot(x_values, y_values, label=p2v[\"name\"])\n",
    "                ax.scatter(x_values[-1], y_values[-1], s=15)\n",
    "            except TypeError:\n",
    "                ax.plot(x_values, [y_values] * len(x_values), label=p2v[\"name\"])\n",
    "\n",
    "    if use_common_legend:\n",
    "        lines_labels = [axs_list[0].get_legend_handles_labels()]\n",
    "        lines, labels = [sum(x, []) for x in zip(*lines_labels)]\n",
    "        fig.legend(\n",
    "            lines,\n",
    "            labels,\n",
    "            scatterpoints=1,\n",
    "            markerscale=3,\n",
    "            loc=\"outside lower center\",\n",
    "            ncol=min(6, num_entities),\n",
    "            bbox_to_anchor=(0.5, -0.05),\n",
    "        )\n",
    "    else:\n",
    "        if num_entities > 1:\n",
    "            for ax, _ in zip(axs_list, plots):\n",
    "                ax.legend()\n",
    "\n",
    "    plt.tight_layout()\n",
    "    if adjust:\n",
    "        plt.subplots_adjust(\n",
    "            top=1 - 0.1 / (num_plots**0.5), bottom=0.12 / (num_plots**2), hspace=0.15\n",
    "        )\n",
    "\n",
    "    return fig\n",
    "\n",
    "\n",
    "def draw_plots(\n",
    "    data_dict: dict,\n",
    "    plots: list[tuple[dict, dict]],\n",
    "    title: str = \"\",\n",
    "    ylim=None,\n",
    "    row_plots: int = 1,\n",
    "    plot_width: float = 8,\n",
    "    plot_height: float = 4,\n",
    "    use_rainbow: bool = False,\n",
    "    use_common_legend: bool = False,\n",
    "    adjust: bool = False,\n",
    "):\n",
    "    get_plots(\n",
    "        data_dict,\n",
    "        plots,\n",
    "        title,\n",
    "        ylim,\n",
    "        row_plots,\n",
    "        plot_width,\n",
    "        plot_height,\n",
    "        use_rainbow,\n",
    "        use_common_legend,\n",
    "        adjust,\n",
    "    )\n",
    "    plt.show()"
   ]
  },
  {
   "cell_type": "code",
   "execution_count": 6,
   "id": "6febb3e9",
   "metadata": {},
   "outputs": [],
   "source": [
    "LOG_PATH_PREFIX = \"./\""
   ]
  },
  {
   "cell_type": "code",
   "execution_count": 7,
   "id": "4db33aff",
   "metadata": {},
   "outputs": [],
   "source": [
    "LoggerEntity = Literal[\"data\"] | Literal[\"model\"] | Literal[\"best\"] | Literal[\"plots\"]\n",
    "\n",
    "\n",
    "class Logger:\n",
    "    _plot_epoch_axis = {\"axis_name\": \"Epoch\", \"axis_label\": \"Epoch\"}\n",
    "    _plot_time_axis = {\"axis_name\": \"Time\", \"axis_label\": \"Running time, seconds\"}\n",
    "    log_plots = [\n",
    "        (\n",
    "            _plot_epoch_axis,\n",
    "            {\"axis_name\": \"Mean PGN Loss\", \"axis_label\": \"Loss\"},\n",
    "        ),\n",
    "        (\n",
    "            {**_plot_epoch_axis, \"ref\": \"Eval Epoch\"},\n",
    "            {\"axis_name\": \"Mean Test Loss\", \"axis_label\": \"Loss\"},\n",
    "        ),\n",
    "        (\n",
    "            _plot_epoch_axis,\n",
    "            {\n",
    "                \"axis_name\": \"Mean Reward\",\n",
    "                \"axis_label\": \"Reward\",\n",
    "            },\n",
    "        ),\n",
    "        (\n",
    "            _plot_epoch_axis,\n",
    "            {\n",
    "                \"axis_name\": \"Deletions ratio\",\n",
    "                \"axis_label\": \"deleted / total\",\n",
    "            },\n",
    "        ),\n",
    "        (\n",
    "            {**_plot_epoch_axis, \"ref\": \"Eval Epoch\"},\n",
    "            {\"axis_name\": \"Test Deletions ratio\", \"axis_label\": \"deleted / total\"},\n",
    "        ),\n",
    "        (\n",
    "            _plot_epoch_axis,\n",
    "            {\n",
    "                \"axis_name\": \"Entropy\",\n",
    "                \"axis_label\": \"Entropy\",\n",
    "                \"values\": [{\"name\": \"Entropy\"}, {\"name\": \"Uniform entropy\"}],\n",
    "            },\n",
    "        ),\n",
    "        (\n",
    "            _plot_epoch_axis,\n",
    "            {\n",
    "                \"axis_name\": \"PGN Loss Structure\",\n",
    "                \"axis_label\": \"Loss\",\n",
    "                \"values\": [\n",
    "                    {\"name\": \"PGN Loss\", \"ref\": \"Mean PGN Loss\"},\n",
    "                    {\"name\": \"Policy Loss\", \"ref\": \"Mean PGN Policy Loss\"},\n",
    "                    {\"name\": \"Value Loss\", \"ref\": \"Mean PGN Value Loss\"},\n",
    "                ],\n",
    "            },\n",
    "        ),\n",
    "    ]\n",
    "\n",
    "    def _soft_mkdir(self, path: str) -> None:\n",
    "        with contextlib.suppress(Exception):\n",
    "            os.makedirs(path)\n",
    "\n",
    "    def _soft_rmdir(self, path: str) -> None:\n",
    "        with contextlib.suppress(Exception):\n",
    "            shutil.rmtree(path)\n",
    "\n",
    "    def _get_max_index(self, path: str) -> int:\n",
    "        max_index = 0\n",
    "        for file in os.listdir(path):\n",
    "            with contextlib.suppress(ValueError):\n",
    "                max_index = max(max_index, int(os.path.splitext(file)[0]))\n",
    "        return max_index\n",
    "\n",
    "    def _remove_old(self):\n",
    "        if self.keep_last == -1:\n",
    "            return\n",
    "        if self.idx % self.keep_last != 0:\n",
    "            return\n",
    "        retain = [str(x) for x in range(self.idx, self.idx - self.keep_last, -1)] + [\n",
    "            \"0\",\n",
    "            \"best\",\n",
    "            \"configs.json\",\n",
    "        ]\n",
    "\n",
    "        abs_prefix = os.path.abspath(self.path)\n",
    "        for item in os.listdir(self.path):\n",
    "            if item not in retain:\n",
    "                self._soft_rmdir(os.path.join(abs_prefix, item))\n",
    "\n",
    "    def _save_json(self, path: str, data: dict) -> None:\n",
    "        with open(path, \"w\") as f:\n",
    "            json.dump(data, f)\n",
    "\n",
    "    def _load_json(self, path: str) -> dict:\n",
    "        with open(path, \"r\") as f:\n",
    "            return json.load(f)\n",
    "\n",
    "    def _save_configs(self) -> None:\n",
    "        self._save_json(os.path.join(self.path, \"configs.json\"), self.configs)\n",
    "\n",
    "    def _load_configs(self) -> dict:\n",
    "        return self._load_json(os.path.join(self.path, \"configs.json\"))\n",
    "\n",
    "    def _build_dirs(self) -> None:\n",
    "        self.dirs = {\n",
    "            \"models\": os.path.join(self.path, str(self.idx), \"models\"),\n",
    "            \"data\": os.path.join(self.path, str(self.idx), \"data\"),\n",
    "            \"plots\": os.path.join(self.path, str(self.idx), \"plots\"),\n",
    "            \"best\": os.path.join(self.path, \"best\"),\n",
    "        }\n",
    "\n",
    "        for dir_path in self.dirs.values():\n",
    "            self._soft_mkdir(dir_path)\n",
    "\n",
    "    def __init__(\n",
    "        self,\n",
    "        path: str,\n",
    "        configs: dict,\n",
    "        path_prefix: str = LOG_PATH_PREFIX,\n",
    "        keep_last: int = 2,\n",
    "        force: bool = False,\n",
    "    ) -> None:\n",
    "        self.keep_last = keep_last\n",
    "        self.configs = configs\n",
    "        self.path = os.path.join(\".\", path_prefix, path)\n",
    "\n",
    "        if force:\n",
    "            self._soft_rmdir(os.path.abspath(self.path))\n",
    "\n",
    "        if os.path.exists(self.path):\n",
    "            self.new = False\n",
    "            self.load_state()\n",
    "        else:\n",
    "            self.new = True\n",
    "            self.init_state()\n",
    "\n",
    "    def init_state(self) -> None:\n",
    "        self.idx = 0\n",
    "        self._build_dirs()\n",
    "        self._save_configs()\n",
    "        self.save_best_dict({})\n",
    "\n",
    "    def load_state(self) -> None:\n",
    "        # Check compatibility\n",
    "        existed_configs = self._load_configs()\n",
    "        new_comments = self.configs.get(\"COMMENTS\")\n",
    "        del existed_configs[\"COMMENTS\"]\n",
    "        del self.configs[\"COMMENTS\"]\n",
    "        if existed_configs != self.configs:\n",
    "            raise Exception(\"Configs are not the same!\")\n",
    "        self.configs[\"COMMENTS\"] = new_comments\n",
    "\n",
    "        self.idx = self._get_max_index(self.path)\n",
    "        self._build_dirs()\n",
    "\n",
    "    def update_idx(self, inc_value: int):\n",
    "        self.new = False\n",
    "        self.idx += inc_value\n",
    "        self._build_dirs()\n",
    "        self._remove_old()\n",
    "\n",
    "    def load(self, name: str, entity: str, *data):\n",
    "        if entity == \"model\":\n",
    "            checkpoint = torch.load(os.path.join(self.dirs[\"models\"], name))\n",
    "            model, optimizer = data\n",
    "            model.load_state_dict(checkpoint[\"model_state_dict\"])\n",
    "            optimizer.load_state_dict(checkpoint[\"optimizer_state_dict\"])\n",
    "            return None\n",
    "\n",
    "        if entity == \"data\":\n",
    "            return self._load_json(os.path.join(self.dirs[\"data\"], f\"{name}.json\"))\n",
    "\n",
    "        return None\n",
    "\n",
    "    def save(self, name: str, entity: LoggerEntity, data, save_subplots: bool = False):\n",
    "        if entity == \"model\":\n",
    "            model, optimizer = data\n",
    "            torch.save(\n",
    "                {\n",
    "                    \"model_state_dict\": model.state_dict(),\n",
    "                    \"optimizer_state_dict\": optimizer.state_dict(),\n",
    "                },\n",
    "                os.path.join(self.dirs[\"models\"], name),\n",
    "            )\n",
    "            return\n",
    "        if entity == \"data\":\n",
    "            self._save_json(os.path.join(self.dirs[\"data\"], f\"{name}.json\"), data)\n",
    "            return\n",
    "\n",
    "        if entity == \"plots\":\n",
    "            plots_data = data\n",
    "            if save_subplots:\n",
    "                for single_plot in [[sp] for sp in self.log_plots]:\n",
    "                    fig = get_plots(plots_data, single_plot, row_plots=1)\n",
    "                    plot_name = f\"{single_plot[0][1]['axis_name']} over {single_plot[0][0]['axis_name']}\".replace(\n",
    "                        \" \", \"_\"\n",
    "                    ).lower()\n",
    "                    fig.savefig(\n",
    "                        os.path.join(self.dirs[\"plots\"], f\"{name}{plot_name}.png\")\n",
    "                    )\n",
    "                    plt.close()\n",
    "                    plt.clf()\n",
    "\n",
    "            fig = get_plots(plots_data, self.log_plots, row_plots=2)\n",
    "            fig.savefig(os.path.join(self.dirs[\"plots\"], f\"{name}all.png\"))\n",
    "            plt.close()\n",
    "            plt.clf()\n",
    "            return\n",
    "        if entity == \"best\":\n",
    "            best_info_dict, best_dict = data\n",
    "            best_path = os.path.abspath(self.dirs[\"best\"])\n",
    "            new_bests = {x[1] for x in best_dict.values()}\n",
    "\n",
    "            old_bests = set()\n",
    "            for item in os.listdir(best_path):\n",
    "                with contextlib.suppress(BaseException):\n",
    "                    old_bests.add(int(item))\n",
    "\n",
    "            # delete old\n",
    "            to_delete = old_bests.difference(new_bests)\n",
    "            for epoch in to_delete:\n",
    "                self._soft_rmdir(os.path.join(best_path, str(epoch)))\n",
    "\n",
    "            # save new\n",
    "            for epoch, best_data in best_info_dict.items():\n",
    "                if epoch not in new_bests:\n",
    "                    continue\n",
    "                for model_name, (model_state, optimizer_state) in best_data[\n",
    "                    \"models\"\n",
    "                ].items():\n",
    "                    path_prefix = os.path.join(best_path, str(epoch), \"models\")\n",
    "                    self._soft_mkdir(path_prefix)\n",
    "                    torch.save(\n",
    "                        {\n",
    "                            \"model_state_dict\": model_state,\n",
    "                            \"optimizer_state_dict\": optimizer_state,\n",
    "                        },\n",
    "                        os.path.join(path_prefix, model_name),\n",
    "                    )\n",
    "                for file_name, file_data in best_data[\"data\"].items():\n",
    "                    path_prefix = os.path.join(best_path, str(epoch), \"data\")\n",
    "                    self._soft_mkdir(path_prefix)\n",
    "                    self._save_json(\n",
    "                        os.path.join(path_prefix, f\"{file_name}.json\"), file_data\n",
    "                    )\n",
    "            return\n",
    "\n",
    "    def save_best_dict(self, best_dict: dict) -> None:\n",
    "        self._save_json(os.path.join(self.path, \"best.json\"), best_dict)\n",
    "\n",
    "    def load_best_dict(self) -> dict:\n",
    "        res_dict = {}\n",
    "        for k, v in self._load_json(os.path.join(self.path, \"best.json\")).items():\n",
    "            res_dict[float(k)] = v\n",
    "        return res_dict\n",
    "\n",
    "    @staticmethod\n",
    "    def update_best_dict(\n",
    "        best_dict: dict, loss, deletions_ratio: float, epoch: int\n",
    "    ) -> tuple[dict, bool]:\n",
    "        check_ls = [\n",
    "            float(ls) for r, (ls, _) in best_dict.items() if float(r) >= deletions_ratio\n",
    "        ]\n",
    "\n",
    "        # check if we removed more and got less loss\n",
    "        if len(check_ls) > 0 and loss >= min(check_ls):\n",
    "            return best_dict, False\n",
    "\n",
    "        # remove when we deleted less and got bigger loss\n",
    "        to_delete = [\n",
    "            float(r)\n",
    "            for r, (ls, _) in best_dict.items()\n",
    "            if float(r) <= deletions_ratio and float(ls) >= loss\n",
    "        ]\n",
    "        for del_k in to_delete:\n",
    "            del best_dict[del_k]\n",
    "\n",
    "        best_dict[deletions_ratio] = [loss, epoch]\n",
    "        return best_dict, True"
   ]
  },
  {
   "cell_type": "code",
   "execution_count": 8,
   "id": "3d974217",
   "metadata": {},
   "outputs": [],
   "source": [
    "class A2CNet(nn.Module):\n",
    "    def __init__(self, input_dim: int, output_dim: int, hidden_dim: int = 128) -> None:\n",
    "        super(A2CNet, self).__init__()\n",
    "\n",
    "        self.body = nn.Sequential(\n",
    "            nn.Linear(input_dim, hidden_dim),\n",
    "            nn.ReLU(),\n",
    "        )\n",
    "\n",
    "        self.policy = nn.Sequential(\n",
    "            nn.Linear(hidden_dim, hidden_dim),\n",
    "            nn.ReLU(),\n",
    "            nn.Linear(hidden_dim, output_dim),\n",
    "        )\n",
    "\n",
    "        self.value = nn.Sequential(\n",
    "            nn.Linear(hidden_dim, 1),\n",
    "        )\n",
    "\n",
    "    def forward(self, x):\n",
    "        body_out = self.body(x)\n",
    "        return self.policy(body_out), self.value(body_out)"
   ]
  },
  {
   "cell_type": "code",
   "execution_count": 9,
   "id": "8e507191",
   "metadata": {},
   "outputs": [],
   "source": [
    "class Agent:\n",
    "    def choose_action(self, action_logits):\n",
    "        return random.choices(range(len(action_logits)), F.softmax(action_logits, dim=0))[\n",
    "            0\n",
    "        ]\n",
    "\n",
    "    def choose_optimal_action(self, action_logits) -> int:\n",
    "        return int(np.argmax(F.softmax(action_logits, dim=0).cpu()).item())"
   ]
  },
  {
   "cell_type": "code",
   "execution_count": 10,
   "id": "b2c3587e",
   "metadata": {},
   "outputs": [],
   "source": [
    "def calculate_qvals(\n",
    "    rewards: list[float], gamma: float = RL_GAMMA, reward_steps: int = REWARD_STEPS\n",
    ") -> np.ndarray:\n",
    "    rw_steps = reward_steps if reward_steps != 0 else len(rewards)\n",
    "\n",
    "    return np.array(\n",
    "        [\n",
    "            list(\n",
    "                accumulate(\n",
    "                    reversed(rewards[i : i + rw_steps]), lambda x, y: gamma * x + y\n",
    "                )\n",
    "            )[-1]\n",
    "            for i in range(len(rewards))\n",
    "        ]\n",
    "    )"
   ]
  },
  {
   "cell_type": "code",
   "execution_count": 11,
   "id": "f948ed02",
   "metadata": {},
   "outputs": [],
   "source": [
    "class TrajectoryBuffer:\n",
    "    \"\"\"\n",
    "    Buffer class to store the experience from a unique policy\n",
    "    \"\"\"\n",
    "\n",
    "    def __init__(self):\n",
    "        self.states = []\n",
    "        self.actions = []\n",
    "        self.rewards = []\n",
    "        self.discounted_rewards = []\n",
    "\n",
    "    def store(\n",
    "        self,\n",
    "        states_trajectory: np.ndarray,\n",
    "        trajectory: np.ndarray,\n",
    "    ):\n",
    "        \"\"\"\n",
    "        Add trajectory values to the buffers and compute the advantage and reward to go\n",
    "\n",
    "        Parameters:\n",
    "        -----------\n",
    "        states_trajectory:  list that contains states\n",
    "        trajectory: list where each element is a list that contains: reward, action\n",
    "        tokens_info: (target_tokens, candidate_tokens, score)\n",
    "        \"\"\"\n",
    "        assert len(states_trajectory) == len(trajectory)\n",
    "\n",
    "        if len(states_trajectory) > 0:\n",
    "            self.states.extend(states_trajectory)\n",
    "            self.rewards.extend(trajectory[:, 0])\n",
    "            self.actions.extend(trajectory[:, 1])\n",
    "\n",
    "            self.discounted_rewards.extend(calculate_qvals(trajectory[:, 0]))\n",
    "\n",
    "    def get_batch(self):\n",
    "        return self.states, self.actions, self.discounted_rewards\n",
    "\n",
    "    def __len__(self):\n",
    "        assert len(self.states) == len(self.actions) == len(self.discounted_rewards)\n",
    "        return len(self.states)"
   ]
  },
  {
   "cell_type": "code",
   "execution_count": 12,
   "id": "f6b2d0c6",
   "metadata": {},
   "outputs": [],
   "source": [
    "LOGGER = Logger(EXPERIMENT_NAME, pack_hyperparameters())"
   ]
  },
  {
   "cell_type": "code",
   "execution_count": 13,
   "id": "4faa6b2a",
   "metadata": {},
   "outputs": [],
   "source": [
    "if LOGGER.new:\n",
    "    np.random.seed(42)\n",
    "    torch.manual_seed(42)"
   ]
  },
  {
   "cell_type": "code",
   "execution_count": 14,
   "id": "b0450e8e",
   "metadata": {},
   "outputs": [],
   "source": [
    "log_data = {\n",
    "    \"Mean Reward\": [],\n",
    "    \"Mean Episode Length\": [],\n",
    "    \"Mean PGN Loss\": [],\n",
    "    \"Mean PGN Policy Loss\": [],\n",
    "    \"Mean PGN Value Loss\": [],\n",
    "    \"Mean Test Loss\": [],\n",
    "    \"Entropy\": [],\n",
    "    \"Eval Epoch\": [],\n",
    "    \"Eval Time\": [],\n",
    "    \"Epoch\": [],\n",
    "    \"Time\": [],\n",
    "}\n",
    "\n",
    "statistics = {\n",
    "    \"Initial Target length\": [],\n",
    "    \"Initial Candidate length\": [],\n",
    "    \"Processed Target length\": [],\n",
    "    \"Processed Candidate length\": [],\n",
    "    \"Deletions\": [],\n",
    "    \"Deletions ratio\": [],\n",
    "    \"Test Deletions ratio\": [],\n",
    "    \"RNet reward\": [],\n",
    "    \"Deletions reward\": [],\n",
    "}\n"
   ]
  },
  {
   "cell_type": "markdown",
   "id": "d535cf8a",
   "metadata": {},
   "source": [
    "# Loop"
   ]
  },
  {
   "cell_type": "code",
   "execution_count": 15,
   "id": "b2d81299",
   "metadata": {},
   "outputs": [],
   "source": [
    "import logging\n",
    "import os\n",
    "import sys\n",
    "import warnings\n",
    "\n",
    "ROOT_FOLDER = os.path.join(\".\", \"..\")\n",
    "if ROOT_FOLDER not in sys.path:\n",
    "    sys.path.insert(0, ROOT_FOLDER)\n",
    "\n",
    "\n",
    "from dataset import RegexDataset\n",
    "from environmentV2 import EnvironmentV2, EnvSettings\n",
    "\n",
    "warnings.filterwarnings(\"ignore\")\n",
    "logging.disable(logging.WARNING)\n",
    "torch.backends.cudnn.deterministic = True"
   ]
  },
  {
   "cell_type": "code",
   "execution_count": 16,
   "id": "a1f6fdca",
   "metadata": {},
   "outputs": [
    {
     "name": "stdout",
     "output_type": "stream",
     "text": [
      "('a2d', [0, 1, 0], 1)\n",
      "('2bb', [1, 0, 0], 1)\n",
      "('a2d', [0, 1, 0], 1)\n",
      "('2bb', [1, 0, 0], 1)\n",
      "('2bb', [1, 0, 0], 1)\n",
      "('a2d', [0, 1, 0], 1)\n",
      "('2bb', [1, 0, 0], 1)\n",
      "('a2d', [0, 1, 0], 1)\n",
      "('a2d', [0, 1, 0], 1)\n",
      "('2bb', [1, 0, 0], 1)\n"
     ]
    }
   ],
   "source": [
    "dataset = RegexDataset([\"a2d\", \"2bb\"], r\"\\d+\")\n",
    "data_iter = dataset.create_iterator()\n",
    "\n",
    "for i in range(10):\n",
    "    print(next(data_iter))"
   ]
  },
  {
   "cell_type": "code",
   "execution_count": 17,
   "id": "592f29fa",
   "metadata": {},
   "outputs": [
    {
     "data": {
      "text/plain": [
       "11"
      ]
     },
     "execution_count": 17,
     "metadata": {},
     "output_type": "execute_result"
    }
   ],
   "source": [
    "env = EnvironmentV2(RegexDataset([\"a45d\", \"45bb\"], r\"\\d+\"), settings=EnvSettings(max_steps=3))\n",
    "\n",
    "env.action_space"
   ]
  },
  {
   "cell_type": "code",
   "execution_count": 18,
   "id": "bf94d626",
   "metadata": {},
   "outputs": [],
   "source": [
    "agent = Agent()\n",
    "\n",
    "pgn = A2CNet(\n",
    "    input_dim=env.state_space, output_dim=env.action_space\n",
    ").to(DEVICE)\n",
    "pgn_optimizer = optim.Adam(pgn.parameters(), lr=PGN_LR)"
   ]
  },
  {
   "cell_type": "code",
   "execution_count": 19,
   "id": "b809e1f1",
   "metadata": {},
   "outputs": [],
   "source": [
    "def get_uniform_entropy(n_actions: int):\n",
    "    probs = np.array([1 / n_actions for _ in range(n_actions)])\n",
    "    return -np.sum(probs * np.log(probs))\n",
    "\n",
    "\n",
    "def moving_average(x, w=10):\n",
    "    w = min(w, max(1, len(x) // 10))\n",
    "    return scipy.signal.savgol_filter(x, w, min(3, w - 1))"
   ]
  },
  {
   "cell_type": "code",
   "execution_count": 20,
   "id": "1adb517e",
   "metadata": {},
   "outputs": [],
   "source": [
    "from copy import copy"
   ]
  },
  {
   "cell_type": "code",
   "execution_count": 21,
   "id": "32386d10",
   "metadata": {},
   "outputs": [],
   "source": [
    "def evaluate(\n",
    "    pgn: nn.Module,\n",
    "    agent: Agent,\n",
    "    env,\n",
    "):  # (losses, deleted ratio, deletion statistics)\n",
    "    pgn.eval()\n",
    "\n",
    "    state = env.reset()\n",
    "    done = False\n",
    "    while not done:\n",
    "            with torch.no_grad():\n",
    "                state_tensor = torch.tensor(state, dtype=torch.float32, device=DEVICE)\n",
    "                action_logits = pgn(state_tensor)[0]\n",
    "\n",
    "            action = agent.choose_optimal_action(action_logits)\n",
    "            state2, _, done = env.step(action)\n",
    "            state = copy(state2)\n",
    "\n",
    "            if done:\n",
    "                state = env.reset()\n",
    "                print(\"EVAL: \", env.get_regexp())"
   ]
  },
  {
   "cell_type": "code",
   "execution_count": 22,
   "id": "ff96d046",
   "metadata": {},
   "outputs": [
    {
     "name": "stderr",
     "output_type": "stream",
     "text": [
      "Epoch #1: 100%|██████████| 10/10 [00:00<00:00, 85.46it/s, Mean reward=-0.549, Mean PGN Loss=-0.941, Entropy=2.39]\n",
      "Epoch #2: 100%|██████████| 10/10 [00:00<00:00, 1000.00it/s, Mean reward=-0.604, Mean PGN Loss=-0.807, Entropy=2.39]\n",
      "Epoch #3: 100%|██████████| 10/10 [00:00<00:00, 1000.17it/s, Mean reward=-0.511, Mean PGN Loss=-0.431, Entropy=2.38]\n",
      "Epoch #4: 100%|██████████| 10/10 [00:00<00:00, 1111.07it/s, Mean reward=-0.33, Mean PGN Loss=0.8, Entropy=2.37]\n",
      "Epoch #5: 100%|██████████| 10/10 [00:00<00:00, 1171.63it/s, Mean reward=-0.257, Mean PGN Loss=1.25, Entropy=2.36]\n",
      "Epoch #6: 100%|██████████| 10/10 [00:00<00:00, 769.23it/s, Mean reward=-0.532, Mean PGN Loss=0.15, Entropy=2.34]\n",
      "Epoch #7: 100%|██████████| 10/10 [00:00<00:00, 476.17it/s, Mean reward=-0.312, Mean PGN Loss=1.32, Entropy=2.3]\n",
      "Epoch #8: 100%|██████████| 10/10 [00:00<00:00, 999.98it/s, Mean reward=-0.511, Mean PGN Loss=0.209, Entropy=2.25]\n",
      "Epoch #9: 100%|██████████| 10/10 [00:00<00:00, 1111.04it/s, Mean reward=-0.216, Mean PGN Loss=1.44, Entropy=2.17]\n",
      "Epoch #10: 100%|██████████| 10/10 [00:00<00:00, 1000.07it/s, Mean reward=-0.494, Mean PGN Loss=0.105, Entropy=2.03]\n"
     ]
    },
    {
     "name": "stdout",
     "output_type": "stream",
     "text": [
      "EVAL:  \n"
     ]
    },
    {
     "name": "stderr",
     "output_type": "stream",
     "text": [
      "Epoch #11: 100%|██████████| 10/10 [00:00<00:00, 1249.72it/s, Mean reward=-0.456, Mean PGN Loss=-0.0189, Entropy=1.9]\n",
      "Epoch #12: 100%|██████████| 10/10 [00:00<00:00, 1249.98it/s, Mean reward=0.357, Mean PGN Loss=3.51, Entropy=1.61]\n",
      "Epoch #13: 100%|██████████| 10/10 [00:00<00:00, 1428.53it/s, Mean reward=-0.439, Mean PGN Loss=-0.209, Entropy=1.43]\n",
      "Epoch #14: 100%|██████████| 10/10 [00:00<00:00, 1428.53it/s, Mean reward=-0.38, Mean PGN Loss=-0.241, Entropy=1.18]\n",
      "Epoch #15: 100%|██████████| 10/10 [00:00<00:00, 2000.05it/s, Mean reward=-0.0052, Mean PGN Loss=2.1, Entropy=1.02]\n",
      "Epoch #16: 100%|██████████| 10/10 [00:00<00:00, 1666.72it/s, Mean reward=-0.304, Mean PGN Loss=-0.101, Entropy=0.852]\n",
      "Epoch #17: 100%|██████████| 10/10 [00:00<00:00, 1666.59it/s, Mean reward=0.488, Mean PGN Loss=4.34, Entropy=0.734]\n",
      "Epoch #18: 100%|██████████| 10/10 [00:00<00:00, 2000.05it/s, Mean reward=-0.0052, Mean PGN Loss=1.74, Entropy=0.844]\n",
      "Epoch #19: 100%|██████████| 10/10 [00:00<00:00, 1666.66it/s, Mean reward=0.231, Mean PGN Loss=2.59, Entropy=0.895]\n",
      "Epoch #20: 100%|██████████| 10/10 [00:00<00:00, 1666.46it/s, Mean reward=1, Mean PGN Loss=4.91, Entropy=0.922]\n"
     ]
    },
    {
     "name": "stdout",
     "output_type": "stream",
     "text": [
      "EVAL:  \n"
     ]
    },
    {
     "name": "stderr",
     "output_type": "stream",
     "text": [
      "Epoch #21: 100%|██████████| 10/10 [00:00<00:00, 1666.85it/s, Mean reward=0.766, Mean PGN Loss=4.1, Entropy=1.09]\n",
      "Epoch #22: 100%|██████████| 10/10 [00:00<00:00, 1428.38it/s, Mean reward=0.45, Mean PGN Loss=1.93, Entropy=1.19]\n",
      "Epoch #23: 100%|██████████| 10/10 [00:00<00:00, 1428.63it/s, Mean reward=1.17, Mean PGN Loss=5.51, Entropy=1.21]\n",
      "Epoch #24: 100%|██████████| 10/10 [00:00<00:00, 1428.53it/s, Mean reward=0.542, Mean PGN Loss=2.85, Entropy=1.24]\n",
      "Epoch #25: 100%|██████████| 10/10 [00:00<00:00, 1249.98it/s, Mean reward=0.611, Mean PGN Loss=1.15, Entropy=1.26]\n",
      "Epoch #26: 100%|██████████| 10/10 [00:00<00:00, 1428.82it/s, Mean reward=0.337, Mean PGN Loss=0.847, Entropy=1.16]\n",
      "Epoch #27: 100%|██████████| 10/10 [00:00<00:00, 1413.75it/s, Mean reward=0.176, Mean PGN Loss=0.792, Entropy=1.2]\n",
      "Epoch #28: 100%|██████████| 10/10 [00:00<00:00, 1667.25it/s, Mean reward=0.395, Mean PGN Loss=1.15, Entropy=1.12]\n",
      "Epoch #29: 100%|██████████| 10/10 [00:00<00:00, 1250.05it/s, Mean reward=1.13, Mean PGN Loss=2.06, Entropy=1.02]\n",
      "Epoch #30: 100%|██████████| 10/10 [00:00<00:00, 1250.46it/s, Mean reward=0.261, Mean PGN Loss=0.436, Entropy=0.988]\n"
     ]
    },
    {
     "name": "stdout",
     "output_type": "stream",
     "text": [
      "EVAL:  4\n"
     ]
    },
    {
     "name": "stderr",
     "output_type": "stream",
     "text": [
      "Epoch #31: 100%|██████████| 10/10 [00:00<00:00, 1666.26it/s, Mean reward=0.176, Mean PGN Loss=1.12, Entropy=0.953]\n",
      "Epoch #32: 100%|██████████| 10/10 [00:00<00:00, 1428.29it/s, Mean reward=0.1, Mean PGN Loss=0.758, Entropy=0.869]\n",
      "Epoch #33: 100%|██████████| 10/10 [00:00<00:00, 1250.43it/s, Mean reward=1.87, Mean PGN Loss=5.61, Entropy=0.824]\n",
      "Epoch #34: 100%|██████████| 10/10 [00:00<00:00, 1428.29it/s, Mean reward=0.91, Mean PGN Loss=1.34, Entropy=0.742]\n",
      "Epoch #35: 100%|██████████| 10/10 [00:00<00:00, 1428.43it/s, Mean reward=1.65, Mean PGN Loss=3.49, Entropy=0.702]\n",
      "Epoch #36: 100%|██████████| 10/10 [00:00<00:00, 1428.67it/s, Mean reward=1.5, Mean PGN Loss=2.13, Entropy=0.653]\n",
      "Epoch #37: 100%|██████████| 10/10 [00:00<00:00, 1666.99it/s, Mean reward=2.05, Mean PGN Loss=2.02, Entropy=0.553]\n",
      "Epoch #38: 100%|██████████| 10/10 [00:00<00:00, 1250.24it/s, Mean reward=1.61, Mean PGN Loss=5.21, Entropy=0.581]\n",
      "Epoch #39: 100%|██████████| 10/10 [00:00<00:00, 1428.67it/s, Mean reward=1.79, Mean PGN Loss=1.8, Entropy=0.544]\n",
      "Epoch #40: 100%|██████████| 10/10 [00:00<00:00, 1428.87it/s, Mean reward=1.72, Mean PGN Loss=1.14, Entropy=0.427]\n"
     ]
    },
    {
     "name": "stdout",
     "output_type": "stream",
     "text": [
      "EVAL:  4\n"
     ]
    },
    {
     "name": "stderr",
     "output_type": "stream",
     "text": [
      "Epoch #41: 100%|██████████| 10/10 [00:00<00:00, 1428.97it/s, Mean reward=2.31, Mean PGN Loss=1.38, Entropy=0.399]\n",
      "Epoch #42: 100%|██████████| 10/10 [00:00<00:00, 1666.85it/s, Mean reward=1.79, Mean PGN Loss=0.706, Entropy=0.365]\n",
      "Epoch #43: 100%|██████████| 10/10 [00:00<00:00, 1249.90it/s, Mean reward=2.05, Mean PGN Loss=0.621, Entropy=0.305]\n",
      "Epoch #44: 100%|██████████| 10/10 [00:00<00:00, 1664.14it/s, Mean reward=2.24, Mean PGN Loss=1.93, Entropy=0.305]\n",
      "Epoch #45: 100%|██████████| 10/10 [00:00<00:00, 1428.33it/s, Mean reward=2.01, Mean PGN Loss=0.552, Entropy=0.209]\n",
      "Epoch #46: 100%|██████████| 10/10 [00:00<00:00, 1428.24it/s, Mean reward=2.31, Mean PGN Loss=0.255, Entropy=0.192]\n",
      "Epoch #47: 100%|██████████| 10/10 [00:00<00:00, 1428.72it/s, Mean reward=2.31, Mean PGN Loss=0.214, Entropy=0.206]\n",
      "Epoch #48: 100%|██████████| 10/10 [00:00<00:00, 1428.14it/s, Mean reward=2.49, Mean PGN Loss=1.22, Entropy=0.242]\n",
      "Epoch #49: 100%|██████████| 10/10 [00:00<00:00, 1250.24it/s, Mean reward=2.31, Mean PGN Loss=0.0503, Entropy=0.141]\n",
      "Epoch #50: 100%|██████████| 10/10 [00:00<00:00, 1428.63it/s, Mean reward=2.05, Mean PGN Loss=-0.325, Entropy=0.138]\n"
     ]
    },
    {
     "name": "stdout",
     "output_type": "stream",
     "text": [
      "EVAL:  4\n"
     ]
    },
    {
     "name": "stderr",
     "output_type": "stream",
     "text": [
      "Epoch #51: 100%|██████████| 10/10 [00:00<00:00, 1428.43it/s, Mean reward=2.49, Mean PGN Loss=0.895, Entropy=0.181]\n",
      "Epoch #52: 100%|██████████| 10/10 [00:00<00:00, 1249.98it/s, Mean reward=2.31, Mean PGN Loss=0.116, Entropy=0.117]\n",
      "Epoch #53: 100%|██████████| 10/10 [00:00<00:00, 1250.17it/s, Mean reward=2.01, Mean PGN Loss=0.754, Entropy=0.109]\n",
      "Epoch #54: 100%|██████████| 10/10 [00:00<00:00, 1250.09it/s, Mean reward=2.49, Mean PGN Loss=0.751, Entropy=0.211]\n",
      "Epoch #55: 100%|██████████| 10/10 [00:00<00:00, 1429.21it/s, Mean reward=2.49, Mean PGN Loss=0.812, Entropy=0.175]\n",
      "Epoch #56: 100%|██████████| 10/10 [00:00<00:00, 1248.60it/s, Mean reward=2.31, Mean PGN Loss=0.218, Entropy=0.126]\n",
      "Epoch #57: 100%|██████████| 10/10 [00:00<00:00, 1428.72it/s, Mean reward=2.31, Mean PGN Loss=0.128, Entropy=0.18]\n",
      "Epoch #58: 100%|██████████| 10/10 [00:00<00:00, 1250.17it/s, Mean reward=2.49, Mean PGN Loss=0.755, Entropy=0.198]\n",
      "Epoch #59: 100%|██████████| 10/10 [00:00<00:00, 1428.67it/s, Mean reward=2.31, Mean PGN Loss=0.163, Entropy=0.163]\n",
      "Epoch #60: 100%|██████████| 10/10 [00:00<00:00, 1250.05it/s, Mean reward=2.49, Mean PGN Loss=0.704, Entropy=0.229]\n"
     ]
    },
    {
     "name": "stdout",
     "output_type": "stream",
     "text": [
      "EVAL:  4\n"
     ]
    },
    {
     "name": "stderr",
     "output_type": "stream",
     "text": [
      "Epoch #61: 100%|██████████| 10/10 [00:00<00:00, 1428.29it/s, Mean reward=2.31, Mean PGN Loss=0.0484, Entropy=0.251]\n",
      "Epoch #62: 100%|██████████| 10/10 [00:00<00:00, 1250.09it/s, Mean reward=2.31, Mean PGN Loss=0.0636, Entropy=0.228]\n",
      "Epoch #63: 100%|██████████| 10/10 [00:00<00:00, 1250.35it/s, Mean reward=2.49, Mean PGN Loss=0.639, Entropy=0.301]\n",
      "Epoch #64: 100%|██████████| 10/10 [00:00<00:00, 1428.38it/s, Mean reward=2.49, Mean PGN Loss=0.586, Entropy=0.428]\n",
      "Epoch #65: 100%|██████████| 10/10 [00:00<00:00, 1428.24it/s, Mean reward=2.38, Mean PGN Loss=1.89, Entropy=0.516]\n",
      "Epoch #66: 100%|██████████| 10/10 [00:00<00:00, 1428.72it/s, Mean reward=2.31, Mean PGN Loss=-0.0217, Entropy=0.373]\n",
      "Epoch #67: 100%|██████████| 10/10 [00:00<00:00, 1428.43it/s, Mean reward=2.79, Mean PGN Loss=1.76, Entropy=0.585]\n",
      "Epoch #68: 100%|██████████| 10/10 [00:00<00:00, 1428.19it/s, Mean reward=1.72, Mean PGN Loss=1.37, Entropy=0.517]\n",
      "Epoch #69: 100%|██████████| 10/10 [00:00<00:00, 1428.48it/s, Mean reward=2.01, Mean PGN Loss=0.78, Entropy=0.459]\n",
      "Epoch #70: 100%|██████████| 10/10 [00:00<00:00, 1111.52it/s, Mean reward=2.2, Mean PGN Loss=1.35, Entropy=0.475]\n"
     ]
    },
    {
     "name": "stdout",
     "output_type": "stream",
     "text": [
      "EVAL:  4\n"
     ]
    },
    {
     "name": "stderr",
     "output_type": "stream",
     "text": [
      "Epoch #71: 100%|██████████| 10/10 [00:00<00:00, 1250.05it/s, Mean reward=1.9, Mean PGN Loss=1.91, Entropy=0.495]\n",
      "Epoch #72: 100%|██████████| 10/10 [00:00<00:00, 1249.90it/s, Mean reward=2.31, Mean PGN Loss=0.0229, Entropy=0.258]\n",
      "Epoch #73: 100%|██████████| 10/10 [00:00<00:00, 1249.76it/s, Mean reward=2.68, Mean PGN Loss=1.47, Entropy=0.275]\n",
      "Epoch #74: 100%|██████████| 10/10 [00:00<00:00, 1250.17it/s, Mean reward=2.38, Mean PGN Loss=1.87, Entropy=0.29]\n",
      "Epoch #75: 100%|██████████| 10/10 [00:00<00:00, 1428.87it/s, Mean reward=2.68, Mean PGN Loss=1.57, Entropy=0.219]\n",
      "Epoch #76: 100%|██████████| 10/10 [00:00<00:00, 1250.13it/s, Mean reward=2.68, Mean PGN Loss=1.56, Entropy=0.209]\n",
      "Epoch #77: 100%|██████████| 10/10 [00:00<00:00, 1666.79it/s, Mean reward=2.31, Mean PGN Loss=0.0307, Entropy=0.167]\n",
      "Epoch #78: 100%|██████████| 10/10 [00:00<00:00, 1250.02it/s, Mean reward=2.68, Mean PGN Loss=1.45, Entropy=0.237]\n",
      "Epoch #79: 100%|██████████| 10/10 [00:00<00:00, 1428.63it/s, Mean reward=2.31, Mean PGN Loss=0.0126, Entropy=0.181]\n",
      "Epoch #80: 100%|██████████| 10/10 [00:00<00:00, 1250.05it/s, Mean reward=2.68, Mean PGN Loss=1.26, Entropy=0.257]\n"
     ]
    },
    {
     "name": "stdout",
     "output_type": "stream",
     "text": [
      "EVAL:  4\n"
     ]
    },
    {
     "name": "stderr",
     "output_type": "stream",
     "text": [
      "Epoch #81: 100%|██████████| 10/10 [00:00<00:00, 1428.72it/s, Mean reward=2.31, Mean PGN Loss=0.00432, Entropy=0.211]\n",
      "Epoch #82: 100%|██████████| 10/10 [00:00<00:00, 1249.98it/s, Mean reward=2.49, Mean PGN Loss=0.568, Entropy=0.246]\n",
      "Epoch #83: 100%|██████████| 10/10 [00:00<00:00, 1250.24it/s, Mean reward=2.31, Mean PGN Loss=0.0113, Entropy=0.248]\n",
      "Epoch #84: 100%|██████████| 10/10 [00:00<00:00, 1249.94it/s, Mean reward=2.68, Mean PGN Loss=0.927, Entropy=0.298]\n",
      "Epoch #85: 100%|██████████| 10/10 [00:00<00:00, 1249.94it/s, Mean reward=2.86, Mean PGN Loss=1.21, Entropy=0.333]\n",
      "Epoch #86: 100%|██████████| 10/10 [00:00<00:00, 1111.31it/s, Mean reward=3.05, Mean PGN Loss=1.37, Entropy=0.369]\n",
      "Epoch #87: 100%|██████████| 10/10 [00:00<00:00, 1249.90it/s, Mean reward=2.68, Mean PGN Loss=0.57, Entropy=0.427]\n",
      "Epoch #88: 100%|██████████| 10/10 [00:00<00:00, 1111.13it/s, Mean reward=2.09, Mean PGN Loss=2.61, Entropy=0.448]\n",
      "Epoch #89: 100%|██████████| 10/10 [00:00<00:00, 1110.19it/s, Mean reward=3.23, Mean PGN Loss=1.05, Entropy=0.44]\n",
      "Epoch #90: 100%|██████████| 10/10 [00:00<00:00, 1250.13it/s, Mean reward=2.57, Mean PGN Loss=1.78, Entropy=0.428]\n"
     ]
    },
    {
     "name": "stdout",
     "output_type": "stream",
     "text": [
      "EVAL:  45\n"
     ]
    },
    {
     "name": "stderr",
     "output_type": "stream",
     "text": [
      "Epoch #91: 100%|██████████| 10/10 [00:00<00:00, 1050.49it/s, Mean reward=3.31, Mean PGN Loss=2.05, Entropy=0.477]\n",
      "Epoch #92: 100%|██████████| 10/10 [00:00<00:00, 999.83it/s, Mean reward=3.01, Mean PGN Loss=2.93, Entropy=0.483] \n",
      "Epoch #93: 100%|██████████| 10/10 [00:00<00:00, 1250.28it/s, Mean reward=2.27, Mean PGN Loss=2.85, Entropy=0.441]\n",
      "Epoch #94: 100%|██████████| 10/10 [00:00<00:00, 1250.17it/s, Mean reward=2.75, Mean PGN Loss=1.63, Entropy=0.446]\n",
      "Epoch #95: 100%|██████████| 10/10 [00:00<00:00, 1110.78it/s, Mean reward=2.83, Mean PGN Loss=2.86, Entropy=0.458]\n",
      "Epoch #96: 100%|██████████| 10/10 [00:00<00:00, 1111.37it/s, Mean reward=2.16, Mean PGN Loss=4.5, Entropy=0.455]\n",
      "Epoch #97: 100%|██████████| 10/10 [00:00<00:00, 1249.90it/s, Mean reward=2.27, Mean PGN Loss=2.61, Entropy=0.403]\n",
      "Epoch #98: 100%|██████████| 10/10 [00:00<00:00, 1111.07it/s, Mean reward=3.42, Mean PGN Loss=1.12, Entropy=0.375]\n",
      "Epoch #99: 100%|██████████| 10/10 [00:00<00:00, 1250.02it/s, Mean reward=2.86, Mean PGN Loss=0.786, Entropy=0.369]\n",
      "Epoch #100: 100%|██████████| 10/10 [00:00<00:00, 1250.17it/s, Mean reward=2.68, Mean PGN Loss=0.575, Entropy=0.406]\n"
     ]
    },
    {
     "name": "stdout",
     "output_type": "stream",
     "text": [
      "EVAL:  4\n"
     ]
    },
    {
     "name": "stderr",
     "output_type": "stream",
     "text": [
      "Epoch #101: 100%|██████████| 10/10 [00:00<00:00, 1428.48it/s, Mean reward=2.86, Mean PGN Loss=0.873, Entropy=0.431]\n",
      "Epoch #102: 100%|██████████| 10/10 [00:00<00:00, 1249.83it/s, Mean reward=2.49, Mean PGN Loss=0.289, Entropy=0.54]\n",
      "Epoch #103: 100%|██████████| 10/10 [00:00<00:00, 555.51it/s, Mean reward=3.05, Mean PGN Loss=1.16, Entropy=0.492]\n",
      "Epoch #104: 100%|██████████| 10/10 [00:00<00:00, 1000.02it/s, Mean reward=3.23, Mean PGN Loss=1.32, Entropy=0.462]\n",
      "Epoch #105: 100%|██████████| 10/10 [00:00<00:00, 999.98it/s, Mean reward=3.23, Mean PGN Loss=1.17, Entropy=0.461] \n",
      "Epoch #106: 100%|██████████| 10/10 [00:00<00:00, 1111.28it/s, Mean reward=3.42, Mean PGN Loss=1.15, Entropy=0.361]\n",
      "Epoch #107: 100%|██████████| 10/10 [00:00<00:00, 1111.28it/s, Mean reward=3.12, Mean PGN Loss=1.25, Entropy=0.308]\n",
      "Epoch #108: 100%|██████████| 10/10 [00:00<00:00, 1111.19it/s, Mean reward=3.31, Mean PGN Loss=1.9, Entropy=0.273]\n",
      "Epoch #109: 100%|██████████| 10/10 [00:00<00:00, 1111.46it/s, Mean reward=3.79, Mean PGN Loss=0.871, Entropy=0.252]\n",
      "Epoch #110: 100%|██████████| 10/10 [00:00<00:00, 1111.13it/s, Mean reward=3.68, Mean PGN Loss=1.96, Entropy=0.234]\n"
     ]
    },
    {
     "name": "stdout",
     "output_type": "stream",
     "text": [
      "EVAL:  45\n"
     ]
    },
    {
     "name": "stderr",
     "output_type": "stream",
     "text": [
      "Epoch #111: 100%|██████████| 10/10 [00:00<00:00, 1111.37it/s, Mean reward=3.2, Mean PGN Loss=2.8, Entropy=0.246]\n",
      "Epoch #112: 100%|██████████| 10/10 [00:00<00:00, 999.81it/s, Mean reward=4.16, Mean PGN Loss=0.646, Entropy=0.184] \n",
      "Epoch #113: 100%|██████████| 10/10 [00:00<00:00, 1111.31it/s, Mean reward=3.68, Mean PGN Loss=1.62, Entropy=0.187]\n",
      "Epoch #114: 100%|██████████| 10/10 [00:00<00:00, 1111.02it/s, Mean reward=3.98, Mean PGN Loss=0.317, Entropy=0.156]\n",
      "Epoch #115: 100%|██████████| 10/10 [00:00<00:00, 1111.22it/s, Mean reward=4.16, Mean PGN Loss=0.313, Entropy=0.143]\n",
      "Epoch #116: 100%|██████████| 10/10 [00:00<00:00, 1111.37it/s, Mean reward=3.5, Mean PGN Loss=1.28, Entropy=0.178]\n",
      "Epoch #117: 100%|██████████| 10/10 [00:00<00:00, 1250.05it/s, Mean reward=3.79, Mean PGN Loss=0.155, Entropy=0.208]\n",
      "Epoch #118: 100%|██████████| 10/10 [00:00<00:00, 1111.07it/s, Mean reward=3.2, Mean PGN Loss=3.72, Entropy=0.225]\n",
      "Epoch #119: 100%|██████████| 10/10 [00:00<00:00, 1111.28it/s, Mean reward=4.16, Mean PGN Loss=0.17, Entropy=0.181]\n",
      "Epoch #120: 100%|██████████| 10/10 [00:00<00:00, 1111.10it/s, Mean reward=4.16, Mean PGN Loss=0.149, Entropy=0.172]\n"
     ]
    },
    {
     "name": "stdout",
     "output_type": "stream",
     "text": [
      "EVAL:  45\n"
     ]
    },
    {
     "name": "stderr",
     "output_type": "stream",
     "text": [
      "Epoch #121: 100%|██████████| 10/10 [00:00<00:00, 1250.35it/s, Mean reward=3.5, Mean PGN Loss=1.81, Entropy=0.202]\n",
      "Epoch #122: 100%|██████████| 10/10 [00:00<00:00, 1111.22it/s, Mean reward=3.2, Mean PGN Loss=3.6, Entropy=0.139]\n",
      "Epoch #123: 100%|██████████| 10/10 [00:00<00:00, 1110.99it/s, Mean reward=4.16, Mean PGN Loss=0.103, Entropy=0.0868]\n",
      "Epoch #124: 100%|██████████| 10/10 [00:00<00:00, 1000.26it/s, Mean reward=4.16, Mean PGN Loss=0.107, Entropy=0.0662]\n",
      "Epoch #125: 100%|██████████| 10/10 [00:00<00:00, 1111.22it/s, Mean reward=4.16, Mean PGN Loss=0.114, Entropy=0.0591]\n",
      "Epoch #126: 100%|██████████| 10/10 [00:00<00:00, 454.44it/s, Mean reward=4.16, Mean PGN Loss=0.121, Entropy=0.0584]\n",
      "Epoch #127: 100%|██████████| 10/10 [00:00<00:00, 625.15it/s, Mean reward=3.68, Mean PGN Loss=1.19, Entropy=0.0762]\n",
      "Epoch #128: 100%|██████████| 10/10 [00:00<00:00, 769.12it/s, Mean reward=4.16, Mean PGN Loss=0.132, Entropy=0.0699]\n",
      "Epoch #129: 100%|██████████| 10/10 [00:00<00:00, 909.04it/s, Mean reward=3.98, Mean PGN Loss=0.0905, Entropy=0.0841]\n",
      "Epoch #130: 100%|██████████| 10/10 [00:00<00:00, 1111.16it/s, Mean reward=3.79, Mean PGN Loss=0.0728, Entropy=0.0971]\n"
     ]
    },
    {
     "name": "stdout",
     "output_type": "stream",
     "text": [
      "EVAL:  45\n"
     ]
    },
    {
     "name": "stderr",
     "output_type": "stream",
     "text": [
      "Epoch #131: 100%|██████████| 10/10 [00:00<00:00, 1000.48it/s, Mean reward=3.98, Mean PGN Loss=0.0969, Entropy=0.095]\n",
      "Epoch #132: 100%|██████████| 10/10 [00:00<00:00, 909.02it/s, Mean reward=3.98, Mean PGN Loss=0.0834, Entropy=0.0916]\n",
      "Epoch #133: 100%|██████████| 10/10 [00:00<00:00, 1000.02it/s, Mean reward=3.98, Mean PGN Loss=0.0619, Entropy=0.0843]\n",
      "Epoch #134: 100%|██████████| 10/10 [00:00<00:00, 1111.04it/s, Mean reward=3.98, Mean PGN Loss=0.0345, Entropy=0.0745]\n",
      "Epoch #135: 100%|██████████| 10/10 [00:00<00:00, 1111.25it/s, Mean reward=4.16, Mean PGN Loss=0.0493, Entropy=0.0616]\n",
      "Epoch #136: 100%|██████████| 10/10 [00:00<00:00, 1091.75it/s, Mean reward=4.16, Mean PGN Loss=0.0328, Entropy=0.0538]\n",
      "Epoch #137: 100%|██████████| 10/10 [00:00<00:00, 1000.00it/s, Mean reward=4.16, Mean PGN Loss=0.0198, Entropy=0.0479]\n",
      "Epoch #138: 100%|██████████| 10/10 [00:00<00:00, 1111.07it/s, Mean reward=4.16, Mean PGN Loss=0.0116, Entropy=0.0436]\n",
      "Epoch #139: 100%|██████████| 10/10 [00:00<00:00, 1250.43it/s, Mean reward=3.98, Mean PGN Loss=-0.054, Entropy=0.0417]\n",
      "Epoch #140: 100%|██████████| 10/10 [00:00<00:00, 999.98it/s, Mean reward=4.16, Mean PGN Loss=0.00936, Entropy=0.0351] \n"
     ]
    },
    {
     "name": "stdout",
     "output_type": "stream",
     "text": [
      "EVAL:  45\n"
     ]
    },
    {
     "name": "stderr",
     "output_type": "stream",
     "text": [
      "Epoch #141: 100%|██████████| 10/10 [00:00<00:00, 1111.16it/s, Mean reward=4.16, Mean PGN Loss=0.0123, Entropy=0.0313]\n",
      "Epoch #142: 100%|██████████| 10/10 [00:00<00:00, 909.33it/s, Mean reward=4.16, Mean PGN Loss=0.016, Entropy=0.0283] \n",
      "Epoch #143: 100%|██████████| 10/10 [00:00<00:00, 1111.04it/s, Mean reward=3.98, Mean PGN Loss=-0.0692, Entropy=0.0293]\n",
      "Epoch #144: 100%|██████████| 10/10 [00:00<00:00, 1000.02it/s, Mean reward=4.16, Mean PGN Loss=0.0198, Entropy=0.0231]\n",
      "Epoch #145: 100%|██████████| 10/10 [00:00<00:00, 1111.13it/s, Mean reward=4.16, Mean PGN Loss=0.0189, Entropy=0.0211]\n",
      "Epoch #146: 100%|██████████| 10/10 [00:00<00:00, 1000.05it/s, Mean reward=4.16, Mean PGN Loss=0.0169, Entropy=0.0198]\n",
      "Epoch #147: 100%|██████████| 10/10 [00:00<00:00, 1111.19it/s, Mean reward=3.68, Mean PGN Loss=1.32, Entropy=0.0399]\n",
      "Epoch #148: 100%|██████████| 10/10 [00:00<00:00, 1111.16it/s, Mean reward=4.16, Mean PGN Loss=0.00888, Entropy=0.0179]\n",
      "Epoch #149: 100%|██████████| 10/10 [00:00<00:00, 1111.19it/s, Mean reward=4.16, Mean PGN Loss=0.0071, Entropy=0.0176]\n",
      "Epoch #150: 100%|██████████| 10/10 [00:00<00:00, 1000.17it/s, Mean reward=4.16, Mean PGN Loss=0.00826, Entropy=0.0178]\n"
     ]
    },
    {
     "name": "stdout",
     "output_type": "stream",
     "text": [
      "EVAL:  45\n"
     ]
    },
    {
     "name": "stderr",
     "output_type": "stream",
     "text": [
      "Epoch #151: 100%|██████████| 10/10 [00:00<00:00, 1111.22it/s, Mean reward=4.16, Mean PGN Loss=0.0112, Entropy=0.0184]\n",
      "Epoch #152: 100%|██████████| 10/10 [00:00<00:00, 999.64it/s, Mean reward=4.16, Mean PGN Loss=0.0148, Entropy=0.0195]\n",
      "Epoch #153: 100%|██████████| 10/10 [00:00<00:00, 1000.19it/s, Mean reward=3.68, Mean PGN Loss=0.986, Entropy=0.0207]\n",
      "Epoch #154: 100%|██████████| 10/10 [00:00<00:00, 1111.31it/s, Mean reward=4.16, Mean PGN Loss=0.0274, Entropy=0.0226]\n",
      "Epoch #155: 100%|██████████| 10/10 [00:00<00:00, 1111.31it/s, Mean reward=4.16, Mean PGN Loss=0.0358, Entropy=0.0251]\n",
      "Epoch #156: 100%|██████████| 10/10 [00:00<00:00, 999.95it/s, Mean reward=4.16, Mean PGN Loss=0.0407, Entropy=0.028] \n",
      "Epoch #157: 100%|██████████| 10/10 [00:00<00:00, 1111.13it/s, Mean reward=4.16, Mean PGN Loss=0.0414, Entropy=0.0312]\n",
      "Epoch #158: 100%|██████████| 10/10 [00:00<00:00, 1111.28it/s, Mean reward=4.16, Mean PGN Loss=0.0379, Entropy=0.0346]\n",
      "Epoch #159: 100%|██████████| 10/10 [00:00<00:00, 999.93it/s, Mean reward=3.98, Mean PGN Loss=-0.0255, Entropy=0.0398] \n",
      "Epoch #160: 100%|██████████| 10/10 [00:00<00:00, 1111.37it/s, Mean reward=4.16, Mean PGN Loss=0.0252, Entropy=0.0374]\n"
     ]
    },
    {
     "name": "stdout",
     "output_type": "stream",
     "text": [
      "EVAL:  45\n"
     ]
    },
    {
     "name": "stderr",
     "output_type": "stream",
     "text": [
      "Epoch #161: 100%|██████████| 10/10 [00:00<00:00, 1249.94it/s, Mean reward=4.16, Mean PGN Loss=0.0182, Entropy=0.0369]\n",
      "Epoch #162: 100%|██████████| 10/10 [00:00<00:00, 999.98it/s, Mean reward=4.16, Mean PGN Loss=0.0118, Entropy=0.0365]\n",
      "Epoch #163: 100%|██████████| 10/10 [00:00<00:00, 1111.34it/s, Mean reward=4.16, Mean PGN Loss=0.00706, Entropy=0.0364]\n",
      "Epoch #164: 100%|██████████| 10/10 [00:00<00:00, 1111.46it/s, Mean reward=3.98, Mean PGN Loss=-0.0609, Entropy=0.0367]\n",
      "Epoch #165: 100%|██████████| 10/10 [00:00<00:00, 1111.28it/s, Mean reward=4.16, Mean PGN Loss=0.00393, Entropy=0.0327]\n",
      "Epoch #166: 100%|██████████| 10/10 [00:00<00:00, 1111.40it/s, Mean reward=4.16, Mean PGN Loss=0.00445, Entropy=0.0302]\n",
      "Epoch #167: 100%|██████████| 10/10 [00:00<00:00, 1110.99it/s, Mean reward=4.16, Mean PGN Loss=0.00556, Entropy=0.0284]\n",
      "Epoch #168: 100%|██████████| 10/10 [00:00<00:00, 1111.10it/s, Mean reward=4.16, Mean PGN Loss=0.00678, Entropy=0.0271]\n",
      "Epoch #169: 100%|██████████| 10/10 [00:00<00:00, 1249.79it/s, Mean reward=4.16, Mean PGN Loss=0.0077, Entropy=0.0262]\n",
      "Epoch #170: 100%|██████████| 10/10 [00:00<00:00, 1111.10it/s, Mean reward=4.16, Mean PGN Loss=0.00805, Entropy=0.0256]\n"
     ]
    },
    {
     "name": "stdout",
     "output_type": "stream",
     "text": [
      "EVAL:  45\n"
     ]
    },
    {
     "name": "stderr",
     "output_type": "stream",
     "text": [
      "Epoch #171: 100%|██████████| 10/10 [00:00<00:00, 1110.84it/s, Mean reward=4.16, Mean PGN Loss=0.00776, Entropy=0.0253]\n",
      "Epoch #172: 100%|██████████| 10/10 [00:00<00:00, 1000.12it/s, Mean reward=4.16, Mean PGN Loss=0.00694, Entropy=0.0252]\n",
      "Epoch #173: 100%|██████████| 10/10 [00:00<00:00, 1111.07it/s, Mean reward=4.16, Mean PGN Loss=0.00581, Entropy=0.0252]\n",
      "Epoch #174: 100%|██████████| 10/10 [00:00<00:00, 1111.10it/s, Mean reward=4.16, Mean PGN Loss=0.00462, Entropy=0.0253]\n",
      "Epoch #175: 100%|██████████| 10/10 [00:00<00:00, 1111.13it/s, Mean reward=4.16, Mean PGN Loss=0.00359, Entropy=0.0254]\n",
      "Epoch #176: 100%|██████████| 10/10 [00:00<00:00, 1111.31it/s, Mean reward=4.16, Mean PGN Loss=0.00289, Entropy=0.0255]\n",
      "Epoch #177: 100%|██████████| 10/10 [00:00<00:00, 1111.16it/s, Mean reward=4.16, Mean PGN Loss=0.00255, Entropy=0.0257]\n",
      "Epoch #178: 100%|██████████| 10/10 [00:00<00:00, 1249.94it/s, Mean reward=4.16, Mean PGN Loss=0.00253, Entropy=0.0259]\n",
      "Epoch #179: 100%|██████████| 10/10 [00:00<00:00, 1250.02it/s, Mean reward=4.16, Mean PGN Loss=0.00273, Entropy=0.026]\n",
      "Epoch #180: 100%|██████████| 10/10 [00:00<00:00, 1111.37it/s, Mean reward=4.16, Mean PGN Loss=0.003, Entropy=0.0262]\n"
     ]
    },
    {
     "name": "stdout",
     "output_type": "stream",
     "text": [
      "EVAL:  45\n"
     ]
    },
    {
     "name": "stderr",
     "output_type": "stream",
     "text": [
      "Epoch #181: 100%|██████████| 10/10 [00:00<00:00, 1111.22it/s, Mean reward=3.79, Mean PGN Loss=-0.118, Entropy=0.0281]\n",
      "Epoch #182: 100%|██████████| 10/10 [00:00<00:00, 1111.13it/s, Mean reward=4.16, Mean PGN Loss=0.00437, Entropy=0.0207]\n",
      "Epoch #183: 100%|██████████| 10/10 [00:00<00:00, 1250.09it/s, Mean reward=3.98, Mean PGN Loss=-0.173, Entropy=0.0168]\n",
      "Epoch #184: 100%|██████████| 10/10 [00:00<00:00, 1110.99it/s, Mean reward=3.98, Mean PGN Loss=-0.121, Entropy=0.0149]\n",
      "Epoch #185: 100%|██████████| 10/10 [00:00<00:00, 1000.17it/s, Mean reward=4.16, Mean PGN Loss=0.00883, Entropy=0.012]\n",
      "Epoch #186: 100%|██████████| 10/10 [00:00<00:00, 1111.40it/s, Mean reward=4.16, Mean PGN Loss=0.0098, Entropy=0.0108]\n",
      "Epoch #187: 100%|██████████| 10/10 [00:00<00:00, 909.18it/s, Mean reward=4.16, Mean PGN Loss=0.00969, Entropy=0.0103] \n",
      "Epoch #188: 100%|██████████| 10/10 [00:00<00:00, 1111.25it/s, Mean reward=4.16, Mean PGN Loss=0.00861, Entropy=0.0101]\n",
      "Epoch #189: 100%|██████████| 10/10 [00:00<00:00, 1111.34it/s, Mean reward=4.16, Mean PGN Loss=0.00691, Entropy=0.0103]\n",
      "Epoch #190: 100%|██████████| 10/10 [00:00<00:00, 1111.10it/s, Mean reward=4.16, Mean PGN Loss=0.00501, Entropy=0.0106]\n"
     ]
    },
    {
     "name": "stdout",
     "output_type": "stream",
     "text": [
      "EVAL:  45\n"
     ]
    },
    {
     "name": "stderr",
     "output_type": "stream",
     "text": [
      "Epoch #191: 100%|██████████| 10/10 [00:00<00:00, 1250.31it/s, Mean reward=4.16, Mean PGN Loss=0.00333, Entropy=0.011]\n",
      "Epoch #192: 100%|██████████| 10/10 [00:00<00:00, 1111.04it/s, Mean reward=4.16, Mean PGN Loss=0.00215, Entropy=0.0116]\n",
      "Epoch #193: 100%|██████████| 10/10 [00:00<00:00, 1111.49it/s, Mean reward=4.16, Mean PGN Loss=0.00159, Entropy=0.0121]\n",
      "Epoch #194: 100%|██████████| 10/10 [00:00<00:00, 1250.02it/s, Mean reward=4.16, Mean PGN Loss=0.00159, Entropy=0.0128]\n",
      "Epoch #195: 100%|██████████| 10/10 [00:00<00:00, 1111.16it/s, Mean reward=4.16, Mean PGN Loss=0.00197, Entropy=0.0134]\n",
      "Epoch #196: 100%|██████████| 10/10 [00:00<00:00, 1249.98it/s, Mean reward=4.16, Mean PGN Loss=0.0025, Entropy=0.0141]\n",
      "Epoch #197: 100%|██████████| 10/10 [00:00<00:00, 1249.98it/s, Mean reward=4.16, Mean PGN Loss=0.00294, Entropy=0.0148]\n",
      "Epoch #198: 100%|██████████| 10/10 [00:00<00:00, 1111.07it/s, Mean reward=4.16, Mean PGN Loss=0.00313, Entropy=0.0154]\n",
      "Epoch #199: 100%|██████████| 10/10 [00:00<00:00, 1249.76it/s, Mean reward=4.16, Mean PGN Loss=0.00302, Entropy=0.0161]\n",
      "Epoch #200: 100%|██████████| 10/10 [00:00<00:00, 1249.76it/s, Mean reward=4.16, Mean PGN Loss=0.00263, Entropy=0.0167]\n"
     ]
    },
    {
     "name": "stdout",
     "output_type": "stream",
     "text": [
      "EVAL:  45\n"
     ]
    },
    {
     "name": "stderr",
     "output_type": "stream",
     "text": [
      "Epoch #201: 100%|██████████| 10/10 [00:00<00:00, 1249.94it/s, Mean reward=4.16, Mean PGN Loss=0.00208, Entropy=0.0173]\n",
      "Epoch #202: 100%|██████████| 10/10 [00:00<00:00, 999.88it/s, Mean reward=4.16, Mean PGN Loss=0.00148, Entropy=0.0179] \n",
      "Epoch #203: 100%|██████████| 10/10 [00:00<00:00, 1111.25it/s, Mean reward=4.16, Mean PGN Loss=0.000975, Entropy=0.0184]\n",
      "Epoch #204: 100%|██████████| 10/10 [00:00<00:00, 1111.07it/s, Mean reward=4.16, Mean PGN Loss=0.000638, Entropy=0.0189]\n",
      "Epoch #205: 100%|██████████| 10/10 [00:00<00:00, 1250.20it/s, Mean reward=4.16, Mean PGN Loss=0.000501, Entropy=0.0194]\n",
      "Epoch #206: 100%|██████████| 10/10 [00:00<00:00, 1111.10it/s, Mean reward=4.16, Mean PGN Loss=0.000539, Entropy=0.0198]\n",
      "Epoch #207: 100%|██████████| 10/10 [00:00<00:00, 1249.87it/s, Mean reward=4.16, Mean PGN Loss=0.000689, Entropy=0.0202]\n",
      "Epoch #208: 100%|██████████| 10/10 [00:00<00:00, 1428.97it/s, Mean reward=4.16, Mean PGN Loss=0.000874, Entropy=0.0206]\n",
      "Epoch #209: 100%|██████████| 10/10 [00:00<00:00, 1111.10it/s, Mean reward=4.16, Mean PGN Loss=0.00102, Entropy=0.0209]\n",
      "Epoch #210: 100%|██████████| 10/10 [00:00<00:00, 1250.24it/s, Mean reward=3.68, Mean PGN Loss=1.3, Entropy=0.0404]\n"
     ]
    },
    {
     "name": "stdout",
     "output_type": "stream",
     "text": [
      "EVAL:  45\n"
     ]
    },
    {
     "name": "stderr",
     "output_type": "stream",
     "text": [
      "Epoch #211: 100%|██████████| 10/10 [00:00<00:00, 1250.17it/s, Mean reward=4.16, Mean PGN Loss=0.00304, Entropy=0.0144]\n",
      "Epoch #212: 100%|██████████| 10/10 [00:00<00:00, 1110.75it/s, Mean reward=4.16, Mean PGN Loss=0.00539, Entropy=0.0109]\n",
      "Epoch #213: 100%|██████████| 10/10 [00:00<00:00, 1111.49it/s, Mean reward=4.16, Mean PGN Loss=0.00735, Entropy=0.00941]\n",
      "Epoch #214: 100%|██████████| 10/10 [00:00<00:00, 1249.64it/s, Mean reward=4.16, Mean PGN Loss=0.00836, Entropy=0.0092]\n",
      "Epoch #215: 100%|██████████| 10/10 [00:00<00:00, 1250.24it/s, Mean reward=4.16, Mean PGN Loss=0.00822, Entropy=0.00981]\n",
      "Epoch #216: 100%|██████████| 10/10 [00:00<00:00, 1250.24it/s, Mean reward=4.16, Mean PGN Loss=0.00706, Entropy=0.011]\n",
      "Epoch #217: 100%|██████████| 10/10 [00:00<00:00, 1111.37it/s, Mean reward=3.68, Mean PGN Loss=1.25, Entropy=0.024]\n",
      "Epoch #218: 100%|██████████| 10/10 [00:00<00:00, 1250.05it/s, Mean reward=4.16, Mean PGN Loss=0.0083, Entropy=0.0126]\n",
      "Epoch #219: 100%|██████████| 10/10 [00:00<00:00, 1249.98it/s, Mean reward=4.16, Mean PGN Loss=0.0104, Entropy=0.0129]\n",
      "Epoch #220: 100%|██████████| 10/10 [00:00<00:00, 1249.98it/s, Mean reward=4.16, Mean PGN Loss=0.011, Entropy=0.0134]\n"
     ]
    },
    {
     "name": "stdout",
     "output_type": "stream",
     "text": [
      "EVAL:  45\n"
     ]
    },
    {
     "name": "stderr",
     "output_type": "stream",
     "text": [
      "Epoch #221: 100%|██████████| 10/10 [00:00<00:00, 1111.40it/s, Mean reward=4.16, Mean PGN Loss=0.0101, Entropy=0.0141]\n",
      "Epoch #222: 100%|██████████| 10/10 [00:00<00:00, 1111.16it/s, Mean reward=4.16, Mean PGN Loss=0.00816, Entropy=0.015]\n",
      "Epoch #223: 100%|██████████| 10/10 [00:00<00:00, 1250.17it/s, Mean reward=4.16, Mean PGN Loss=0.00569, Entropy=0.016]\n",
      "Epoch #224: 100%|██████████| 10/10 [00:00<00:00, 1111.10it/s, Mean reward=4.16, Mean PGN Loss=0.00333, Entropy=0.0172]\n",
      "Epoch #225: 100%|██████████| 10/10 [00:00<00:00, 1110.90it/s, Mean reward=4.16, Mean PGN Loss=0.00158, Entropy=0.0185]\n",
      "Epoch #226: 100%|██████████| 10/10 [00:00<00:00, 1249.94it/s, Mean reward=4.16, Mean PGN Loss=0.00068, Entropy=0.0198]\n",
      "Epoch #227: 100%|██████████| 10/10 [00:00<00:00, 1111.34it/s, Mean reward=4.16, Mean PGN Loss=0.000627, Entropy=0.0211]\n",
      "Epoch #228: 100%|██████████| 10/10 [00:00<00:00, 1250.31it/s, Mean reward=4.16, Mean PGN Loss=0.00119, Entropy=0.0224]\n",
      "Epoch #229: 100%|██████████| 10/10 [00:00<00:00, 1111.16it/s, Mean reward=4.16, Mean PGN Loss=0.00203, Entropy=0.0236]\n",
      "Epoch #230: 100%|██████████| 10/10 [00:00<00:00, 1111.28it/s, Mean reward=4.16, Mean PGN Loss=0.0028, Entropy=0.0247]\n"
     ]
    },
    {
     "name": "stdout",
     "output_type": "stream",
     "text": [
      "EVAL:  45\n"
     ]
    },
    {
     "name": "stderr",
     "output_type": "stream",
     "text": [
      "Epoch #231: 100%|██████████| 10/10 [00:00<00:00, 1249.94it/s, Mean reward=4.16, Mean PGN Loss=0.00322, Entropy=0.0256]\n",
      "Epoch #232: 100%|██████████| 10/10 [00:00<00:00, 1000.10it/s, Mean reward=3.68, Mean PGN Loss=1.65, Entropy=0.0265]\n",
      "Epoch #233: 100%|██████████| 10/10 [00:00<00:00, 1111.16it/s, Mean reward=4.16, Mean PGN Loss=0.000521, Entropy=0.012]\n",
      "Epoch #234: 100%|██████████| 10/10 [00:00<00:00, 1250.17it/s, Mean reward=4.16, Mean PGN Loss=0.00141, Entropy=0.00679]\n",
      "Epoch #235: 100%|██████████| 10/10 [00:00<00:00, 1111.25it/s, Mean reward=4.16, Mean PGN Loss=0.00476, Entropy=0.00483]\n",
      "Epoch #236: 100%|██████████| 10/10 [00:00<00:00, 1249.94it/s, Mean reward=4.16, Mean PGN Loss=0.00895, Entropy=0.00406]\n",
      "Epoch #237: 100%|██████████| 10/10 [00:00<00:00, 1111.19it/s, Mean reward=4.16, Mean PGN Loss=0.0125, Entropy=0.00376]\n",
      "Epoch #238: 100%|██████████| 10/10 [00:00<00:00, 1110.93it/s, Mean reward=4.16, Mean PGN Loss=0.0142, Entropy=0.00366]\n",
      "Epoch #239: 100%|██████████| 10/10 [00:00<00:00, 1249.98it/s, Mean reward=4.16, Mean PGN Loss=0.0139, Entropy=0.00366]\n",
      "Epoch #240: 100%|██████████| 10/10 [00:00<00:00, 1250.05it/s, Mean reward=4.16, Mean PGN Loss=0.0118, Entropy=0.00372]\n"
     ]
    },
    {
     "name": "stdout",
     "output_type": "stream",
     "text": [
      "EVAL:  45\n"
     ]
    },
    {
     "name": "stderr",
     "output_type": "stream",
     "text": [
      "Epoch #241: 100%|██████████| 10/10 [00:00<00:00, 1250.17it/s, Mean reward=4.16, Mean PGN Loss=0.00856, Entropy=0.00381]\n",
      "Epoch #242: 100%|██████████| 10/10 [00:00<00:00, 1111.22it/s, Mean reward=4.16, Mean PGN Loss=0.00514, Entropy=0.00392]\n",
      "Epoch #243: 100%|██████████| 10/10 [00:00<00:00, 1111.07it/s, Mean reward=4.16, Mean PGN Loss=0.00235, Entropy=0.00404]\n",
      "Epoch #244: 100%|██████████| 10/10 [00:00<00:00, 1111.16it/s, Mean reward=4.16, Mean PGN Loss=0.000693, Entropy=0.00417]\n",
      "Epoch #245: 100%|██████████| 10/10 [00:00<00:00, 1111.13it/s, Mean reward=4.16, Mean PGN Loss=0.000299, Entropy=0.00431]\n",
      "Epoch #246: 100%|██████████| 10/10 [00:00<00:00, 1111.04it/s, Mean reward=4.16, Mean PGN Loss=0.00094, Entropy=0.00446]\n",
      "Epoch #247: 100%|██████████| 10/10 [00:00<00:00, 1111.31it/s, Mean reward=4.16, Mean PGN Loss=0.00215, Entropy=0.00461]\n",
      "Epoch #248: 100%|██████████| 10/10 [00:00<00:00, 1111.13it/s, Mean reward=4.16, Mean PGN Loss=0.0034, Entropy=0.00477]\n",
      "Epoch #249: 100%|██████████| 10/10 [00:00<00:00, 1111.16it/s, Mean reward=4.16, Mean PGN Loss=0.00424, Entropy=0.00492]\n",
      "Epoch #250: 100%|██████████| 10/10 [00:00<00:00, 1000.26it/s, Mean reward=4.16, Mean PGN Loss=0.00443, Entropy=0.00508]\n"
     ]
    },
    {
     "name": "stdout",
     "output_type": "stream",
     "text": [
      "EVAL:  45\n"
     ]
    },
    {
     "name": "stderr",
     "output_type": "stream",
     "text": [
      "Epoch #251: 100%|██████████| 10/10 [00:00<00:00, 1110.93it/s, Mean reward=4.16, Mean PGN Loss=0.00398, Entropy=0.00525]\n",
      "Epoch #252: 100%|██████████| 10/10 [00:00<00:00, 909.04it/s, Mean reward=4.16, Mean PGN Loss=0.00307, Entropy=0.00541]\n",
      "Epoch #253: 100%|██████████| 10/10 [00:00<00:00, 1111.28it/s, Mean reward=4.16, Mean PGN Loss=0.00198, Entropy=0.00557]\n",
      "Epoch #254: 100%|██████████| 10/10 [00:00<00:00, 1250.39it/s, Mean reward=4.16, Mean PGN Loss=0.00102, Entropy=0.00573]\n",
      "Epoch #255: 100%|██████████| 10/10 [00:00<00:00, 1111.04it/s, Mean reward=4.16, Mean PGN Loss=0.000386, Entropy=0.0059]\n",
      "Epoch #256: 100%|██████████| 10/10 [00:00<00:00, 1111.04it/s, Mean reward=4.16, Mean PGN Loss=0.000158, Entropy=0.00605]\n",
      "Epoch #257: 100%|██████████| 10/10 [00:00<00:00, 1250.35it/s, Mean reward=4.16, Mean PGN Loss=0.000289, Entropy=0.0062]\n",
      "Epoch #258: 100%|██████████| 10/10 [00:00<00:00, 1111.22it/s, Mean reward=4.16, Mean PGN Loss=0.000642, Entropy=0.00634]\n",
      "Epoch #259: 100%|██████████| 10/10 [00:00<00:00, 1250.02it/s, Mean reward=4.16, Mean PGN Loss=0.00105, Entropy=0.00647]\n",
      "Epoch #260: 100%|██████████| 10/10 [00:00<00:00, 1110.75it/s, Mean reward=4.16, Mean PGN Loss=0.00135, Entropy=0.00658]\n"
     ]
    },
    {
     "name": "stdout",
     "output_type": "stream",
     "text": [
      "EVAL:  45\n"
     ]
    },
    {
     "name": "stderr",
     "output_type": "stream",
     "text": [
      "Epoch #261: 100%|██████████| 10/10 [00:00<00:00, 1250.13it/s, Mean reward=4.16, Mean PGN Loss=0.00146, Entropy=0.00668]\n",
      "Epoch #262: 100%|██████████| 10/10 [00:00<00:00, 1111.57it/s, Mean reward=4.16, Mean PGN Loss=0.00136, Entropy=0.00676]\n",
      "Epoch #263: 100%|██████████| 10/10 [00:00<00:00, 1000.31it/s, Mean reward=4.16, Mean PGN Loss=0.00109, Entropy=0.00683]\n",
      "Epoch #264: 100%|██████████| 10/10 [00:00<00:00, 1250.35it/s, Mean reward=4.16, Mean PGN Loss=0.000747, Entropy=0.00689]\n",
      "Epoch #265: 100%|██████████| 10/10 [00:00<00:00, 434.72it/s, Mean reward=4.16, Mean PGN Loss=0.000421, Entropy=0.00694]\n",
      "Epoch #266: 100%|██████████| 10/10 [00:00<00:00, 769.44it/s, Mean reward=4.16, Mean PGN Loss=0.000185, Entropy=0.00699]\n",
      "Epoch #267: 100%|██████████| 10/10 [00:00<00:00, 714.19it/s, Mean reward=4.16, Mean PGN Loss=7.58e-5, Entropy=0.00702]\n",
      "Epoch #268: 100%|██████████| 10/10 [00:00<00:00, 1110.87it/s, Mean reward=4.16, Mean PGN Loss=8.76e-5, Entropy=0.00706]\n",
      "Epoch #269: 100%|██████████| 10/10 [00:00<00:00, 1111.25it/s, Mean reward=4.16, Mean PGN Loss=0.000181, Entropy=0.00709]\n",
      "Epoch #270: 100%|██████████| 10/10 [00:00<00:00, 999.76it/s, Mean reward=4.16, Mean PGN Loss=0.000303, Entropy=0.00712] \n"
     ]
    },
    {
     "name": "stdout",
     "output_type": "stream",
     "text": [
      "EVAL:  45\n"
     ]
    },
    {
     "name": "stderr",
     "output_type": "stream",
     "text": [
      "Epoch #271: 100%|██████████| 10/10 [00:00<00:00, 1110.87it/s, Mean reward=4.16, Mean PGN Loss=0.000401, Entropy=0.00715]\n",
      "Epoch #272: 100%|██████████| 10/10 [00:00<00:00, 1111.25it/s, Mean reward=4.16, Mean PGN Loss=0.000442, Entropy=0.00718]\n",
      "Epoch #273: 100%|██████████| 10/10 [00:00<00:00, 1111.16it/s, Mean reward=4.16, Mean PGN Loss=0.000416, Entropy=0.00721]\n",
      "Epoch #274: 100%|██████████| 10/10 [00:00<00:00, 1110.60it/s, Mean reward=4.16, Mean PGN Loss=0.000336, Entropy=0.00724]\n",
      "Epoch #275: 100%|██████████| 10/10 [00:00<00:00, 1111.19it/s, Mean reward=4.16, Mean PGN Loss=0.000231, Entropy=0.00728]\n",
      "Epoch #276: 100%|██████████| 10/10 [00:00<00:00, 1111.02it/s, Mean reward=4.16, Mean PGN Loss=0.00013, Entropy=0.00731]\n",
      "Epoch #277: 100%|██████████| 10/10 [00:00<00:00, 1249.98it/s, Mean reward=4.16, Mean PGN Loss=5.79e-5, Entropy=0.00734]\n",
      "Epoch #278: 100%|██████████| 10/10 [00:00<00:00, 1250.05it/s, Mean reward=4.16, Mean PGN Loss=2.74e-5, Entropy=0.00737]\n",
      "Epoch #279: 100%|██████████| 10/10 [00:00<00:00, 1250.31it/s, Mean reward=4.16, Mean PGN Loss=3.58e-5, Entropy=0.0074]\n",
      "Epoch #280: 100%|██████████| 10/10 [00:00<00:00, 1110.93it/s, Mean reward=4.16, Mean PGN Loss=7.01e-5, Entropy=0.00742]\n"
     ]
    },
    {
     "name": "stdout",
     "output_type": "stream",
     "text": [
      "EVAL:  45\n"
     ]
    },
    {
     "name": "stderr",
     "output_type": "stream",
     "text": [
      "Epoch #281: 100%|██████████| 10/10 [00:00<00:00, 1110.99it/s, Mean reward=4.16, Mean PGN Loss=0.000112, Entropy=0.00744]\n",
      "Epoch #282: 100%|██████████| 10/10 [00:00<00:00, 1110.99it/s, Mean reward=4.16, Mean PGN Loss=0.000145, Entropy=0.00745]\n",
      "Epoch #283: 100%|██████████| 10/10 [00:00<00:00, 1331.48it/s, Mean reward=4.16, Mean PGN Loss=0.000158, Entropy=0.00747]\n",
      "Epoch #284: 100%|██████████| 10/10 [00:00<00:00, 1111.22it/s, Mean reward=4.16, Mean PGN Loss=0.000148, Entropy=0.00748]\n",
      "Epoch #285: 100%|██████████| 10/10 [00:00<00:00, 1249.94it/s, Mean reward=4.16, Mean PGN Loss=0.000119, Entropy=0.00748]\n",
      "Epoch #286: 100%|██████████| 10/10 [00:00<00:00, 1250.09it/s, Mean reward=3.68, Mean PGN Loss=0.943, Entropy=0.00936]\n",
      "Epoch #287: 100%|██████████| 10/10 [00:00<00:00, 1249.90it/s, Mean reward=4.16, Mean PGN Loss=0.00165, Entropy=0.00893]\n",
      "Epoch #288: 100%|██████████| 10/10 [00:00<00:00, 1111.19it/s, Mean reward=4.16, Mean PGN Loss=0.00439, Entropy=0.0111]\n",
      "Epoch #289: 100%|██████████| 10/10 [00:00<00:00, 1111.04it/s, Mean reward=3.98, Mean PGN Loss=-0.123, Entropy=0.0144]\n",
      "Epoch #290: 100%|██████████| 10/10 [00:00<00:00, 1111.37it/s, Mean reward=4.16, Mean PGN Loss=0.0103, Entropy=0.0158]\n"
     ]
    },
    {
     "name": "stdout",
     "output_type": "stream",
     "text": [
      "EVAL:  45\n"
     ]
    },
    {
     "name": "stderr",
     "output_type": "stream",
     "text": [
      "Epoch #291: 100%|██████████| 10/10 [00:00<00:00, 1000.12it/s, Mean reward=4.16, Mean PGN Loss=0.0119, Entropy=0.0188]\n",
      "Epoch #292: 100%|██████████| 10/10 [00:00<00:00, 1000.00it/s, Mean reward=4.16, Mean PGN Loss=0.0116, Entropy=0.0229]\n",
      "Epoch #293: 100%|██████████| 10/10 [00:00<00:00, 1000.26it/s, Mean reward=4.16, Mean PGN Loss=0.00977, Entropy=0.0283]\n",
      "Epoch #294: 100%|██████████| 10/10 [00:00<00:00, 1249.90it/s, Mean reward=4.16, Mean PGN Loss=0.00703, Entropy=0.0347]\n",
      "Epoch #295: 100%|██████████| 10/10 [00:00<00:00, 1111.28it/s, Mean reward=4.16, Mean PGN Loss=0.00424, Entropy=0.0422]\n",
      "Epoch #296: 100%|██████████| 10/10 [00:00<00:00, 1250.02it/s, Mean reward=4.16, Mean PGN Loss=0.00209, Entropy=0.0505]\n",
      "Epoch #297: 100%|██████████| 10/10 [00:00<00:00, 1250.09it/s, Mean reward=3.98, Mean PGN Loss=0.0189, Entropy=0.0615]\n",
      "Epoch #298: 100%|██████████| 10/10 [00:00<00:00, 1111.04it/s, Mean reward=4.16, Mean PGN Loss=0.000842, Entropy=0.0546]\n",
      "Epoch #299: 100%|██████████| 10/10 [00:00<00:00, 1249.94it/s, Mean reward=4.16, Mean PGN Loss=0.001, Entropy=0.0505]\n",
      "Epoch #300: 100%|██████████| 10/10 [00:00<00:00, 1250.20it/s, Mean reward=4.16, Mean PGN Loss=0.00127, Entropy=0.047]\n"
     ]
    },
    {
     "name": "stdout",
     "output_type": "stream",
     "text": [
      "EVAL:  45\n"
     ]
    },
    {
     "name": "stderr",
     "output_type": "stream",
     "text": [
      "Epoch #301: 100%|██████████| 10/10 [00:00<00:00, 1110.90it/s, Mean reward=4.16, Mean PGN Loss=0.00149, Entropy=0.0441]\n",
      "Epoch #302: 100%|██████████| 10/10 [00:00<00:00, 1000.22it/s, Mean reward=4.16, Mean PGN Loss=0.00158, Entropy=0.0416]\n",
      "Epoch #303: 100%|██████████| 10/10 [00:00<00:00, 1250.46it/s, Mean reward=3.98, Mean PGN Loss=-0.0108, Entropy=0.0412]\n",
      "Epoch #304: 100%|██████████| 10/10 [00:00<00:00, 1110.93it/s, Mean reward=4.16, Mean PGN Loss=0.000992, Entropy=0.0289]\n",
      "Epoch #305: 100%|██████████| 10/10 [00:00<00:00, 1249.98it/s, Mean reward=4.16, Mean PGN Loss=0.000763, Entropy=0.0217]\n",
      "Epoch #306: 100%|██████████| 10/10 [00:00<00:00, 1249.94it/s, Mean reward=4.16, Mean PGN Loss=0.000817, Entropy=0.0169]\n",
      "Epoch #307: 100%|██████████| 10/10 [00:00<00:00, 1250.09it/s, Mean reward=4.16, Mean PGN Loss=0.00107, Entropy=0.0136]\n",
      "Epoch #308: 100%|██████████| 10/10 [00:00<00:00, 1111.19it/s, Mean reward=4.16, Mean PGN Loss=0.00137, Entropy=0.0112]\n",
      "Epoch #309: 100%|██████████| 10/10 [00:00<00:00, 1000.33it/s, Mean reward=4.16, Mean PGN Loss=0.00157, Entropy=0.00948]\n",
      "Epoch #310: 100%|██████████| 10/10 [00:00<00:00, 1110.96it/s, Mean reward=3.98, Mean PGN Loss=-0.15, Entropy=0.00944]\n"
     ]
    },
    {
     "name": "stdout",
     "output_type": "stream",
     "text": [
      "EVAL:  45\n"
     ]
    },
    {
     "name": "stderr",
     "output_type": "stream",
     "text": [
      "Epoch #311: 100%|██████████| 10/10 [00:00<00:00, 1250.28it/s, Mean reward=4.16, Mean PGN Loss=0.00221, Entropy=0.00636]\n",
      "Epoch #312: 100%|██████████| 10/10 [00:00<00:00, 1111.04it/s, Mean reward=4.16, Mean PGN Loss=0.00253, Entropy=0.00513]\n",
      "Epoch #313: 100%|██████████| 10/10 [00:00<00:00, 1111.16it/s, Mean reward=4.16, Mean PGN Loss=0.00247, Entropy=0.00431]\n",
      "Epoch #314: 100%|██████████| 10/10 [00:00<00:00, 1250.20it/s, Mean reward=4.16, Mean PGN Loss=0.00207, Entropy=0.00373]\n",
      "Epoch #315: 100%|██████████| 10/10 [00:00<00:00, 1111.13it/s, Mean reward=4.16, Mean PGN Loss=0.00148, Entropy=0.0033]\n",
      "Epoch #316: 100%|██████████| 10/10 [00:00<00:00, 1111.40it/s, Mean reward=4.16, Mean PGN Loss=0.000876, Entropy=0.00298]\n",
      "Epoch #317: 100%|██████████| 10/10 [00:00<00:00, 1110.87it/s, Mean reward=4.16, Mean PGN Loss=0.000421, Entropy=0.00275]\n",
      "Epoch #318: 100%|██████████| 10/10 [00:00<00:00, 1250.13it/s, Mean reward=4.16, Mean PGN Loss=0.000194, Entropy=0.00257]\n",
      "Epoch #319: 100%|██████████| 10/10 [00:00<00:00, 1111.13it/s, Mean reward=4.16, Mean PGN Loss=0.000195, Entropy=0.00243]\n",
      "Epoch #320: 100%|██████████| 10/10 [00:00<00:00, 1250.02it/s, Mean reward=4.16, Mean PGN Loss=0.000354, Entropy=0.00233]\n"
     ]
    },
    {
     "name": "stdout",
     "output_type": "stream",
     "text": [
      "EVAL:  45\n"
     ]
    },
    {
     "name": "stderr",
     "output_type": "stream",
     "text": [
      "Epoch #321: 100%|██████████| 10/10 [00:00<00:00, 1111.28it/s, Mean reward=4.16, Mean PGN Loss=0.000567, Entropy=0.00224]\n",
      "Epoch #322: 100%|██████████| 10/10 [00:00<00:00, 1109.52it/s, Mean reward=4.16, Mean PGN Loss=0.000737, Entropy=0.00217]\n",
      "Epoch #323: 100%|██████████| 10/10 [00:00<00:00, 1250.28it/s, Mean reward=4.16, Mean PGN Loss=0.000799, Entropy=0.00212]\n",
      "Epoch #324: 100%|██████████| 10/10 [00:00<00:00, 1111.02it/s, Mean reward=4.16, Mean PGN Loss=0.000739, Entropy=0.00208]\n",
      "Epoch #325: 100%|██████████| 10/10 [00:00<00:00, 1247.82it/s, Mean reward=4.16, Mean PGN Loss=0.000587, Entropy=0.00205]\n",
      "Epoch #326: 100%|██████████| 10/10 [00:00<00:00, 1173.13it/s, Mean reward=4.16, Mean PGN Loss=0.000399, Entropy=0.00203]\n",
      "Epoch #327: 100%|██████████| 10/10 [00:00<00:00, 1110.40it/s, Mean reward=4.16, Mean PGN Loss=0.000233, Entropy=0.00201]\n",
      "Epoch #328: 100%|██████████| 10/10 [00:00<00:00, 1111.25it/s, Mean reward=4.16, Mean PGN Loss=0.000132, Entropy=0.002]\n",
      "Epoch #329: 100%|██████████| 10/10 [00:00<00:00, 1250.05it/s, Mean reward=4.16, Mean PGN Loss=0.000109, Entropy=0.00199]\n",
      "Epoch #330: 100%|██████████| 10/10 [00:00<00:00, 1111.13it/s, Mean reward=4.16, Mean PGN Loss=0.000151, Entropy=0.00198]\n"
     ]
    },
    {
     "name": "stdout",
     "output_type": "stream",
     "text": [
      "EVAL:  45\n"
     ]
    },
    {
     "name": "stderr",
     "output_type": "stream",
     "text": [
      "Epoch #331: 100%|██████████| 10/10 [00:00<00:00, 1249.94it/s, Mean reward=4.16, Mean PGN Loss=0.000226, Entropy=0.00198]\n",
      "Epoch #332: 100%|██████████| 10/10 [00:00<00:00, 1000.14it/s, Mean reward=4.16, Mean PGN Loss=0.000299, Entropy=0.00197]\n",
      "Epoch #333: 100%|██████████| 10/10 [00:00<00:00, 1109.81it/s, Mean reward=4.16, Mean PGN Loss=0.00034, Entropy=0.00197]\n",
      "Epoch #334: 100%|██████████| 10/10 [00:00<00:00, 1111.25it/s, Mean reward=4.16, Mean PGN Loss=0.000337, Entropy=0.00197]\n",
      "Epoch #335: 100%|██████████| 10/10 [00:00<00:00, 1250.28it/s, Mean reward=4.16, Mean PGN Loss=0.000293, Entropy=0.00196]\n",
      "Epoch #336: 100%|██████████| 10/10 [00:00<00:00, 1111.31it/s, Mean reward=4.16, Mean PGN Loss=0.000225, Entropy=0.00196]\n",
      "Epoch #337: 100%|██████████| 10/10 [00:00<00:00, 1250.02it/s, Mean reward=4.16, Mean PGN Loss=0.000155, Entropy=0.00196]\n",
      "Epoch #338: 100%|██████████| 10/10 [00:00<00:00, 1111.13it/s, Mean reward=4.16, Mean PGN Loss=9.97e-5, Entropy=0.00196]\n",
      "Epoch #339: 100%|██████████| 10/10 [00:00<00:00, 1249.98it/s, Mean reward=4.16, Mean PGN Loss=7.03e-5, Entropy=0.00195]\n",
      "Epoch #340: 100%|██████████| 10/10 [00:00<00:00, 1111.34it/s, Mean reward=4.16, Mean PGN Loss=6.68e-5, Entropy=0.00195]\n"
     ]
    },
    {
     "name": "stdout",
     "output_type": "stream",
     "text": [
      "EVAL:  45\n"
     ]
    },
    {
     "name": "stderr",
     "output_type": "stream",
     "text": [
      "Epoch #341: 100%|██████████| 10/10 [00:00<00:00, 1111.31it/s, Mean reward=4.16, Mean PGN Loss=8.1e-5, Entropy=0.00195]\n",
      "Epoch #342: 100%|██████████| 10/10 [00:00<00:00, 1111.13it/s, Mean reward=4.16, Mean PGN Loss=0.000101, Entropy=0.00195]\n",
      "Epoch #343: 100%|██████████| 10/10 [00:00<00:00, 1250.35it/s, Mean reward=4.16, Mean PGN Loss=0.000115, Entropy=0.00195]\n",
      "Epoch #344: 100%|██████████| 10/10 [00:00<00:00, 1249.98it/s, Mean reward=4.16, Mean PGN Loss=0.000117, Entropy=0.00195]\n",
      "Epoch #345: 100%|██████████| 10/10 [00:00<00:00, 1249.94it/s, Mean reward=4.16, Mean PGN Loss=0.000106, Entropy=0.00195]\n",
      "Epoch #346: 100%|██████████| 10/10 [00:00<00:00, 1249.87it/s, Mean reward=4.16, Mean PGN Loss=8.41e-5, Entropy=0.00195]\n",
      "Epoch #347: 100%|██████████| 10/10 [00:00<00:00, 1250.46it/s, Mean reward=4.16, Mean PGN Loss=5.98e-5, Entropy=0.00195]\n",
      "Epoch #348: 100%|██████████| 10/10 [00:00<00:00, 1111.31it/s, Mean reward=4.16, Mean PGN Loss=3.96e-5, Entropy=0.00195]\n",
      "Epoch #349: 100%|██████████| 10/10 [00:00<00:00, 1111.52it/s, Mean reward=4.16, Mean PGN Loss=2.78e-5, Entropy=0.00196]\n",
      "Epoch #350: 100%|██████████| 10/10 [00:00<00:00, 1250.35it/s, Mean reward=4.16, Mean PGN Loss=2.54e-5, Entropy=0.00196]\n"
     ]
    },
    {
     "name": "stdout",
     "output_type": "stream",
     "text": [
      "EVAL:  45\n"
     ]
    },
    {
     "name": "stderr",
     "output_type": "stream",
     "text": [
      "Epoch #351: 100%|██████████| 10/10 [00:00<00:00, 1250.02it/s, Mean reward=4.16, Mean PGN Loss=3.02e-5, Entropy=0.00196]\n",
      "Epoch #352: 100%|██████████| 10/10 [00:00<00:00, 999.79it/s, Mean reward=4.16, Mean PGN Loss=3.82e-5, Entropy=0.00196] \n",
      "Epoch #353: 100%|██████████| 10/10 [00:00<00:00, 1111.22it/s, Mean reward=4.16, Mean PGN Loss=4.5e-5, Entropy=0.00196]\n",
      "Epoch #354: 100%|██████████| 10/10 [00:00<00:00, 1111.31it/s, Mean reward=4.16, Mean PGN Loss=4.75e-5, Entropy=0.00196]\n",
      "Epoch #355: 100%|██████████| 10/10 [00:00<00:00, 1250.39it/s, Mean reward=4.16, Mean PGN Loss=4.47e-5, Entropy=0.00196]\n",
      "Epoch #356: 100%|██████████| 10/10 [00:00<00:00, 1110.96it/s, Mean reward=4.16, Mean PGN Loss=3.76e-5, Entropy=0.00196]\n",
      "Epoch #357: 100%|██████████| 10/10 [00:00<00:00, 1249.98it/s, Mean reward=4.16, Mean PGN Loss=2.85e-5, Entropy=0.00196]\n",
      "Epoch #358: 100%|██████████| 10/10 [00:00<00:00, 1249.76it/s, Mean reward=4.16, Mean PGN Loss=1.99e-5, Entropy=0.00196]\n",
      "Epoch #359: 100%|██████████| 10/10 [00:00<00:00, 908.94it/s, Mean reward=4.16, Mean PGN Loss=1.38e-5, Entropy=0.00196] \n",
      "Epoch #360: 100%|██████████| 10/10 [00:00<00:00, 1000.29it/s, Mean reward=4.16, Mean PGN Loss=1.09e-5, Entropy=0.00196]\n"
     ]
    },
    {
     "name": "stdout",
     "output_type": "stream",
     "text": [
      "EVAL:  45\n"
     ]
    },
    {
     "name": "stderr",
     "output_type": "stream",
     "text": [
      "Epoch #361: 100%|██████████| 10/10 [00:00<00:00, 1111.57it/s, Mean reward=4.16, Mean PGN Loss=1.08e-5, Entropy=0.00196]\n",
      "Epoch #362: 100%|██████████| 10/10 [00:00<00:00, 1111.28it/s, Mean reward=4.16, Mean PGN Loss=1.24e-5, Entropy=0.00195]\n",
      "Epoch #363: 100%|██████████| 10/10 [00:00<00:00, 1109.99it/s, Mean reward=4.16, Mean PGN Loss=1.4e-5, Entropy=0.00195]\n",
      "Epoch #364: 100%|██████████| 10/10 [00:00<00:00, 1249.64it/s, Mean reward=4.16, Mean PGN Loss=1.45e-5, Entropy=0.00195]\n",
      "Epoch #365: 100%|██████████| 10/10 [00:00<00:00, 1000.02it/s, Mean reward=4.16, Mean PGN Loss=1.35e-5, Entropy=0.00195]\n",
      "Epoch #366: 100%|██████████| 10/10 [00:00<00:00, 1249.68it/s, Mean reward=4.16, Mean PGN Loss=1.1e-5, Entropy=0.00195]\n",
      "Epoch #367: 100%|██████████| 10/10 [00:00<00:00, 1110.93it/s, Mean reward=4.16, Mean PGN Loss=7.84e-6, Entropy=0.00195]\n",
      "Epoch #368: 100%|██████████| 10/10 [00:00<00:00, 1110.84it/s, Mean reward=4.16, Mean PGN Loss=4.86e-6, Entropy=0.00195]\n",
      "Epoch #369: 100%|██████████| 10/10 [00:00<00:00, 1250.28it/s, Mean reward=4.16, Mean PGN Loss=2.76e-6, Entropy=0.00195]\n",
      "Epoch #370: 100%|██████████| 10/10 [00:00<00:00, 1110.84it/s, Mean reward=4.16, Mean PGN Loss=1.86e-6, Entropy=0.00195]\n"
     ]
    },
    {
     "name": "stdout",
     "output_type": "stream",
     "text": [
      "EVAL:  45\n"
     ]
    },
    {
     "name": "stderr",
     "output_type": "stream",
     "text": [
      "Epoch #371: 100%|██████████| 10/10 [00:00<00:00, 1250.17it/s, Mean reward=4.16, Mean PGN Loss=2.04e-6, Entropy=0.00195]\n",
      "Epoch #372: 100%|██████████| 10/10 [00:00<00:00, 999.43it/s, Mean reward=4.16, Mean PGN Loss=2.83e-6, Entropy=0.00195] \n",
      "Epoch #373: 100%|██████████| 10/10 [00:00<00:00, 1110.51it/s, Mean reward=4.16, Mean PGN Loss=3.69e-6, Entropy=0.00195]\n",
      "Epoch #374: 100%|██████████| 10/10 [00:00<00:00, 526.28it/s, Mean reward=4.16, Mean PGN Loss=4.14e-6, Entropy=0.00195]\n",
      "Epoch #375: 100%|██████████| 10/10 [00:00<00:00, 1000.02it/s, Mean reward=4.16, Mean PGN Loss=3.96e-6, Entropy=0.00195]\n",
      "Epoch #376: 100%|██████████| 10/10 [00:00<00:00, 1111.07it/s, Mean reward=4.16, Mean PGN Loss=3.19e-6, Entropy=0.00195]\n",
      "Epoch #377: 100%|██████████| 10/10 [00:00<00:00, 1111.13it/s, Mean reward=4.16, Mean PGN Loss=2.06e-6, Entropy=0.00195]\n",
      "Epoch #378: 100%|██████████| 10/10 [00:00<00:00, 1111.37it/s, Mean reward=4.16, Mean PGN Loss=9.01e-7, Entropy=0.00195]\n",
      "Epoch #379: 100%|██████████| 10/10 [00:00<00:00, 1250.05it/s, Mean reward=4.16, Mean PGN Loss=-5.64e-9, Entropy=0.00195]\n",
      "Epoch #380: 100%|██████████| 10/10 [00:00<00:00, 1111.16it/s, Mean reward=4.16, Mean PGN Loss=-5.16e-7, Entropy=0.00195]\n"
     ]
    },
    {
     "name": "stdout",
     "output_type": "stream",
     "text": [
      "EVAL:  45\n"
     ]
    },
    {
     "name": "stderr",
     "output_type": "stream",
     "text": [
      "Epoch #381: 100%|██████████| 10/10 [00:00<00:00, 1249.83it/s, Mean reward=4.16, Mean PGN Loss=-6.44e-7, Entropy=0.00195]\n",
      "Epoch #382: 100%|██████████| 10/10 [00:00<00:00, 1000.24it/s, Mean reward=4.16, Mean PGN Loss=-5.23e-7, Entropy=0.00195]\n",
      "Epoch #383: 100%|██████████| 10/10 [00:00<00:00, 1111.49it/s, Mean reward=4.16, Mean PGN Loss=-3.41e-7, Entropy=0.00195]\n",
      "Epoch #384: 100%|██████████| 10/10 [00:00<00:00, 1250.09it/s, Mean reward=4.16, Mean PGN Loss=-2.58e-7, Entropy=0.00195]\n",
      "Epoch #385: 100%|██████████| 10/10 [00:00<00:00, 1111.02it/s, Mean reward=4.16, Mean PGN Loss=-3.6e-7, Entropy=0.00195]\n",
      "Epoch #386: 100%|██████████| 10/10 [00:00<00:00, 1249.76it/s, Mean reward=4.16, Mean PGN Loss=-6.33e-7, Entropy=0.00195]\n",
      "Epoch #387: 100%|██████████| 10/10 [00:00<00:00, 1250.17it/s, Mean reward=4.16, Mean PGN Loss=-9.96e-7, Entropy=0.00195]\n",
      "Epoch #388: 100%|██████████| 10/10 [00:00<00:00, 1250.24it/s, Mean reward=4.16, Mean PGN Loss=-1.34e-6, Entropy=0.00195]\n",
      "Epoch #389: 100%|██████████| 10/10 [00:00<00:00, 1250.35it/s, Mean reward=4.16, Mean PGN Loss=-1.58e-6, Entropy=0.00195]\n",
      "Epoch #390: 100%|██████████| 10/10 [00:00<00:00, 1111.02it/s, Mean reward=4.16, Mean PGN Loss=-1.67e-6, Entropy=0.00195]\n"
     ]
    },
    {
     "name": "stdout",
     "output_type": "stream",
     "text": [
      "EVAL:  45\n"
     ]
    },
    {
     "name": "stderr",
     "output_type": "stream",
     "text": [
      "Epoch #391: 100%|██████████| 10/10 [00:00<00:00, 1110.84it/s, Mean reward=4.16, Mean PGN Loss=-1.61e-6, Entropy=0.00195]\n",
      "Epoch #392: 100%|██████████| 10/10 [00:00<00:00, 1000.19it/s, Mean reward=4.16, Mean PGN Loss=-1.48e-6, Entropy=0.00195]\n",
      "Epoch #393: 100%|██████████| 10/10 [00:00<00:00, 1111.52it/s, Mean reward=4.16, Mean PGN Loss=-1.35e-6, Entropy=0.00195]\n",
      "Epoch #394: 100%|██████████| 10/10 [00:00<00:00, 1111.19it/s, Mean reward=4.16, Mean PGN Loss=-1.27e-6, Entropy=0.00195]\n",
      "Epoch #395: 100%|██████████| 10/10 [00:00<00:00, 1111.22it/s, Mean reward=4.16, Mean PGN Loss=-1.28e-6, Entropy=0.00195]\n",
      "Epoch #396: 100%|██████████| 10/10 [00:00<00:00, 1000.38it/s, Mean reward=4.16, Mean PGN Loss=-1.38e-6, Entropy=0.00195]\n",
      "Epoch #397: 100%|██████████| 10/10 [00:00<00:00, 1111.19it/s, Mean reward=4.16, Mean PGN Loss=-1.52e-6, Entropy=0.00195]\n",
      "Epoch #398: 100%|██████████| 10/10 [00:00<00:00, 1111.31it/s, Mean reward=4.16, Mean PGN Loss=-1.67e-6, Entropy=0.00195]\n",
      "Epoch #399: 100%|██████████| 10/10 [00:00<00:00, 1111.22it/s, Mean reward=4.16, Mean PGN Loss=-1.79e-6, Entropy=0.00195]\n",
      "Epoch #400: 100%|██████████| 10/10 [00:00<00:00, 1111.31it/s, Mean reward=4.16, Mean PGN Loss=-1.86e-6, Entropy=0.00195]\n"
     ]
    },
    {
     "name": "stdout",
     "output_type": "stream",
     "text": [
      "EVAL:  45\n"
     ]
    },
    {
     "name": "stderr",
     "output_type": "stream",
     "text": [
      "Epoch #401: 100%|██████████| 10/10 [00:00<00:00, 1250.61it/s, Mean reward=4.16, Mean PGN Loss=-1.88e-6, Entropy=0.00195]\n",
      "Epoch #402: 100%|██████████| 10/10 [00:00<00:00, 1109.81it/s, Mean reward=4.16, Mean PGN Loss=-1.87e-6, Entropy=0.00195]\n",
      "Epoch #403: 100%|██████████| 10/10 [00:00<00:00, 1250.13it/s, Mean reward=4.16, Mean PGN Loss=-1.85e-6, Entropy=0.00195]\n",
      "Epoch #404: 100%|██████████| 10/10 [00:00<00:00, 1111.34it/s, Mean reward=4.16, Mean PGN Loss=-1.84e-6, Entropy=0.00195]\n",
      "Epoch #405: 100%|██████████| 10/10 [00:00<00:00, 1250.02it/s, Mean reward=4.16, Mean PGN Loss=-1.85e-6, Entropy=0.00195]\n",
      "Epoch #406: 100%|██████████| 10/10 [00:00<00:00, 769.13it/s, Mean reward=4.16, Mean PGN Loss=-1.87e-6, Entropy=0.00195]\n",
      "Epoch #407: 100%|██████████| 10/10 [00:00<00:00, 588.33it/s, Mean reward=4.16, Mean PGN Loss=-1.91e-6, Entropy=0.00195]\n",
      "Epoch #408: 100%|██████████| 10/10 [00:00<00:00, 833.56it/s, Mean reward=4.16, Mean PGN Loss=-1.94e-6, Entropy=0.00195]\n",
      "Epoch #409: 100%|██████████| 10/10 [00:00<00:00, 769.33it/s, Mean reward=4.16, Mean PGN Loss=-1.95e-6, Entropy=0.00195]\n",
      "Epoch #410: 100%|██████████| 10/10 [00:00<00:00, 1111.55it/s, Mean reward=4.16, Mean PGN Loss=-1.94e-6, Entropy=0.00195]\n"
     ]
    },
    {
     "name": "stdout",
     "output_type": "stream",
     "text": [
      "EVAL:  45\n"
     ]
    },
    {
     "name": "stderr",
     "output_type": "stream",
     "text": [
      "Epoch #411: 100%|██████████| 10/10 [00:00<00:00, 1250.13it/s, Mean reward=4.16, Mean PGN Loss=-1.92e-6, Entropy=0.00195]\n",
      "Epoch #412: 100%|██████████| 10/10 [00:00<00:00, 999.91it/s, Mean reward=4.16, Mean PGN Loss=-1.89e-6, Entropy=0.00195]\n",
      "Epoch #413: 100%|██████████| 10/10 [00:00<00:00, 1111.25it/s, Mean reward=4.16, Mean PGN Loss=-1.86e-6, Entropy=0.00195]\n",
      "Epoch #414: 100%|██████████| 10/10 [00:00<00:00, 1111.28it/s, Mean reward=4.16, Mean PGN Loss=-1.85e-6, Entropy=0.00195]\n",
      "Epoch #415: 100%|██████████| 10/10 [00:00<00:00, 1111.31it/s, Mean reward=4.16, Mean PGN Loss=-1.86e-6, Entropy=0.00195]\n",
      "Epoch #416: 100%|██████████| 10/10 [00:00<00:00, 1110.90it/s, Mean reward=4.16, Mean PGN Loss=-1.88e-6, Entropy=0.00195]\n",
      "Epoch #417: 100%|██████████| 10/10 [00:00<00:00, 1111.04it/s, Mean reward=4.16, Mean PGN Loss=-1.9e-6, Entropy=0.00195]\n",
      "Epoch #418: 100%|██████████| 10/10 [00:00<00:00, 1111.07it/s, Mean reward=4.16, Mean PGN Loss=-1.92e-6, Entropy=0.00195]\n",
      "Epoch #419: 100%|██████████| 10/10 [00:00<00:00, 1111.10it/s, Mean reward=4.16, Mean PGN Loss=-1.94e-6, Entropy=0.00195]\n",
      "Epoch #420: 100%|██████████| 10/10 [00:00<00:00, 1249.83it/s, Mean reward=4.16, Mean PGN Loss=-1.95e-6, Entropy=0.00195]\n"
     ]
    },
    {
     "name": "stdout",
     "output_type": "stream",
     "text": [
      "EVAL:  45\n"
     ]
    },
    {
     "name": "stderr",
     "output_type": "stream",
     "text": [
      "Epoch #421: 100%|██████████| 10/10 [00:00<00:00, 1250.13it/s, Mean reward=4.16, Mean PGN Loss=-1.96e-6, Entropy=0.00195]\n",
      "Epoch #422: 100%|██████████| 10/10 [00:00<00:00, 1249.61it/s, Mean reward=4.16, Mean PGN Loss=-1.96e-6, Entropy=0.00195]\n",
      "Epoch #423: 100%|██████████| 10/10 [00:00<00:00, 1000.02it/s, Mean reward=4.16, Mean PGN Loss=-1.96e-6, Entropy=0.00195]\n",
      "Epoch #424: 100%|██████████| 10/10 [00:00<00:00, 1000.26it/s, Mean reward=4.16, Mean PGN Loss=-1.96e-6, Entropy=0.00195]\n",
      "Epoch #425: 100%|██████████| 10/10 [00:00<00:00, 1250.05it/s, Mean reward=4.16, Mean PGN Loss=-1.96e-6, Entropy=0.00195]\n",
      "Epoch #426: 100%|██████████| 10/10 [00:00<00:00, 1250.39it/s, Mean reward=4.16, Mean PGN Loss=-1.96e-6, Entropy=0.00195]\n",
      "Epoch #427: 100%|██████████| 10/10 [00:00<00:00, 999.50it/s, Mean reward=4.16, Mean PGN Loss=-1.96e-6, Entropy=0.00195] \n",
      "Epoch #428: 100%|██████████| 10/10 [00:00<00:00, 1250.35it/s, Mean reward=4.16, Mean PGN Loss=-1.96e-6, Entropy=0.00195]\n",
      "Epoch #429: 100%|██████████| 10/10 [00:00<00:00, 1110.87it/s, Mean reward=4.16, Mean PGN Loss=-1.95e-6, Entropy=0.00195]\n",
      "Epoch #430: 100%|██████████| 10/10 [00:00<00:00, 1111.63it/s, Mean reward=4.16, Mean PGN Loss=-1.95e-6, Entropy=0.00195]\n"
     ]
    },
    {
     "name": "stdout",
     "output_type": "stream",
     "text": [
      "EVAL:  45\n"
     ]
    },
    {
     "name": "stderr",
     "output_type": "stream",
     "text": [
      "Epoch #431: 100%|██████████| 10/10 [00:00<00:00, 1111.40it/s, Mean reward=4.16, Mean PGN Loss=-1.94e-6, Entropy=0.00195]\n",
      "Epoch #432: 100%|██████████| 10/10 [00:00<00:00, 1110.90it/s, Mean reward=4.16, Mean PGN Loss=-1.93e-6, Entropy=0.00195]\n",
      "Epoch #433: 100%|██████████| 10/10 [00:00<00:00, 1111.37it/s, Mean reward=4.16, Mean PGN Loss=-1.93e-6, Entropy=0.00195]\n",
      "Epoch #434: 100%|██████████| 10/10 [00:00<00:00, 1250.09it/s, Mean reward=4.16, Mean PGN Loss=-1.93e-6, Entropy=0.00195]\n",
      "Epoch #435: 100%|██████████| 10/10 [00:00<00:00, 1249.94it/s, Mean reward=4.16, Mean PGN Loss=-1.93e-6, Entropy=0.00195]\n",
      "Epoch #436: 100%|██████████| 10/10 [00:00<00:00, 1111.19it/s, Mean reward=4.16, Mean PGN Loss=-1.93e-6, Entropy=0.00195]\n",
      "Epoch #437: 100%|██████████| 10/10 [00:00<00:00, 1249.72it/s, Mean reward=4.16, Mean PGN Loss=-1.94e-6, Entropy=0.00195]\n",
      "Epoch #438: 100%|██████████| 10/10 [00:00<00:00, 1111.02it/s, Mean reward=4.16, Mean PGN Loss=-1.95e-6, Entropy=0.00195]\n",
      "Epoch #439: 100%|██████████| 10/10 [00:00<00:00, 1428.29it/s, Mean reward=4.16, Mean PGN Loss=-1.95e-6, Entropy=0.00195]\n",
      "Epoch #440: 100%|██████████| 10/10 [00:00<00:00, 1110.34it/s, Mean reward=4.16, Mean PGN Loss=-1.95e-6, Entropy=0.00195]\n"
     ]
    },
    {
     "name": "stdout",
     "output_type": "stream",
     "text": [
      "EVAL:  45\n"
     ]
    },
    {
     "name": "stderr",
     "output_type": "stream",
     "text": [
      "Epoch #441: 100%|██████████| 10/10 [00:00<00:00, 1249.94it/s, Mean reward=4.16, Mean PGN Loss=-1.96e-6, Entropy=0.00195]\n",
      "Epoch #442: 100%|██████████| 10/10 [00:00<00:00, 1000.26it/s, Mean reward=4.16, Mean PGN Loss=-1.96e-6, Entropy=0.00195]\n",
      "Epoch #443: 100%|██████████| 10/10 [00:00<00:00, 1250.46it/s, Mean reward=4.16, Mean PGN Loss=-1.96e-6, Entropy=0.00195]\n",
      "Epoch #444: 100%|██████████| 10/10 [00:00<00:00, 1250.31it/s, Mean reward=4.16, Mean PGN Loss=-1.96e-6, Entropy=0.00195]\n",
      "Epoch #445: 100%|██████████| 10/10 [00:00<00:00, 1111.31it/s, Mean reward=4.16, Mean PGN Loss=-1.96e-6, Entropy=0.00195]\n",
      "Epoch #446: 100%|██████████| 10/10 [00:00<00:00, 1111.07it/s, Mean reward=4.16, Mean PGN Loss=-1.96e-6, Entropy=0.00195]\n",
      "Epoch #447: 100%|██████████| 10/10 [00:00<00:00, 1250.24it/s, Mean reward=4.16, Mean PGN Loss=-1.95e-6, Entropy=0.00195]\n",
      "Epoch #448: 100%|██████████| 10/10 [00:00<00:00, 1249.98it/s, Mean reward=4.16, Mean PGN Loss=-1.95e-6, Entropy=0.00195]\n",
      "Epoch #449: 100%|██████████| 10/10 [00:00<00:00, 1110.81it/s, Mean reward=4.16, Mean PGN Loss=-1.95e-6, Entropy=0.00195]\n",
      "Epoch #450: 100%|██████████| 10/10 [00:00<00:00, 1110.31it/s, Mean reward=4.16, Mean PGN Loss=-1.95e-6, Entropy=0.00195]\n"
     ]
    },
    {
     "name": "stdout",
     "output_type": "stream",
     "text": [
      "EVAL:  45\n"
     ]
    },
    {
     "name": "stderr",
     "output_type": "stream",
     "text": [
      "Epoch #451: 100%|██████████| 10/10 [00:00<00:00, 1250.20it/s, Mean reward=4.16, Mean PGN Loss=-1.95e-6, Entropy=0.00195]\n",
      "Epoch #452: 100%|██████████| 10/10 [00:00<00:00, 1110.93it/s, Mean reward=4.16, Mean PGN Loss=-1.94e-6, Entropy=0.00195]\n",
      "Epoch #453: 100%|██████████| 10/10 [00:00<00:00, 1250.20it/s, Mean reward=4.16, Mean PGN Loss=-1.94e-6, Entropy=0.00195]\n",
      "Epoch #454: 100%|██████████| 10/10 [00:00<00:00, 1111.16it/s, Mean reward=4.16, Mean PGN Loss=-1.95e-6, Entropy=0.00195]\n",
      "Epoch #455: 100%|██████████| 10/10 [00:00<00:00, 999.83it/s, Mean reward=4.16, Mean PGN Loss=-1.95e-6, Entropy=0.00195] \n",
      "Epoch #456: 100%|██████████| 10/10 [00:00<00:00, 1111.43it/s, Mean reward=4.16, Mean PGN Loss=-1.95e-6, Entropy=0.00195]\n",
      "Epoch #457: 100%|██████████| 10/10 [00:00<00:00, 1111.22it/s, Mean reward=4.16, Mean PGN Loss=-1.95e-6, Entropy=0.00195]\n",
      "Epoch #458: 100%|██████████| 10/10 [00:00<00:00, 1111.22it/s, Mean reward=4.16, Mean PGN Loss=-1.95e-6, Entropy=0.00195]\n",
      "Epoch #459: 100%|██████████| 10/10 [00:00<00:00, 1111.16it/s, Mean reward=4.16, Mean PGN Loss=-1.95e-6, Entropy=0.00195]\n",
      "Epoch #460: 100%|██████████| 10/10 [00:00<00:00, 1111.07it/s, Mean reward=4.16, Mean PGN Loss=-1.96e-6, Entropy=0.00195]\n"
     ]
    },
    {
     "name": "stdout",
     "output_type": "stream",
     "text": [
      "EVAL:  45\n"
     ]
    },
    {
     "name": "stderr",
     "output_type": "stream",
     "text": [
      "Epoch #461: 100%|██████████| 10/10 [00:00<00:00, 1111.25it/s, Mean reward=4.16, Mean PGN Loss=-1.96e-6, Entropy=0.00195]\n",
      "Epoch #462: 100%|██████████| 10/10 [00:00<00:00, 999.74it/s, Mean reward=4.16, Mean PGN Loss=-1.96e-6, Entropy=0.00195] \n",
      "Epoch #463: 100%|██████████| 10/10 [00:00<00:00, 1111.40it/s, Mean reward=4.16, Mean PGN Loss=-1.96e-6, Entropy=0.00195]\n",
      "Epoch #464: 100%|██████████| 10/10 [00:00<00:00, 1250.28it/s, Mean reward=4.16, Mean PGN Loss=-1.96e-6, Entropy=0.00195]\n",
      "Epoch #465: 100%|██████████| 10/10 [00:00<00:00, 1250.02it/s, Mean reward=4.16, Mean PGN Loss=-1.96e-6, Entropy=0.00195]\n",
      "Epoch #466: 100%|██████████| 10/10 [00:00<00:00, 1249.87it/s, Mean reward=4.16, Mean PGN Loss=-1.95e-6, Entropy=0.00195]\n",
      "Epoch #467: 100%|██████████| 10/10 [00:00<00:00, 1111.13it/s, Mean reward=4.16, Mean PGN Loss=-1.95e-6, Entropy=0.00195]\n",
      "Epoch #468: 100%|██████████| 10/10 [00:00<00:00, 1250.05it/s, Mean reward=4.16, Mean PGN Loss=-1.95e-6, Entropy=0.00195]\n",
      "Epoch #469: 100%|██████████| 10/10 [00:00<00:00, 1111.10it/s, Mean reward=4.16, Mean PGN Loss=-1.95e-6, Entropy=0.00195]\n",
      "Epoch #470: 100%|██████████| 10/10 [00:00<00:00, 1111.13it/s, Mean reward=4.16, Mean PGN Loss=-1.95e-6, Entropy=0.00195]\n"
     ]
    },
    {
     "name": "stdout",
     "output_type": "stream",
     "text": [
      "EVAL:  45\n"
     ]
    },
    {
     "name": "stderr",
     "output_type": "stream",
     "text": [
      "Epoch #471: 100%|██████████| 10/10 [00:00<00:00, 1249.98it/s, Mean reward=4.16, Mean PGN Loss=-1.95e-6, Entropy=0.00195]\n",
      "Epoch #472: 100%|██████████| 10/10 [00:00<00:00, 1000.14it/s, Mean reward=4.16, Mean PGN Loss=-1.95e-6, Entropy=0.00195]\n",
      "Epoch #473: 100%|██████████| 10/10 [00:00<00:00, 1250.20it/s, Mean reward=4.16, Mean PGN Loss=-1.95e-6, Entropy=0.00195]\n",
      "Epoch #474: 100%|██████████| 10/10 [00:00<00:00, 1250.13it/s, Mean reward=4.16, Mean PGN Loss=-1.95e-6, Entropy=0.00195]\n",
      "Epoch #475: 100%|██████████| 10/10 [00:00<00:00, 1111.28it/s, Mean reward=4.16, Mean PGN Loss=-1.95e-6, Entropy=0.00195]\n",
      "Epoch #476: 100%|██████████| 10/10 [00:00<00:00, 1111.07it/s, Mean reward=4.16, Mean PGN Loss=-1.95e-6, Entropy=0.00195]\n",
      "Epoch #477: 100%|██████████| 10/10 [00:00<00:00, 1250.17it/s, Mean reward=4.16, Mean PGN Loss=-1.95e-6, Entropy=0.00195]\n",
      "Epoch #478: 100%|██████████| 10/10 [00:00<00:00, 1249.83it/s, Mean reward=4.16, Mean PGN Loss=-1.95e-6, Entropy=0.00195]\n",
      "Epoch #479: 100%|██████████| 10/10 [00:00<00:00, 1111.34it/s, Mean reward=4.16, Mean PGN Loss=-1.95e-6, Entropy=0.00195]\n",
      "Epoch #480: 100%|██████████| 10/10 [00:00<00:00, 1248.27it/s, Mean reward=4.16, Mean PGN Loss=-1.96e-6, Entropy=0.00195]\n"
     ]
    },
    {
     "name": "stdout",
     "output_type": "stream",
     "text": [
      "EVAL:  45\n"
     ]
    },
    {
     "name": "stderr",
     "output_type": "stream",
     "text": [
      "Epoch #481: 100%|██████████| 10/10 [00:00<00:00, 1111.28it/s, Mean reward=4.16, Mean PGN Loss=-1.96e-6, Entropy=0.00195]\n",
      "Epoch #482: 100%|██████████| 10/10 [00:00<00:00, 1051.20it/s, Mean reward=4.16, Mean PGN Loss=-1.96e-6, Entropy=0.00195]\n",
      "Epoch #483: 100%|██████████| 10/10 [00:00<00:00, 1250.17it/s, Mean reward=4.16, Mean PGN Loss=-1.95e-6, Entropy=0.00195]\n",
      "Epoch #484: 100%|██████████| 10/10 [00:00<00:00, 1111.22it/s, Mean reward=4.16, Mean PGN Loss=-1.95e-6, Entropy=0.00195]\n",
      "Epoch #485: 100%|██████████| 10/10 [00:00<00:00, 1111.07it/s, Mean reward=4.16, Mean PGN Loss=-1.95e-6, Entropy=0.00195]\n",
      "Epoch #486: 100%|██████████| 10/10 [00:00<00:00, 1111.16it/s, Mean reward=4.16, Mean PGN Loss=-1.95e-6, Entropy=0.00195]\n",
      "Epoch #487: 100%|██████████| 10/10 [00:00<00:00, 1250.09it/s, Mean reward=4.16, Mean PGN Loss=-1.95e-6, Entropy=0.00195]\n",
      "Epoch #488: 100%|██████████| 10/10 [00:00<00:00, 1111.13it/s, Mean reward=4.16, Mean PGN Loss=-1.95e-6, Entropy=0.00195]\n",
      "Epoch #489: 100%|██████████| 10/10 [00:00<00:00, 1111.07it/s, Mean reward=4.16, Mean PGN Loss=-1.95e-6, Entropy=0.00195]\n",
      "Epoch #490: 100%|██████████| 10/10 [00:00<00:00, 1051.63it/s, Mean reward=4.16, Mean PGN Loss=-1.95e-6, Entropy=0.00195]\n"
     ]
    },
    {
     "name": "stdout",
     "output_type": "stream",
     "text": [
      "EVAL:  45\n"
     ]
    },
    {
     "name": "stderr",
     "output_type": "stream",
     "text": [
      "Epoch #491: 100%|██████████| 10/10 [00:00<00:00, 1111.25it/s, Mean reward=4.16, Mean PGN Loss=-1.95e-6, Entropy=0.00195]\n",
      "Epoch #492: 100%|██████████| 10/10 [00:00<00:00, 999.91it/s, Mean reward=4.16, Mean PGN Loss=-1.95e-6, Entropy=0.00195] \n",
      "Epoch #493: 100%|██████████| 10/10 [00:00<00:00, 1111.31it/s, Mean reward=4.16, Mean PGN Loss=-1.95e-6, Entropy=0.00195]\n",
      "Epoch #494: 100%|██████████| 10/10 [00:00<00:00, 1111.22it/s, Mean reward=4.16, Mean PGN Loss=-1.95e-6, Entropy=0.00195]\n",
      "Epoch #495: 100%|██████████| 10/10 [00:00<00:00, 1250.31it/s, Mean reward=4.16, Mean PGN Loss=-1.95e-6, Entropy=0.00195]\n",
      "Epoch #496: 100%|██████████| 10/10 [00:00<00:00, 1249.94it/s, Mean reward=4.16, Mean PGN Loss=-1.95e-6, Entropy=0.00195]\n",
      "Epoch #497: 100%|██████████| 10/10 [00:00<00:00, 1250.09it/s, Mean reward=4.16, Mean PGN Loss=-1.95e-6, Entropy=0.00195]\n",
      "Epoch #498: 100%|██████████| 10/10 [00:00<00:00, 1111.10it/s, Mean reward=4.16, Mean PGN Loss=-1.96e-6, Entropy=0.00195]\n",
      "Epoch #499: 100%|██████████| 10/10 [00:00<00:00, 1110.90it/s, Mean reward=4.16, Mean PGN Loss=-1.96e-6, Entropy=0.00195]\n",
      "Epoch #500: 100%|██████████| 10/10 [00:00<00:00, 1111.28it/s, Mean reward=4.16, Mean PGN Loss=-1.96e-6, Entropy=0.00195]"
     ]
    },
    {
     "name": "stdout",
     "output_type": "stream",
     "text": [
      "EVAL:  45\n"
     ]
    },
    {
     "name": "stderr",
     "output_type": "stream",
     "text": [
      "\n"
     ]
    }
   ],
   "source": [
    "from copy import copy\n",
    "\n",
    "start_time = time.time()\n",
    "time_shift = 0 if len(log_data[\"Time\"]) == 0 else log_data[\"Time\"][-1]\n",
    "epoch_shift = 0 if len(log_data[\"Epoch\"]) == 0 else log_data[\"Epoch\"][-1]\n",
    "\n",
    "statistics_deleted_dicts = []\n",
    "best_info_dict = {}\n",
    "\n",
    "pgn.train()\n",
    "for i in range(1 + epoch_shift, 1 + EPOCHS):\n",
    "    state = env.reset()\n",
    "    buffer = TrajectoryBuffer()\n",
    "    env_states_buf, env_rew_act_buf = [], []\n",
    "    ep_rewards = []\n",
    "    done_episodes = 0\n",
    "\n",
    "    train_rewards = []\n",
    "    train_ep_len = []\n",
    "    statistics_dicts = []\n",
    "\n",
    "    epoch_loop = tqdm(total=EPISODES_BATCH, desc=f\"Epoch #{i}\", position=0)\n",
    "\n",
    "    while done_episodes < EPISODES_BATCH:\n",
    "        with torch.no_grad():\n",
    "            state_tensor = torch.tensor(state, dtype=torch.float32, device=DEVICE)\n",
    "            action_logits = pgn(state_tensor)[0]\n",
    "\n",
    "        action = agent.choose_action(action_logits)\n",
    "        state2, reward, done = env.step(action)\n",
    "\n",
    "        env_states_buf.append(copy(state))\n",
    "        env_rew_act_buf.append([reward, int(action)])\n",
    "\n",
    "        state = copy(state2)\n",
    "\n",
    "        ep_rewards.append(reward)\n",
    "\n",
    "        if done:\n",
    "            buffer.store(\n",
    "                np.array(env_states_buf),\n",
    "                np.array(env_rew_act_buf),\n",
    "            )\n",
    "            env_states_buf, env_rew_act_buf = [], []\n",
    "\n",
    "            train_rewards.append(np.sum(ep_rewards))\n",
    "            train_ep_len.append(len(ep_rewards))\n",
    "\n",
    "            state = env.reset()\n",
    "            ep_rewards = []\n",
    "            done_episodes += 1\n",
    "            epoch_loop.update(1)\n",
    "\n",
    "    state_batch, action_batch, reward_batch = buffer.get_batch()\n",
    "\n",
    "    # Update PGN\n",
    "    pgn_optimizer.zero_grad()\n",
    "    states_t = torch.FloatTensor(np.array(state_batch)).to(DEVICE)\n",
    "    batch_actions_t = torch.LongTensor(action_batch).to(DEVICE)\n",
    "    batch_cum_rewards_t = torch.FloatTensor(reward_batch).to(DEVICE)\n",
    "\n",
    "    logits_v, value_v = pgn(states_t)\n",
    "\n",
    "    # Value loss\n",
    "    loss_value_v = F.mse_loss(value_v.squeeze(-1), batch_cum_rewards_t)\n",
    "\n",
    "    # Policy loss\n",
    "    log_prob_v = F.log_softmax(logits_v, dim=1)\n",
    "    adv_v = batch_cum_rewards_t - value_v.detach()\n",
    "    log_prob_actions_v = adv_v * log_prob_v[range(len(states_t)), batch_actions_t]\n",
    "    loss_policy_v = -log_prob_actions_v.mean()\n",
    "\n",
    "    # Entropy loss\n",
    "    prob_v = F.softmax(logits_v, dim=1)\n",
    "    entropy_v = (prob_v * log_prob_v).sum(dim=1).mean()\n",
    "    entropy_loss_v = ENTROPY_BETA * entropy_v\n",
    "\n",
    "    # Policy backward\n",
    "    loss_policy_v.backward(retain_graph=True)\n",
    "\n",
    "    # Value backward\n",
    "    loss_v = entropy_loss_v + loss_value_v\n",
    "    loss_v.backward()\n",
    "\n",
    "    if PGN_CLIP_GRAD > 0:\n",
    "        nn.utils.clip_grad_norm_(pgn.parameters(), PGN_CLIP_GRAD)\n",
    "    pgn_optimizer.step()\n",
    "\n",
    "    loss_v += loss_policy_v\n",
    "\n",
    "    # logging\n",
    "\n",
    "    torch.cuda.synchronize()\n",
    "    elapsed_time = time.time() - start_time + time_shift\n",
    "\n",
    "    if len(statistics_dicts) > 0:\n",
    "        for k in statistics_dicts[0]:\n",
    "            statistics[k].append(np.mean([d[k] for d in statistics_dicts]))\n",
    "\n",
    "    log_data[\"Epoch\"].append(i)\n",
    "    log_data[\"Time\"].append(elapsed_time)\n",
    "    log_data[\"Mean Reward\"].append(np.mean(train_rewards))\n",
    "    log_data[\"Mean Episode Length\"].append(np.mean(train_ep_len))\n",
    "    log_data[\"Mean PGN Loss\"].append(loss_v.item())\n",
    "    log_data[\"Mean PGN Policy Loss\"].append(loss_policy_v.item())\n",
    "    log_data[\"Mean PGN Value Loss\"].append(loss_value_v.item())\n",
    "    log_data[\"Entropy\"].append(-entropy_v.item())\n",
    "\n",
    "    epoch_loop.set_postfix(\n",
    "        {\n",
    "            \"Mean reward\": log_data[\"Mean Reward\"][-1],\n",
    "            \"Mean PGN Loss\": log_data[\"Mean PGN Loss\"][-1],\n",
    "            \"Entropy\": log_data[\"Entropy\"][-1],\n",
    "        }\n",
    "    )\n",
    "    epoch_loop.close()\n",
    "\n",
    "    evaluate\n",
    "    if i % EVAL_PERIOD == 0 or i == EPOCHS:\n",
    "        evaluate(\n",
    "            pgn, agent, env\n",
    "        )\n",
    "        pgn.train()\n",
    "\n",
    "        # logging\n",
    "        # mean_test_loss = np.mean(test_losses)\n",
    "        # log_data[\"Mean Test Loss\"].append(mean_test_loss)\n",
    "        # log_data[\"Eval Epoch\"].append(i)\n",
    "        # log_data[\"Eval Time\"].append(elapsed_time)\n",
    "\n",
    "    # # log\n",
    "    # if i % LOG_PERIOD == 0 or i == EPOCHS:\n",
    "        \n",
    "    #     ## plots\n",
    "    #     LOGGER.save(\n",
    "    #         \"\",\n",
    "    #         \"plots\",\n",
    "    #         {\n",
    "    #             \"Epoch\": log_data[\"Epoch\"],\n",
    "    #             \"Time\": log_data[\"Time\"],\n",
    "    #             \"Eval Epoch\": log_data[\"Eval Epoch\"],\n",
    "    #             \"Eval Time\": log_data[\"Eval Time\"],\n",
    "    #             \"Mean Reward\": moving_average(log_data[\"Mean Reward\"]),\n",
    "    #             \"Mean PGN Policy Loss\": moving_average(log_data[\"Mean PGN Policy Loss\"]),\n",
    "    #             \"Mean PGN Value Loss\": moving_average(log_data[\"Mean PGN Value Loss\"]),\n",
    "    #             \"Mean PGN Loss\": moving_average(log_data[\"Mean PGN Loss\"]),\n",
    "    #             \"Mean Test Loss\": log_data[\"Mean Test Loss\"],\n",
    "    #         },\n",
    "    #     )"
   ]
  },
  {
   "cell_type": "code",
   "execution_count": 23,
   "id": "e1b96b6e",
   "metadata": {},
   "outputs": [
    {
     "ename": "IndexError",
     "evalue": "list index out of range",
     "output_type": "error",
     "traceback": [
      "\u001b[1;31m---------------------------------------------------------------------------\u001b[0m",
      "\u001b[1;31mIndexError\u001b[0m                                Traceback (most recent call last)",
      "Cell \u001b[1;32mIn[23], line 15\u001b[0m\n\u001b[0;32m      1\u001b[0m plots_data \u001b[38;5;241m=\u001b[39m {\n\u001b[0;32m      2\u001b[0m     \u001b[38;5;124m\"\u001b[39m\u001b[38;5;124mEpoch\u001b[39m\u001b[38;5;124m\"\u001b[39m: log_data[\u001b[38;5;124m\"\u001b[39m\u001b[38;5;124mEpoch\u001b[39m\u001b[38;5;124m\"\u001b[39m],\n\u001b[0;32m      3\u001b[0m     \u001b[38;5;124m\"\u001b[39m\u001b[38;5;124mTime\u001b[39m\u001b[38;5;124m\"\u001b[39m: log_data[\u001b[38;5;124m\"\u001b[39m\u001b[38;5;124mTime\u001b[39m\u001b[38;5;124m\"\u001b[39m],\n\u001b[1;32m   (...)\u001b[0m\n\u001b[0;32m     10\u001b[0m     \u001b[38;5;124m\"\u001b[39m\u001b[38;5;124mMean Test Loss\u001b[39m\u001b[38;5;124m\"\u001b[39m: log_data[\u001b[38;5;124m\"\u001b[39m\u001b[38;5;124mMean Test Loss\u001b[39m\u001b[38;5;124m\"\u001b[39m],\n\u001b[0;32m     11\u001b[0m }\n\u001b[0;32m     13\u001b[0m plots \u001b[38;5;241m=\u001b[39m LOGGER\u001b[38;5;241m.\u001b[39mlog_plots\n\u001b[1;32m---> 15\u001b[0m \u001b[43mdraw_plots\u001b[49m\u001b[43m(\u001b[49m\n\u001b[0;32m     16\u001b[0m \u001b[43m    \u001b[49m\u001b[43mplots_data\u001b[49m\u001b[43m,\u001b[49m\n\u001b[0;32m     17\u001b[0m \u001b[43m    \u001b[49m\u001b[43mplots\u001b[49m\u001b[43m,\u001b[49m\n\u001b[0;32m     18\u001b[0m \u001b[43m    \u001b[49m\u001b[43mplot_width\u001b[49m\u001b[38;5;241;43m=\u001b[39;49m\u001b[38;5;241;43m8\u001b[39;49m\u001b[43m,\u001b[49m\n\u001b[0;32m     19\u001b[0m \u001b[43m    \u001b[49m\u001b[43mplot_height\u001b[49m\u001b[38;5;241;43m=\u001b[39;49m\u001b[38;5;241;43m4\u001b[39;49m\u001b[43m,\u001b[49m\n\u001b[0;32m     20\u001b[0m \u001b[43m    \u001b[49m\u001b[43mrow_plots\u001b[49m\u001b[38;5;241;43m=\u001b[39;49m\u001b[38;5;241;43m2\u001b[39;49m\u001b[43m,\u001b[49m\n\u001b[0;32m     21\u001b[0m \u001b[43m)\u001b[49m\n",
      "Cell \u001b[1;32mIn[5], line 120\u001b[0m, in \u001b[0;36mdraw_plots\u001b[1;34m(data_dict, plots, title, ylim, row_plots, plot_width, plot_height, use_rainbow, use_common_legend, adjust)\u001b[0m\n\u001b[0;32m    108\u001b[0m \u001b[38;5;28;01mdef\u001b[39;00m\u001b[38;5;250m \u001b[39m\u001b[38;5;21mdraw_plots\u001b[39m(\n\u001b[0;32m    109\u001b[0m     data_dict: \u001b[38;5;28mdict\u001b[39m,\n\u001b[0;32m    110\u001b[0m     plots: \u001b[38;5;28mlist\u001b[39m[\u001b[38;5;28mtuple\u001b[39m[\u001b[38;5;28mdict\u001b[39m, \u001b[38;5;28mdict\u001b[39m]],\n\u001b[1;32m   (...)\u001b[0m\n\u001b[0;32m    118\u001b[0m     adjust: \u001b[38;5;28mbool\u001b[39m \u001b[38;5;241m=\u001b[39m \u001b[38;5;28;01mFalse\u001b[39;00m,\n\u001b[0;32m    119\u001b[0m ):\n\u001b[1;32m--> 120\u001b[0m     \u001b[43mget_plots\u001b[49m\u001b[43m(\u001b[49m\n\u001b[0;32m    121\u001b[0m \u001b[43m        \u001b[49m\u001b[43mdata_dict\u001b[49m\u001b[43m,\u001b[49m\n\u001b[0;32m    122\u001b[0m \u001b[43m        \u001b[49m\u001b[43mplots\u001b[49m\u001b[43m,\u001b[49m\n\u001b[0;32m    123\u001b[0m \u001b[43m        \u001b[49m\u001b[43mtitle\u001b[49m\u001b[43m,\u001b[49m\n\u001b[0;32m    124\u001b[0m \u001b[43m        \u001b[49m\u001b[43mylim\u001b[49m\u001b[43m,\u001b[49m\n\u001b[0;32m    125\u001b[0m \u001b[43m        \u001b[49m\u001b[43mrow_plots\u001b[49m\u001b[43m,\u001b[49m\n\u001b[0;32m    126\u001b[0m \u001b[43m        \u001b[49m\u001b[43mplot_width\u001b[49m\u001b[43m,\u001b[49m\n\u001b[0;32m    127\u001b[0m \u001b[43m        \u001b[49m\u001b[43mplot_height\u001b[49m\u001b[43m,\u001b[49m\n\u001b[0;32m    128\u001b[0m \u001b[43m        \u001b[49m\u001b[43muse_rainbow\u001b[49m\u001b[43m,\u001b[49m\n\u001b[0;32m    129\u001b[0m \u001b[43m        \u001b[49m\u001b[43muse_common_legend\u001b[49m\u001b[43m,\u001b[49m\n\u001b[0;32m    130\u001b[0m \u001b[43m        \u001b[49m\u001b[43madjust\u001b[49m\u001b[43m,\u001b[49m\n\u001b[0;32m    131\u001b[0m \u001b[43m    \u001b[49m\u001b[43m)\u001b[49m\n\u001b[0;32m    132\u001b[0m     plt\u001b[38;5;241m.\u001b[39mshow()\n",
      "Cell \u001b[1;32mIn[5], line 69\u001b[0m, in \u001b[0;36mget_plots\u001b[1;34m(data_dict, plots, title, ylim, row_plots, plot_width, plot_height, use_rainbow, use_common_legend, adjust)\u001b[0m\n\u001b[0;32m     67\u001b[0m     y_values \u001b[38;5;241m=\u001b[39m data_dict[p2\u001b[38;5;241m.\u001b[39mget(\u001b[38;5;124m\"\u001b[39m\u001b[38;5;124mref\u001b[39m\u001b[38;5;124m\"\u001b[39m, \u001b[38;5;28;01mNone\u001b[39;00m) \u001b[38;5;129;01mor\u001b[39;00m p2[\u001b[38;5;124m\"\u001b[39m\u001b[38;5;124maxis_name\u001b[39m\u001b[38;5;124m\"\u001b[39m]]\n\u001b[0;32m     68\u001b[0m     ax\u001b[38;5;241m.\u001b[39mplot(x_values, y_values, label\u001b[38;5;241m=\u001b[39mp2[\u001b[38;5;124m\"\u001b[39m\u001b[38;5;124maxis_name\u001b[39m\u001b[38;5;124m\"\u001b[39m])\n\u001b[1;32m---> 69\u001b[0m     ax\u001b[38;5;241m.\u001b[39mscatter(\u001b[43mx_values\u001b[49m\u001b[43m[\u001b[49m\u001b[38;5;241;43m-\u001b[39;49m\u001b[38;5;241;43m1\u001b[39;49m\u001b[43m]\u001b[49m, y_values[\u001b[38;5;241m-\u001b[39m\u001b[38;5;241m1\u001b[39m], s\u001b[38;5;241m=\u001b[39m\u001b[38;5;241m15\u001b[39m)\n\u001b[0;32m     70\u001b[0m     \u001b[38;5;28;01mcontinue\u001b[39;00m\n\u001b[0;32m     72\u001b[0m \u001b[38;5;28;01mfor\u001b[39;00m p2v \u001b[38;5;129;01min\u001b[39;00m p2vs:\n",
      "\u001b[1;31mIndexError\u001b[0m: list index out of range"
     ]
    },
    {
     "data": {
      "image/png": "[encoded data removed]",
      "text/plain": [
       "<Figure size 1600x1600 with 8 Axes>"
      ]
     },
     "metadata": {},
     "output_type": "display_data"
    }
   ],
   "source": [
    "plots_data = {\n",
    "    \"Epoch\": log_data[\"Epoch\"],\n",
    "    \"Time\": log_data[\"Time\"],\n",
    "    \"Eval Epoch\": log_data[\"Eval Epoch\"],\n",
    "    \"Eval Time\": log_data[\"Eval Time\"],\n",
    "    \"Mean Reward\": moving_average(log_data[\"Mean Reward\"]),\n",
    "    \"Mean PGN Loss\": moving_average(log_data[\"Mean PGN Loss\"]),\n",
    "    \"Mean PGN Policy Loss\": moving_average(log_data[\"Mean PGN Policy Loss\"]),\n",
    "    \"Mean PGN Value Loss\": moving_average(log_data[\"Mean PGN Value Loss\"]),\n",
    "    \"Mean Test Loss\": log_data[\"Mean Test Loss\"],\n",
    "}\n",
    "\n",
    "plots = LOGGER.log_plots\n",
    "\n",
    "draw_plots(\n",
    "    plots_data,\n",
    "    plots,\n",
    "    plot_width=8,\n",
    "    plot_height=4,\n",
    "    row_plots=2,\n",
    ")"
   ]
  },
  {
   "cell_type": "code",
   "execution_count": null,
   "id": "95a5ab97",
   "metadata": {},
   "outputs": [],
   "source": []
  }
 ],
 "metadata": {
  "kernelspec": {
   "display_name": ".venv",
   "language": "python",
   "name": "python3"
  },
  "language_info": {
   "codemirror_mode": {
    "name": "ipython",
    "version": 3
   },
   "file_extension": ".py",
   "mimetype": "text/x-python",
   "name": "python",
   "nbconvert_exporter": "python",
   "pygments_lexer": "ipython3",
   "version": "3.12.2"
  }
 },
 "nbformat": 4,
 "nbformat_minor": 5
}
